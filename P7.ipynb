{
 "cells": [
  {
   "cell_type": "code",
   "execution_count": 1,
   "id": "3544d48c-ccf4-4e8f-8169-3652a1103aa6",
   "metadata": {},
   "outputs": [
    {
     "name": "stdin",
     "output_type": "stream",
     "text": [
      "Enter a number 5\n"
     ]
    },
    {
     "name": "stdout",
     "output_type": "stream",
     "text": [
      "5 is an armstrong number.\n"
     ]
    }
   ],
   "source": [
    "# Write a Python Program to Check Armstrong Number?\n",
    "# For the number 153:\n",
    "\n",
    "    # Number of digits = 3\n",
    "\n",
    "    # Calculation: 13+53+33=1+125+27=15313+53+33=1+125+27=153\n",
    "\n",
    "# Since the sum equals the original number, 153 is an Armstrong number.\n",
    "\n",
    "# Let me know if you need further assistance or explanations\n",
    "\n",
    "num = int(input(\"Enter a number\"))\n",
    "num_str = str(num)\n",
    "num_digits = len(num_str)\n",
    "sum_of_powers = 0\n",
    "temp_num = num\n",
    "while temp_num > 0:\n",
    "    digit = temp_num % 10\n",
    "    sum_of_powers +=digit ** num_digits\n",
    "    temp_num //=10\n",
    "if sum_of_powers == num:\n",
    "    print(f\"{num} is an armstrong number.\")\n",
    "else:\n",
    "    print(f\"{num} is not an armstrong number.\")\n",
    "\n"
   ]
  },
  {
   "cell_type": "code",
   "execution_count": 2,
   "id": "30f013a3-385e-43f6-a8a6-d202d355be02",
   "metadata": {},
   "outputs": [
    {
     "name": "stdin",
     "output_type": "stream",
     "text": [
      "Enter the lower limit of the interval: 66\n",
      "Enter the upper limit of the interval: 6\n"
     ]
    }
   ],
   "source": [
    "# Write a Python Program to Find Armstrong Number in an Interval\n",
    "\n",
    "\n",
    "lower =int(input(\"Enter the lower limit of the interval:\"))\n",
    "upper =int(input(\"Enter the upper limit of the interval:\"))\n",
    "for num in range(lower, upper + 1):\n",
    "    order = len(str(num)) # Find the number of digits in 'num'\n",
    "    temp_num = num\n",
    "    sum = 0\n",
    "    while temp_num > 0:\n",
    "        digit = temp_num % 10\n",
    "        sum += digit ** order\n",
    "        temp_num //=10\n",
    "    if num == sum: # Check if 'num' is an Armstrong number\n",
    "        print(num)\n",
    "        "
   ]
  },
  {
   "cell_type": "code",
   "execution_count": 1,
   "id": "d4c2e2be-1f31-4c06-b4c8-866bfc501360",
   "metadata": {},
   "outputs": [
    {
     "name": "stdin",
     "output_type": "stream",
     "text": [
      "enter the  number 3\n"
     ]
    },
    {
     "name": "stdout",
     "output_type": "stream",
     "text": [
      "6\n"
     ]
    }
   ],
   "source": [
    "# Write a Python Program to Find the Sum of Natural Numbers.\n",
    "\n",
    "num = int(input(\"enter the  number\"))\n",
    "if num<0:\n",
    "    print(\"plese enter positive number\")\n",
    "else:\n",
    "    sum = 0\n",
    "    while num>0:\n",
    "        sum+=num\n",
    "        num-=1\n",
    "    print(sum)\n",
    "    "
   ]
  },
  {
   "cell_type": "code",
   "execution_count": 5,
   "id": "9ab630ba-8b4e-4ee9-aca6-e374a84314b3",
   "metadata": {},
   "outputs": [
    {
     "name": "stdin",
     "output_type": "stream",
     "text": [
      "enter a number 4\n"
     ]
    },
    {
     "name": "stdout",
     "output_type": "stream",
     "text": [
      "the factorial of 4 is 24\n"
     ]
    }
   ],
   "source": [
    "# Write a Python Program to Find the Factorial of a Number\n",
    "\n",
    "num = int(input(\"enter a number\"))\n",
    "fact = 1\n",
    "if num < 0:\n",
    "    print(\"factorial does not exist for negative number\")\n",
    "elif num ==0:\n",
    "    print(\"factorial of 0 is 1\")\n",
    "else:\n",
    "    for i in range(1,num+1):\n",
    "        fact = fact*i\n",
    "    print(f\"the factorial of {num} is {fact}\")\n"
   ]
  },
  {
   "cell_type": "code",
   "execution_count": 5,
   "id": "e7b7e0d6-13cb-4763-b734-f8db1681d224",
   "metadata": {},
   "outputs": [
    {
     "name": "stdin",
     "output_type": "stream",
     "text": [
      "emter the number: 77\n",
      "Enter the number: 9\n"
     ]
    },
    {
     "name": "stdout",
     "output_type": "stream",
     "text": [
      "the L.C.M is 693\n"
     ]
    }
   ],
   "source": [
    "# Write a Python Program to Find LCM.\n",
    "# Least Common Multiple (LCM):\n",
    "\n",
    "def compute_lcm(x,y):\n",
    "    if x > y:\n",
    "        greater = x\n",
    "    else:\n",
    "        greater = y\n",
    "    while(True):\n",
    "        if((greater % x ==0) and (greater % y ==0)):\n",
    "            lcm = greater\n",
    "            break\n",
    "        greater +=1\n",
    "    return lcm\n",
    "\n",
    "num1 = int(input(\"emter the number:\"))\n",
    "num2 = int(input(\"Enter the number:\"))\n",
    "\n",
    "print(\"the L.C.M is\", compute_lcm(num1,num2))"
   ]
  },
  {
   "cell_type": "code",
   "execution_count": 9,
   "id": "53a1ac3b-708b-4946-9762-1700e8e641bd",
   "metadata": {},
   "outputs": [
    {
     "name": "stdin",
     "output_type": "stream",
     "text": [
      "enter the number: 54\n",
      "enter the number: 24\n"
     ]
    },
    {
     "name": "stdout",
     "output_type": "stream",
     "text": [
      "The H.C.F is 6\n"
     ]
    }
   ],
   "source": [
    "# Write a Python Program to Find HCF.\n",
    "# Highest Common Factor(HCF):\n",
    "\n",
    "\n",
    "def compute_hcf(x , y):\n",
    "    if x >y:\n",
    "        smaller = y\n",
    "    else:\n",
    "        smaller =x\n",
    "    for i in range(1,smaller+1):\n",
    "        if((x % i == 0) and (y % i ==0)):\n",
    "            hcf = i\n",
    "    return hcf\n",
    "\n",
    "num1 = int(input(\"enter the number:\"))\n",
    "num2 = int(input(\"enter the number:\"))\n",
    "\n",
    "print(\"The H.C.F is\", compute_hcf(num1, num2))"
   ]
  },
  {
   "cell_type": "code",
   "execution_count": 15,
   "id": "0cafe6ca-c923-47b1-ab41-f8a4df3fa20b",
   "metadata": {},
   "outputs": [
    {
     "name": "stdin",
     "output_type": "stream",
     "text": [
      "Enter the character p\n"
     ]
    },
    {
     "name": "stdout",
     "output_type": "stream",
     "text": [
      "The ASCII value of'p' is 112\n"
     ]
    }
   ],
   "source": [
    "# write a Python Program To Find ASCII value of a character\n",
    "\n",
    "char =str(input(\"Enter the character\"))\n",
    "print(\"The ASCII value of'\" +char + \"' is\",ord(char))"
   ]
  },
  {
   "cell_type": "code",
   "execution_count": 19,
   "id": "f3863754-f327-448f-94e8-015dca316746",
   "metadata": {},
   "outputs": [
    {
     "name": "stdout",
     "output_type": "stream",
     "text": [
      "Select operation\n",
      "1.Add\n",
      "2 .Subtract\n",
      "3.Multiply\n",
      "4.Divoide\n"
     ]
    },
    {
     "name": "stdin",
     "output_type": "stream",
     "text": [
      "Enter choice (1/2/3/4): 3\n",
      "enter a firs number: 67\n",
      "Enter a second number: 7\n"
     ]
    },
    {
     "name": "stdout",
     "output_type": "stream",
     "text": [
      "67.0 * 7.0 = 469.0\n"
     ]
    },
    {
     "name": "stdin",
     "output_type": "stream",
     "text": [
      "let's do next calculation?(yes/no): no\n"
     ]
    }
   ],
   "source": [
    "# Write a Python Program to Make a Simple Calculator with 4 basic mathematical operations.\n",
    "\n",
    "def add(x,y):\n",
    "    return x + y\n",
    "def subtract(x ,y):\n",
    "    return x - y\n",
    "def multiply(x , y):\n",
    "    return x * y\n",
    "def divide(x , y):\n",
    "    return x / y\n",
    "\n",
    "print(\"Select operation\")\n",
    "print(\"1.Add\")\n",
    "print(\"2 .Subtract\")\n",
    "print(\"3.Multiply\")\n",
    "print(\"4.Divoide\")\n",
    "\n",
    "while(True):\n",
    "    choice = input(\"Enter choice (1/2/3/4):\")\n",
    "    if choice in('1','2','3','4'):\n",
    "        try:\n",
    "            num1=float(input(\"enter a firs number:\"))\n",
    "            num2=float(input(\"Enter a second number:\"))\n",
    "        except ValueError:\n",
    "            print(\"Invalid input.Please enter a number.\")\n",
    "            continue\n",
    "        if choice =='1':\n",
    "            print(num1, \"+\",num2, \"=\",add(num1,num2))\n",
    "        elif choice == '2':\n",
    "            print(num1,\"-\",num2,\"=\",subtract(num1,num2))\n",
    "        elif choice =='3':\n",
    "            print(num1,\"*\",num2,\"=\",multiply(num1,num2))\n",
    "        elif choice =='4':\n",
    "            print(num1,\"/\",num2,\"=\",divide(num1,num2))\n",
    "        next_calculation =input(\"let's do next calculation?(yes/no):\")\n",
    "        if next_calculation ==\"no\":\n",
    "            break\n",
    "    else:\n",
    "        print(\"invalid\")"
   ]
  },
  {
   "cell_type": "code",
   "execution_count": 21,
   "id": "e8e65030-e61a-4e4a-b6b1-aee250c50d5e",
   "metadata": {},
   "outputs": [
    {
     "name": "stdin",
     "output_type": "stream",
     "text": [
      "enter the number: 7\n"
     ]
    },
    {
     "name": "stdout",
     "output_type": "stream",
     "text": [
      "The factorial of 7 is 5040\n"
     ]
    }
   ],
   "source": [
    "# Write a Python Program to Find Factorial of Number Using Recursion\n",
    "# # Factorial of a number using recursion\n",
    "\n",
    "def recur_factorial(n):\n",
    "    if n==1:\n",
    "        return n\n",
    "    else:\n",
    "        return n*recur_factorial(n-1)\n",
    "\n",
    "num =int(input(\"enter the number:\"))\n",
    "\n",
    "if num < 0:\n",
    "    print(\"Sorry, factorail does not exist negative number\")\n",
    "elif num ==0:\n",
    "    print(\"The factorial of o is 1\")\n",
    "else:\n",
    "    print(\"The factorial of\",num,\"is\", recur_factorial(num))\n"
   ]
  },
  {
   "cell_type": "code",
   "execution_count": null,
   "id": "879116fb-cf11-4da5-8846-118b0dcca29d",
   "metadata": {},
   "outputs": [],
   "source": [
    "# Write a Python Program to Display Fibonacci Sequence Using Recursion\n",
    "\n",
    "def recur_fibo(n):\n",
    "    if n<=1:\n",
    "        return n\n",
    "    else:\n",
    "        return(recur_fibo(n-1) + recur_fibo(n-2))\n",
    "nterms = int(input(\"enter the number of terms (grater than 0):\"))\n",
    "\n",
    "if nterms <= 0:\n",
    "    print(\"pleas\")\n",
    "    "
   ]
  }
 ],
 "metadata": {
  "kernelspec": {
   "display_name": "Python 3 (ipykernel)",
   "language": "python",
   "name": "python3"
  },
  "language_info": {
   "codemirror_mode": {
    "name": "ipython",
    "version": 3
   },
   "file_extension": ".py",
   "mimetype": "text/x-python",
   "name": "python",
   "nbconvert_exporter": "python",
   "pygments_lexer": "ipython3",
   "version": "3.12.7"
  }
 },
 "nbformat": 4,
 "nbformat_minor": 5
}
