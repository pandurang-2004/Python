{
 "cells": [
  {
   "cell_type": "markdown",
   "id": "02030ec7-f175-49cb-bac1-7087ec52b760",
   "metadata": {},
   "source": [
    "\n",
    "# Set"
   ]
  },
  {
   "cell_type": "code",
   "execution_count": 8,
   "id": "f023f404-ee3c-4c7f-b656-3e7e21439060",
   "metadata": {},
   "outputs": [],
   "source": [
    "# .Unique collection\n",
    "# .unordered\n",
    "# .unindexed\n",
    "# .Mutable"
   ]
  },
  {
   "cell_type": "code",
   "execution_count": 14,
   "id": "086d8a8b-ac24-4c71-8027-d2cba8106e71",
   "metadata": {},
   "outputs": [],
   "source": [
    "list = [1,2,3,1,1\n",
    "       ]"
   ]
  },
  {
   "cell_type": "code",
   "execution_count": 16,
   "id": "0afc4320-8b22-4d49-aa33-59e7c636aee7",
   "metadata": {},
   "outputs": [
    {
     "data": {
      "text/plain": [
       "[1, 2, 3, 1, 1]"
      ]
     },
     "execution_count": 16,
     "metadata": {},
     "output_type": "execute_result"
    }
   ],
   "source": [
    "list"
   ]
  },
  {
   "cell_type": "markdown",
   "id": "b351d24b-7524-4ef8-8883-ee7617ba3d46",
   "metadata": {},
   "source": [
    "# Creating A set"
   ]
  },
  {
   "cell_type": "code",
   "execution_count": 19,
   "id": "68392ffa-c5be-42ac-999c-9b99fe2867ef",
   "metadata": {},
   "outputs": [],
   "source": [
    "# Set()\n",
    "# Set(itrable)"
   ]
  },
  {
   "cell_type": "code",
   "execution_count": null,
   "id": "a943754d-321f-4253-9104-f7e3e49ebf22",
   "metadata": {},
   "outputs": [],
   "source": []
  },
  {
   "cell_type": "code",
   "execution_count": 22,
   "id": "5f4fa2e3-4c37-4c50-b646-257296bd0a0b",
   "metadata": {},
   "outputs": [],
   "source": [
    "# Empty Set"
   ]
  },
  {
   "cell_type": "code",
   "execution_count": 24,
   "id": "f5c9f726-4763-4def-a186-b2f1930e93f9",
   "metadata": {},
   "outputs": [
    {
     "data": {
      "text/plain": [
       "dict"
      ]
     },
     "execution_count": 24,
     "metadata": {},
     "output_type": "execute_result"
    }
   ],
   "source": [
    "s = {}\n",
    "type(s)"
   ]
  },
  {
   "cell_type": "code",
   "execution_count": 26,
   "id": "68809bf4-f576-429e-a1db-2c87f8675c42",
   "metadata": {},
   "outputs": [
    {
     "name": "stdout",
     "output_type": "stream",
     "text": [
      "set()\n"
     ]
    },
    {
     "data": {
      "text/plain": [
       "set"
      ]
     },
     "execution_count": 26,
     "metadata": {},
     "output_type": "execute_result"
    }
   ],
   "source": [
    "s= set()\n",
    "print(s)\n",
    "type(s)"
   ]
  },
  {
   "cell_type": "code",
   "execution_count": null,
   "id": "4690c346-1488-4661-9471-667289c4692f",
   "metadata": {},
   "outputs": [],
   "source": [
    "\n"
   ]
  },
  {
   "cell_type": "code",
   "execution_count": 29,
   "id": "dbb09171-b9fd-4166-b385-a3f8a37420ed",
   "metadata": {},
   "outputs": [],
   "source": [
    "# Non empty set"
   ]
  },
  {
   "cell_type": "code",
   "execution_count": 31,
   "id": "43e988f4-4146-4936-ac79-3e88797436b9",
   "metadata": {},
   "outputs": [],
   "source": [
    "s ={1,2,3,4,5,2,3,1}\n"
   ]
  },
  {
   "cell_type": "code",
   "execution_count": 33,
   "id": "80c427dc-470a-412d-a10e-6aa273d63d70",
   "metadata": {},
   "outputs": [
    {
     "name": "stdout",
     "output_type": "stream",
     "text": [
      "{1, 2, 3, 4, 5}\n"
     ]
    }
   ],
   "source": [
    "print(s)"
   ]
  },
  {
   "cell_type": "code",
   "execution_count": 35,
   "id": "2e88e306-9865-4bfc-9c79-0515fb0bda21",
   "metadata": {},
   "outputs": [
    {
     "data": {
      "text/plain": [
       "set"
      ]
     },
     "execution_count": 35,
     "metadata": {},
     "output_type": "execute_result"
    }
   ],
   "source": [
    "s =set(\"pandurang\")\n",
    "type(s)"
   ]
  },
  {
   "cell_type": "code",
   "execution_count": 37,
   "id": "5f8480e6-7afd-4a12-b93c-ad0df42d6bdc",
   "metadata": {},
   "outputs": [
    {
     "data": {
      "text/plain": [
       "{'a', 'd', 'g', 'n', 'p', 'r', 'u'}"
      ]
     },
     "execution_count": 37,
     "metadata": {},
     "output_type": "execute_result"
    }
   ],
   "source": [
    "s"
   ]
  },
  {
   "cell_type": "code",
   "execution_count": null,
   "id": "9a3df0f1-329f-474c-a806-e287fa0f5183",
   "metadata": {},
   "outputs": [],
   "source": []
  },
  {
   "cell_type": "code",
   "execution_count": 40,
   "id": "97ba8fe5-3aa0-44f0-a35c-be6be733cf83",
   "metadata": {},
   "outputs": [],
   "source": [
    "# Iteration"
   ]
  },
  {
   "cell_type": "code",
   "execution_count": 42,
   "id": "f6c1c688-3ff1-42c1-bcde-da8ae9319df7",
   "metadata": {},
   "outputs": [
    {
     "data": {
      "text/plain": [
       "{'a', 'd', 'g', 'n', 'p', 'r', 'u'}"
      ]
     },
     "execution_count": 42,
     "metadata": {},
     "output_type": "execute_result"
    }
   ],
   "source": [
    "s"
   ]
  },
  {
   "cell_type": "code",
   "execution_count": 44,
   "id": "c219cd00-5a09-43aa-abde-dc51adf01352",
   "metadata": {},
   "outputs": [
    {
     "name": "stdout",
     "output_type": "stream",
     "text": [
      "u\n",
      "a\n",
      "n\n",
      "p\n",
      "g\n",
      "r\n",
      "d\n"
     ]
    }
   ],
   "source": [
    "for i in s:\n",
    "    print(i)"
   ]
  },
  {
   "cell_type": "code",
   "execution_count": null,
   "id": "8f97f91f-7819-442f-a0a0-e83b74740ab7",
   "metadata": {},
   "outputs": [],
   "source": []
  },
  {
   "cell_type": "markdown",
   "id": "00026041-8517-4d64-b509-1627c78e913d",
   "metadata": {},
   "source": [
    "# Updating  A set"
   ]
  },
  {
   "cell_type": "code",
   "execution_count": 51,
   "id": "59bac47d-b05f-416e-85a6-3a54ea54cb49",
   "metadata": {},
   "outputs": [],
   "source": [
    "# Add for single element\n",
    "# update(itrabel)"
   ]
  },
  {
   "cell_type": "code",
   "execution_count": 53,
   "id": "019f6c8c-2825-4c7b-b8cc-d9726ac5e7fd",
   "metadata": {},
   "outputs": [],
   "source": [
    "s ={1,2,3,1,2,4,5,6}"
   ]
  },
  {
   "cell_type": "code",
   "execution_count": 55,
   "id": "9fe1b5cf-07af-43a6-9838-b61948914ef8",
   "metadata": {},
   "outputs": [
    {
     "data": {
      "text/plain": [
       "{1, 2, 3, 4, 5, 6}"
      ]
     },
     "execution_count": 55,
     "metadata": {},
     "output_type": "execute_result"
    }
   ],
   "source": [
    "s\n"
   ]
  },
  {
   "cell_type": "code",
   "execution_count": 57,
   "id": "e67ffea6-3f4d-4616-a838-3bd937a34e6f",
   "metadata": {},
   "outputs": [],
   "source": [
    "s.add(8)"
   ]
  },
  {
   "cell_type": "code",
   "execution_count": 59,
   "id": "7d0db2f6-e557-4605-a17e-aea99f5bb38d",
   "metadata": {},
   "outputs": [
    {
     "data": {
      "text/plain": [
       "{1, 2, 3, 4, 5, 6, 8}"
      ]
     },
     "execution_count": 59,
     "metadata": {},
     "output_type": "execute_result"
    }
   ],
   "source": [
    "s"
   ]
  },
  {
   "cell_type": "code",
   "execution_count": 63,
   "id": "d81b893a-67e3-48d2-b082-364cc8af5e86",
   "metadata": {},
   "outputs": [],
   "source": [
    "name = \"pandu\"\n"
   ]
  },
  {
   "cell_type": "code",
   "execution_count": 65,
   "id": "d7cb4dd3-1b0f-480f-a3c4-c49e3a2368be",
   "metadata": {},
   "outputs": [],
   "source": [
    "s.update(name)"
   ]
  },
  {
   "cell_type": "code",
   "execution_count": 67,
   "id": "501a3bb9-2e1f-445f-ab11-0cf30c8193df",
   "metadata": {},
   "outputs": [
    {
     "data": {
      "text/plain": [
       "{1, 2, 3, 4, 5, 6, 8, 'a', 'd', 'n', 'p', 'u'}"
      ]
     },
     "execution_count": 67,
     "metadata": {},
     "output_type": "execute_result"
    }
   ],
   "source": [
    "s"
   ]
  },
  {
   "cell_type": "code",
   "execution_count": null,
   "id": "20964a5e-015f-4ed4-b9ee-fca3e0a7c1e8",
   "metadata": {},
   "outputs": [],
   "source": []
  },
  {
   "cell_type": "code",
   "execution_count": 74,
   "id": "e34469fa-92e5-42bb-8c4e-bccf5276a4c6",
   "metadata": {},
   "outputs": [],
   "source": [
    "# Deleting item\n",
    "\n",
    "# pop: remove random element . We are not sure what it is\n",
    "# Remove(element) : Remove particular element"
   ]
  },
  {
   "cell_type": "code",
   "execution_count": null,
   "id": "3c4c7806-2ea3-4cf8-85aa-d85eae17e1e7",
   "metadata": {},
   "outputs": [],
   "source": []
  },
  {
   "cell_type": "code",
   "execution_count": 77,
   "id": "015fcaca-94b7-4464-b5d0-84fae364af91",
   "metadata": {},
   "outputs": [
    {
     "data": {
      "text/plain": [
       "{1, 2, 3, 4, 5, 6, 8, 'a', 'd', 'n', 'p', 'u'}"
      ]
     },
     "execution_count": 77,
     "metadata": {},
     "output_type": "execute_result"
    }
   ],
   "source": [
    "s"
   ]
  },
  {
   "cell_type": "code",
   "execution_count": 79,
   "id": "85ffa50b-3ed9-4d03-99dd-febe390ed6a6",
   "metadata": {},
   "outputs": [
    {
     "data": {
      "text/plain": [
       "1"
      ]
     },
     "execution_count": 79,
     "metadata": {},
     "output_type": "execute_result"
    }
   ],
   "source": [
    "s.pop()"
   ]
  },
  {
   "cell_type": "code",
   "execution_count": 81,
   "id": "522b41d8-9c41-4617-b327-aca62b3bca3d",
   "metadata": {},
   "outputs": [
    {
     "data": {
      "text/plain": [
       "{2, 3, 4, 5, 6, 8, 'a', 'd', 'n', 'p', 'u'}"
      ]
     },
     "execution_count": 81,
     "metadata": {},
     "output_type": "execute_result"
    }
   ],
   "source": [
    "s"
   ]
  },
  {
   "cell_type": "code",
   "execution_count": 83,
   "id": "129b8a1e-3e96-46d6-b4d0-47d3d9830105",
   "metadata": {},
   "outputs": [
    {
     "data": {
      "text/plain": [
       "2"
      ]
     },
     "execution_count": 83,
     "metadata": {},
     "output_type": "execute_result"
    }
   ],
   "source": [
    "s.pop()"
   ]
  },
  {
   "cell_type": "code",
   "execution_count": 85,
   "id": "192ccbf6-3ad7-4cbb-a120-228a958d6c16",
   "metadata": {},
   "outputs": [
    {
     "data": {
      "text/plain": [
       "3"
      ]
     },
     "execution_count": 85,
     "metadata": {},
     "output_type": "execute_result"
    }
   ],
   "source": [
    "s.pop()\n"
   ]
  },
  {
   "cell_type": "code",
   "execution_count": 87,
   "id": "24956b14-b999-4437-8229-977b8e916baf",
   "metadata": {},
   "outputs": [
    {
     "data": {
      "text/plain": [
       "{4, 5, 6, 8, 'a', 'd', 'n', 'p', 'u'}"
      ]
     },
     "execution_count": 87,
     "metadata": {},
     "output_type": "execute_result"
    }
   ],
   "source": [
    "s"
   ]
  },
  {
   "cell_type": "code",
   "execution_count": 89,
   "id": "643cd447-ca8f-4d72-99fa-6407e3d314ad",
   "metadata": {},
   "outputs": [],
   "source": [
    "s.remove(\"u\")"
   ]
  },
  {
   "cell_type": "code",
   "execution_count": 91,
   "id": "86c5b969-a6fe-49c5-82ff-8199526285db",
   "metadata": {},
   "outputs": [
    {
     "data": {
      "text/plain": [
       "{4, 5, 6, 8, 'a', 'd', 'n', 'p'}"
      ]
     },
     "execution_count": 91,
     "metadata": {},
     "output_type": "execute_result"
    }
   ],
   "source": [
    "s"
   ]
  },
  {
   "cell_type": "markdown",
   "id": "1e876326-1b56-4cbd-a7e0-ee1c6fc025bc",
   "metadata": {},
   "source": [
    "# Intersection"
   ]
  },
  {
   "cell_type": "code",
   "execution_count": 123,
   "id": "9563652a-76e5-4c68-8c25-8b8d423f8af7",
   "metadata": {},
   "outputs": [],
   "source": [
    "py = {\"iron\",\"man\",\"hulk\"}\n",
    "java = {\"thor\",\"harry\",\"potter\",\"man\"}"
   ]
  },
  {
   "cell_type": "code",
   "execution_count": 125,
   "id": "fa344ea7-b608-4ea3-9437-67fa8b5bd303",
   "metadata": {},
   "outputs": [
    {
     "data": {
      "text/plain": [
       "{'man'}"
      ]
     },
     "execution_count": 125,
     "metadata": {},
     "output_type": "execute_result"
    }
   ],
   "source": [
    "py.intersection(java)"
   ]
  },
  {
   "cell_type": "code",
   "execution_count": 127,
   "id": "6435b446-72fe-40e6-acd3-98a929c50878",
   "metadata": {},
   "outputs": [
    {
     "data": {
      "text/plain": [
       "{'man'}"
      ]
     },
     "execution_count": 127,
     "metadata": {},
     "output_type": "execute_result"
    }
   ],
   "source": [
    "java.intersection(py)"
   ]
  },
  {
   "cell_type": "code",
   "execution_count": 129,
   "id": "15da44d5-dcbd-454f-be02-f4a65643a86d",
   "metadata": {},
   "outputs": [],
   "source": [
    "intersection = py.intersection(java)"
   ]
  },
  {
   "cell_type": "code",
   "execution_count": 131,
   "id": "a19a9d2b-345d-4f62-856b-79c93a532e47",
   "metadata": {},
   "outputs": [
    {
     "name": "stdout",
     "output_type": "stream",
     "text": [
      "{'man'}\n"
     ]
    }
   ],
   "source": [
    "print(intersection) "
   ]
  },
  {
   "cell_type": "code",
   "execution_count": null,
   "id": "ebe77902-5622-4907-bc59-8af788f8d24c",
   "metadata": {},
   "outputs": [],
   "source": []
  },
  {
   "cell_type": "code",
   "execution_count": 117,
   "id": "aaf08989-4d8b-4925-9737-1035df56e988",
   "metadata": {},
   "outputs": [],
   "source": [
    "# Union\n",
    "\n",
    "# The union() method and the | operator both achieve the same result.\n",
    "# The union operation will only include unique elements, so duplicates are automatically removed"
   ]
  },
  {
   "cell_type": "code",
   "execution_count": 133,
   "id": "40ce1ef6-a5c0-4e77-aa2a-73e467501671",
   "metadata": {},
   "outputs": [
    {
     "data": {
      "text/plain": [
       "{'harry', 'hulk', 'iron', 'man', 'potter', 'thor'}"
      ]
     },
     "execution_count": 133,
     "metadata": {},
     "output_type": "execute_result"
    }
   ],
   "source": [
    "py.union(java)"
   ]
  },
  {
   "cell_type": "code",
   "execution_count": null,
   "id": "eadbd0f2-f15d-4452-b5d1-911c338afeb2",
   "metadata": {},
   "outputs": [],
   "source": []
  },
  {
   "cell_type": "code",
   "execution_count": 136,
   "id": "41d1ef6b-0dd7-4858-93f6-6c7184b90ea1",
   "metadata": {},
   "outputs": [],
   "source": [
    "# Difference\n",
    "\n",
    "# The difference() method and the - operator both return a new set containing elements that are in the first set but not in the second set.\n",
    "# The difference operation will only include unique elements, so duplicates are automatically removed."
   ]
  },
  {
   "cell_type": "code",
   "execution_count": 138,
   "id": "d0498e0f-0662-4bc0-8951-90130e49e69f",
   "metadata": {},
   "outputs": [
    {
     "data": {
      "text/plain": [
       "{'hulk', 'iron'}"
      ]
     },
     "execution_count": 138,
     "metadata": {},
     "output_type": "execute_result"
    }
   ],
   "source": [
    "py.difference(java)"
   ]
  },
  {
   "cell_type": "code",
   "execution_count": 140,
   "id": "cc51832e-daf0-45a5-a5d1-cc0e0b996c72",
   "metadata": {},
   "outputs": [
    {
     "data": {
      "text/plain": [
       "{'harry', 'potter', 'thor'}"
      ]
     },
     "execution_count": 140,
     "metadata": {},
     "output_type": "execute_result"
    }
   ],
   "source": [
    "java.difference(py)"
   ]
  },
  {
   "cell_type": "code",
   "execution_count": 142,
   "id": "6fa587ee-bffd-48da-9bca-5074efe7bca6",
   "metadata": {},
   "outputs": [],
   "source": [
    "\n",
    "sent = \"be the change you wish to see in the world \""
   ]
  },
  {
   "cell_type": "code",
   "execution_count": 144,
   "id": "82f12d6c-001e-4b88-b3df-e50cc53e2167",
   "metadata": {},
   "outputs": [],
   "source": [
    "s = set(sent)"
   ]
  },
  {
   "cell_type": "code",
   "execution_count": 146,
   "id": "588d5d9e-c3e5-4270-add6-64fefcbb741a",
   "metadata": {},
   "outputs": [
    {
     "data": {
      "text/plain": [
       "{' ',\n",
       " 'a',\n",
       " 'b',\n",
       " 'c',\n",
       " 'd',\n",
       " 'e',\n",
       " 'g',\n",
       " 'h',\n",
       " 'i',\n",
       " 'l',\n",
       " 'n',\n",
       " 'o',\n",
       " 'r',\n",
       " 's',\n",
       " 't',\n",
       " 'u',\n",
       " 'w',\n",
       " 'y'}"
      ]
     },
     "execution_count": 146,
     "metadata": {},
     "output_type": "execute_result"
    }
   ],
   "source": [
    "s"
   ]
  },
  {
   "cell_type": "code",
   "execution_count": 165,
   "id": "ec850c73-8809-4e73-9b46-7eb8fee685b5",
   "metadata": {},
   "outputs": [
    {
     "data": {
      "text/plain": [
       "['be', 'the', 'change', 'you', 'wish', 'to', 'see', 'in', 'the', 'world']"
      ]
     },
     "execution_count": 165,
     "metadata": {},
     "output_type": "execute_result"
    }
   ],
   "source": [
    "lst = sent.split()\n",
    "lst"
   ]
  },
  {
   "cell_type": "code",
   "execution_count": 167,
   "id": "6bea11fa-84a5-40df-8338-9d611fdc7b9e",
   "metadata": {},
   "outputs": [],
   "source": [
    " s =set(lst)"
   ]
  },
  {
   "cell_type": "code",
   "execution_count": 169,
   "id": "212996ea-6beb-4278-b027-d6356f66e626",
   "metadata": {},
   "outputs": [
    {
     "data": {
      "text/plain": [
       "{'be', 'change', 'in', 'see', 'the', 'to', 'wish', 'world', 'you'}"
      ]
     },
     "execution_count": 169,
     "metadata": {},
     "output_type": "execute_result"
    }
   ],
   "source": [
    "s"
   ]
  },
  {
   "cell_type": "code",
   "execution_count": 171,
   "id": "2ccb4181-e21e-4b62-bd56-99d6aa96eea0",
   "metadata": {},
   "outputs": [],
   "source": [
    "# len\n"
   ]
  },
  {
   "cell_type": "code",
   "execution_count": 173,
   "id": "77cd48bd-b488-4e65-90fd-4d6f7e105baa",
   "metadata": {},
   "outputs": [
    {
     "data": {
      "text/plain": [
       "9"
      ]
     },
     "execution_count": 173,
     "metadata": {},
     "output_type": "execute_result"
    }
   ],
   "source": [
    "len(s)"
   ]
  },
  {
   "cell_type": "code",
   "execution_count": 175,
   "id": "5b0b724f-9305-48e1-a0b3-efd931f02e53",
   "metadata": {},
   "outputs": [
    {
     "name": "stdout",
     "output_type": "stream",
     "text": [
      "Element: 1, Frequency: 2\n",
      "Element: 2, Frequency: 2\n",
      "Element: 3, Frequency: 1\n",
      "Element: 4, Frequency: 3\n"
     ]
    }
   ],
   "source": [
    "def print_frequency(input_tuple):\n",
    "    # Create a dictionary to store the frequency of each element\n",
    "    frequency = {}\n",
    "    \n",
    "    for element in input_tuple:\n",
    "        if element in frequency:\n",
    "            frequency[element] += 1 \n",
    "        else:\n",
    "            frequency[element] = 1  \n",
    "    # Print the frequency of each unique element\n",
    "    for element, count in frequency.items():\n",
    "        print(f\"Element: {element}, Frequency: {count}\")\n",
    "\n",
    "input_tuple = (1, 2, 2, 3, 1, 4, 4, 4)\n",
    "print_frequency(input_tuple)\n"
   ]
  },
  {
   "cell_type": "code",
   "execution_count": 177,
   "id": "b808a133-b805-41fc-8921-b428e9177a9b",
   "metadata": {},
   "outputs": [
    {
     "ename": "TypeError",
     "evalue": "unsupported operand type(s) for +: 'set' and 'set'",
     "output_type": "error",
     "traceback": [
      "\u001b[1;31m---------------------------------------------------------------------------\u001b[0m",
      "\u001b[1;31mTypeError\u001b[0m                                 Traceback (most recent call last)",
      "Cell \u001b[1;32mIn[177], line 3\u001b[0m\n\u001b[0;32m      1\u001b[0m set1 \u001b[38;5;241m=\u001b[39m {\u001b[38;5;241m1\u001b[39m, \u001b[38;5;241m2\u001b[39m, \u001b[38;5;241m4\u001b[39m}\n\u001b[0;32m      2\u001b[0m set2 \u001b[38;5;241m=\u001b[39m {\u001b[38;5;241m4\u001b[39m, \u001b[38;5;241m5\u001b[39m, \u001b[38;5;241m6\u001b[39m}\n\u001b[1;32m----> 3\u001b[0m \u001b[38;5;28mprint\u001b[39m(\u001b[38;5;28mlen\u001b[39m(set1 \u001b[38;5;241m+\u001b[39m set2))\n",
      "\u001b[1;31mTypeError\u001b[0m: unsupported operand type(s) for +: 'set' and 'set'"
     ]
    }
   ],
   "source": [
    "set1 = {1, 2, 4}\n",
    "set2 = {4, 5, 6}\n",
    "print(len(set1 + set2))"
   ]
  },
  {
   "cell_type": "code",
   "execution_count": 181,
   "id": "bfad668f-3d85-42e0-b27e-5d1762665d87",
   "metadata": {},
   "outputs": [
    {
     "name": "stdout",
     "output_type": "stream",
     "text": [
      "{3, 4, 5}\n"
     ]
    }
   ],
   "source": [
    "sets = {3, 4, 5} \n",
    "print(sets)"
   ]
  },
  {
   "cell_type": "code",
   "execution_count": 183,
   "id": "08b57445-f309-451e-8dee-c2591b9752e7",
   "metadata": {},
   "outputs": [],
   "source": [
    "sets.update([1, 2, 3])"
   ]
  },
  {
   "cell_type": "code",
   "execution_count": 185,
   "id": "1acee2b5-64cb-49be-8d43-5c5cb3bdaa86",
   "metadata": {},
   "outputs": [
    {
     "name": "stdout",
     "output_type": "stream",
     "text": [
      "{1, 2, 3, 4, 5}\n"
     ]
    }
   ],
   "source": [
    "print(sets)"
   ]
  },
  {
   "cell_type": "code",
   "execution_count": 187,
   "id": "e8a92269-6a34-416e-94c3-fc89d5851673",
   "metadata": {},
   "outputs": [
    {
     "ename": "TypeError",
     "evalue": "'set' object does not support item assignment",
     "output_type": "error",
     "traceback": [
      "\u001b[1;31m---------------------------------------------------------------------------\u001b[0m",
      "\u001b[1;31mTypeError\u001b[0m                                 Traceback (most recent call last)",
      "Cell \u001b[1;32mIn[187], line 2\u001b[0m\n\u001b[0;32m      1\u001b[0m a\u001b[38;5;241m=\u001b[39m{\u001b[38;5;124m'\u001b[39m\u001b[38;5;124mAurn\u001b[39m\u001b[38;5;124m'\u001b[39m, \u001b[38;5;124m'\u001b[39m\u001b[38;5;124mNikhil\u001b[39m\u001b[38;5;124m'\u001b[39m, \u001b[38;5;124m'\u001b[39m\u001b[38;5;124mSeeta\u001b[39m\u001b[38;5;124m'\u001b[39m}\n\u001b[1;32m----> 2\u001b[0m a[\u001b[38;5;241m0\u001b[39m]\u001b[38;5;241m=\u001b[39m \u001b[38;5;124m'\u001b[39m\u001b[38;5;124mArun\u001b[39m\u001b[38;5;124m'\u001b[39m\n\u001b[0;32m      3\u001b[0m \u001b[38;5;28mprint\u001b[39m(a)\n",
      "\u001b[1;31mTypeError\u001b[0m: 'set' object does not support item assignment"
     ]
    }
   ],
   "source": [
    "a={'Aurn', 'Nikhil', 'Seeta'}\n",
    "a[0]= 'Arun'\n",
    "print(a)"
   ]
  },
  {
   "cell_type": "code",
   "execution_count": 189,
   "id": "068e7e58-ed3a-4262-8a68-8a3fe4b887d4",
   "metadata": {},
   "outputs": [],
   "source": [
    "sets = sets.union({1, 2, 3})"
   ]
  },
  {
   "cell_type": "code",
   "execution_count": 191,
   "id": "42dc9c5b-8946-49f0-8a1b-cffcd05540b2",
   "metadata": {},
   "outputs": [
    {
     "name": "stdout",
     "output_type": "stream",
     "text": [
      "{1, 2, 3, 4, 5}\n"
     ]
    }
   ],
   "source": [
    "print(sets)"
   ]
  },
  {
   "cell_type": "code",
   "execution_count": null,
   "id": "0595fd5c-c618-4f42-b447-4f695e5e047c",
   "metadata": {},
   "outputs": [],
   "source": []
  }
 ],
 "metadata": {
  "kernelspec": {
   "display_name": "Python 3 (ipykernel)",
   "language": "python",
   "name": "python3"
  },
  "language_info": {
   "codemirror_mode": {
    "name": "ipython",
    "version": 3
   },
   "file_extension": ".py",
   "mimetype": "text/x-python",
   "name": "python",
   "nbconvert_exporter": "python",
   "pygments_lexer": "ipython3",
   "version": "3.12.7"
  }
 },
 "nbformat": 4,
 "nbformat_minor": 5
}
