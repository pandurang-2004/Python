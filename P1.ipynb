{
 "cells": [
  {
   "cell_type": "code",
   "execution_count": 5,
   "id": "d4bcbb84-b754-448c-8998-eca52829524c",
   "metadata": {},
   "outputs": [
    {
     "name": "stdin",
     "output_type": "stream",
     "text": [
      "enter any number 4\n"
     ]
    },
    {
     "name": "stdout",
     "output_type": "stream",
     "text": [
      "number is positive\n"
     ]
    }
   ],
   "source": [
    "#Write a Python Program to Check if a Number is Positive, Negative or Zero.\n",
    "\n",
    "num = int(input(\"enter any number\"))\n",
    "if num > 0:\n",
    "    print(\"number is positive\")\n",
    "elif num ==0:\n",
    "    print(\"Zero\")\n",
    "else:\n",
    "    print(\"number is negative\")\n",
    "    "
   ]
  },
  {
   "cell_type": "code",
   "execution_count": 9,
   "id": "73fab98e-deb2-474e-9c76-bc5988ea11ea",
   "metadata": {},
   "outputs": [
    {
     "name": "stdin",
     "output_type": "stream",
     "text": [
      "Enter a number 5\n"
     ]
    },
    {
     "name": "stdout",
     "output_type": "stream",
     "text": [
      "This number is odd\n"
     ]
    }
   ],
   "source": [
    "# Write a Python Program to Check if a Number is Odd or Even.\n",
    "\n",
    "num =int(input(\"Enter a number\"))\n",
    "if num %2 == 0:\n",
    "    print(\"This is even number\")\n",
    "else:\n",
    "    print(\"This number is odd\")"
   ]
  },
  {
   "cell_type": "code",
   "execution_count": 11,
   "id": "347e9fae-3766-487d-99bc-0fadc3befd21",
   "metadata": {},
   "outputs": [
    {
     "name": "stdin",
     "output_type": "stream",
     "text": [
      "Enter a year 2003\n"
     ]
    },
    {
     "name": "stdout",
     "output_type": "stream",
     "text": [
      "2003 is not leap year\n"
     ]
    }
   ],
   "source": [
    "# Write a Python Program to Check Leap Year.\n",
    "\n",
    "year = int(input(\"Enter a year\"))\n",
    "if year % 400 == 0 and year % 100 == 0:\n",
    "    print(\"{0} is leap year \".format(year))\n",
    "elif year % 4 == 0 and year % 100 !=0:\n",
    "    print(\"{0} is leap year\".format(year))\n",
    "else:\n",
    "    print(\"{0} is not leap year\".format(year))"
   ]
  },
  {
   "cell_type": "code",
   "execution_count": 19,
   "id": "1fba2fe8-7ebe-4394-8e04-c10cf6f8954c",
   "metadata": {},
   "outputs": [
    {
     "name": "stdin",
     "output_type": "stream",
     "text": [
      "enter a number 45\n"
     ]
    },
    {
     "name": "stdout",
     "output_type": "stream",
     "text": [
      "45,is not a prime number\n"
     ]
    }
   ],
   "source": [
    "# Write a Python Program to Check Prime Number.\n",
    "# Prime Numbers:\n",
    "# A prime number is a whole number that cannot be evenly divided by any other number\n",
    "# except for 1 and itself. For example, 2, 3, 5, 7, 11, and 13 are prime numbers because they\n",
    "# cannot be divided by any other positive integer except for 1 and their own value.'''\n",
    "\n",
    "\n",
    "num = int(input(\"enter a number\"))\n",
    "flag = False\n",
    "if num == 1:\n",
    "    print(f\"{num},is not prime number\")\n",
    "elif num > 1:\n",
    "    for i in range(2 ,num):\n",
    "        if (num % i) ==0:\n",
    "            flag = True\n",
    "            break\n",
    "if flag:\n",
    "    print(f\"{num},is not a prime number\")\n",
    "else:\n",
    "    print(f\"{num}, is prime number\")\n",
    "    \n",
    "                "
   ]
  },
  {
   "cell_type": "code",
   "execution_count": 44,
   "id": "ce25d8bd-124c-4891-b452-980a55f4bfab",
   "metadata": {},
   "outputs": [
    {
     "name": "stdout",
     "output_type": "stream",
     "text": [
      "prime number between 1 and 10 are:\n",
      "3\n",
      "5\n",
      "5\n",
      "5\n",
      "7\n",
      "7\n",
      "7\n",
      "7\n",
      "7\n",
      "9\n"
     ]
    }
   ],
   "source": [
    "# Write a Python Program to Print all Prime Numbers in an Interval of 1-10.\n",
    "\n",
    "lower = 1\n",
    "upper = 10\n",
    "print(\"prime number between\", lower,\"and\",upper,\"are:\")\n",
    "for num in range(lower,upper + 1):\n",
    "    if num > 1:\n",
    "         for i in range(2, num):\n",
    "            if (num % i) == 0:\n",
    "                break\n",
    "            else:\n",
    "                print(num)\n"
   ]
  },
  {
   "cell_type": "code",
   "execution_count": 29,
   "id": "bfa87ffc-2206-429f-b193-094cb24c2a5c",
   "metadata": {},
   "outputs": [
    {
     "ename": "IndentationError",
     "evalue": "expected an indented block after 'for' statement on line 4 (35976578.py, line 6)",
     "output_type": "error",
     "traceback": [
      "\u001b[1;36m  Cell \u001b[1;32mIn[29], line 6\u001b[1;36m\u001b[0m\n\u001b[1;33m    if num > 1:\u001b[0m\n\u001b[1;37m    ^\u001b[0m\n\u001b[1;31mIndentationError\u001b[0m\u001b[1;31m:\u001b[0m expected an indented block after 'for' statement on line 4\n"
     ]
    }
   ],
   "source": []
  },
  {
   "cell_type": "code",
   "execution_count": 60,
   "id": "b669d32b-d96c-4924-9a35-e709a53a30ec",
   "metadata": {},
   "outputs": [
    {
     "name": "stdin",
     "output_type": "stream",
     "text": [
      "enter a number : 4\n"
     ]
    },
    {
     "name": "stdout",
     "output_type": "stream",
     "text": [
      "the factorial of 4 is 24\n"
     ]
    }
   ],
   "source": [
    "# Write a Python Program to Find the Factorial of a Number\n",
    "\n",
    "num =int(input(\"enter a number :\"))\n",
    "fact = 1\n",
    "if num <0:\n",
    "    print(\"factorial does not exist negative\")\n",
    "elif num == 0:\n",
    "    print(\"factorial of 0 is 1\")\n",
    "else:\n",
    "    for i in range(1, num+1):\n",
    "        fact = fact*i\n",
    "print(f\"the factorial of {num} is {fact}\")\n"
   ]
  },
  {
   "cell_type": "code",
   "execution_count": 62,
   "id": "feb506f0-d57c-4117-972d-ca989caf2d72",
   "metadata": {},
   "outputs": [
    {
     "name": "stdin",
     "output_type": "stream",
     "text": [
      "Display multiplication table of: 5\n"
     ]
    },
    {
     "name": "stdout",
     "output_type": "stream",
     "text": [
      "5 x1 = 5\n",
      "5 x2 = 10\n",
      "5 x3 = 15\n",
      "5 x4 = 20\n",
      "5 x5 = 25\n",
      "5 x6 = 30\n",
      "5 x7 = 35\n",
      "5 x8 = 40\n",
      "5 x9 = 45\n",
      "5 x10 = 50\n"
     ]
    }
   ],
   "source": [
    "# Write a Python Program to Display the multiplication Table\n",
    "\n",
    "num = int(input(\"Display multiplication table of:\"))\n",
    "for i in range(1,11):\n",
    "    print(f\"{num} x{i} = {num*i}\")"
   ]
  },
  {
   "cell_type": "code",
   "execution_count": 77,
   "id": "3a6b504e-47ef-4a9b-b314-ed2402cca853",
   "metadata": {},
   "outputs": [
    {
     "name": "stdin",
     "output_type": "stream",
     "text": [
      "How many terms 10\n"
     ]
    },
    {
     "name": "stdout",
     "output_type": "stream",
     "text": [
      "Fibonacci sequence:\n",
      "0\n",
      "1\n",
      "2\n",
      "4\n",
      "8\n",
      "16\n",
      "32\n",
      "64\n",
      "128\n",
      "256\n"
     ]
    }
   ],
   "source": [
    "# Write a Python Program to Print the Fibonacci sequence\n",
    "# 0, 1, 1, 2, 3, 5, 8, 13, 21, 34, 55, 89, 144, and so on\n",
    "# Mathematically, the Fibonacci sequence can be defined using the following recurrence\n",
    "# relation:\n",
    "# 𝐹 (0) = 0 𝐹 (1) = 1 𝐹 (𝑛) = 𝐹 (𝑛 − 1) + 𝐹 (𝑛 − 2)𝑓𝑜𝑟𝑛 > 1\n",
    " \n",
    "\n",
    "nterms =int(input(\"How many terms\"))\n",
    "n1 , n2 = 0, 1\n",
    "count = 0\n",
    "if nterms <=0:\n",
    "    print(\"plese positive intiger\")\n",
    "elif nterms == 1:\n",
    "    print(\"fibonacci sequance upto\",nterms,\":\")\n",
    "    print(n1)\n",
    "else:\n",
    "    print(\"Fibonacci sequence:\")\n",
    "    while count < nterms:\n",
    "        print(n1)\n",
    "        nth = n1 + n2\n",
    "        n1 = nth\n",
    "        n2 = nth\n",
    "        count += 1"
   ]
  },
  {
   "cell_type": "code",
   "execution_count": 79,
   "id": "4ddd8ae0-8126-4f11-ad2d-1158123ae8af",
   "metadata": {},
   "outputs": [
    {
     "name": "stdout",
     "output_type": "stream",
     "text": [
      "random number: 33\n"
     ]
    }
   ],
   "source": [
    "import random\n",
    "print(f\"random number: {random.randint(1,100)}\")"
   ]
  },
  {
   "cell_type": "code",
   "execution_count": 85,
   "id": "d822582d-dd81-4f1b-99b7-0e4c9b28d356",
   "metadata": {},
   "outputs": [
    {
     "name": "stdin",
     "output_type": "stream",
     "text": [
      "enter year: 2004\n",
      "enter month: 4\n"
     ]
    },
    {
     "name": "stdout",
     "output_type": "stream",
     "text": [
      "     April 2004\n",
      "Mo Tu We Th Fr Sa Su\n",
      "          1  2  3  4\n",
      " 5  6  7  8  9 10 11\n",
      "12 13 14 15 16 17 18\n",
      "19 20 21 22 23 24 25\n",
      "26 27 28 29 30\n",
      "\n"
     ]
    }
   ],
   "source": [
    "import calendar\n",
    "year = int(input(\"enter year:\"))\n",
    "month = int(input(\"enter month:\"))\n",
    "cal = calendar.month(year, month)\n",
    "print(cal)\n"
   ]
  },
  {
   "cell_type": "code",
   "execution_count": null,
   "id": "6ffa942e-c015-4012-b8ff-55cb927e94b8",
   "metadata": {},
   "outputs": [],
   "source": []
  },
  {
   "cell_type": "code",
   "execution_count": null,
   "id": "06ffd7cf-e6c1-440a-b3a0-834dfec8f793",
   "metadata": {},
   "outputs": [],
   "source": []
  }
 ],
 "metadata": {
  "kernelspec": {
   "display_name": "Python 3 (ipykernel)",
   "language": "python",
   "name": "python3"
  },
  "language_info": {
   "codemirror_mode": {
    "name": "ipython",
    "version": 3
   },
   "file_extension": ".py",
   "mimetype": "text/x-python",
   "name": "python",
   "nbconvert_exporter": "python",
   "pygments_lexer": "ipython3",
   "version": "3.12.7"
  }
 },
 "nbformat": 4,
 "nbformat_minor": 5
}
