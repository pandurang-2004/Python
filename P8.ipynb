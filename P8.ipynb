{
 "cells": [
  {
   "cell_type": "code",
   "execution_count": 1,
   "id": "8f8bc972-9da1-4422-82fb-e83b35a8978e",
   "metadata": {},
   "outputs": [],
   "source": [
    "# Write a Python Program to calculate the natural logarithm of any numbe"
   ]
  },
  {
   "cell_type": "code",
   "execution_count": 5,
   "id": "fb96b95b-2b7d-46ad-843d-ccb173923ca5",
   "metadata": {},
   "outputs": [
    {
     "name": "stdin",
     "output_type": "stream",
     "text": [
      "Enter a number: 1.4\n"
     ]
    },
    {
     "name": "stdout",
     "output_type": "stream",
     "text": [
      "The natural logarithm of 1.4 is:0.3364722366212129\n"
     ]
    }
   ],
   "source": [
    "import math\n",
    "num =float(input(\"Enter a number:\"))\n",
    "\n",
    "if num <=0:\n",
    "    print(\"pleas enter a positive number:\")\n",
    "else:\n",
    "    result = math.log(num)\n",
    "    print(f\"The natural logarithm of {num} is:{result}\")"
   ]
  },
  {
   "cell_type": "code",
   "execution_count": 7,
   "id": "f3cf7e0d-e915-4dc1-be48-0a970da8748b",
   "metadata": {},
   "outputs": [],
   "source": [
    "# Write a Python Program for cube sum of first n natural numbers"
   ]
  },
  {
   "cell_type": "code",
   "execution_count": 9,
   "id": "e3c209cb-2d53-45e1-bbd3-7422afdf8623",
   "metadata": {},
   "outputs": [
    {
     "name": "stdin",
     "output_type": "stream",
     "text": [
      "Enter the value of n: 7\n"
     ]
    },
    {
     "name": "stdout",
     "output_type": "stream",
     "text": [
      "the cub_sum_of_natural_number7 natural number is :784\n"
     ]
    }
   ],
   "source": [
    "def cub_sum_of_natural_number(n):\n",
    "    if n <=0:\n",
    "        return 0\n",
    "    else:\n",
    "        total = sum([i**3 for i in range(1,n+1)])\n",
    "        return total\n",
    "\n",
    "n = int(input(\"Enter the value of n:\"))\n",
    "if n <=0:\n",
    "    print(\"please enter a positive integer.\")\n",
    "else:\n",
    "    result=cub_sum_of_natural_number(n)\n",
    "    print(f\"the cub_sum_of_natural_number{n} natural number is :{result}\")"
   ]
  },
  {
   "cell_type": "code",
   "execution_count": 11,
   "id": "bb37fd78-b6a8-47c2-af52-b974bc84851a",
   "metadata": {},
   "outputs": [],
   "source": [
    "\n",
    "# Write a Python Program to find sum of array"
   ]
  },
  {
   "cell_type": "code",
   "execution_count": 13,
   "id": "43dd840e-040a-4490-8afa-8dc29f3e49b0",
   "metadata": {},
   "outputs": [
    {
     "name": "stdout",
     "output_type": "stream",
     "text": [
      "sum of the array is 6\n"
     ]
    }
   ],
   "source": [
    "arr =[1,2,3]\n",
    "ans =sum(arr)\n",
    "print(\"sum of the array is\",ans)"
   ]
  },
  {
   "cell_type": "code",
   "execution_count": 15,
   "id": "255f7666-18a8-48ef-8474-a3d4ec1090d3",
   "metadata": {},
   "outputs": [
    {
     "name": "stdout",
     "output_type": "stream",
     "text": [
      "sum of the array 6\n"
     ]
    }
   ],
   "source": [
    "def sum_of_array(arr):\n",
    "    total = 0\n",
    "    for element in arr:\n",
    "        total +=element\n",
    "\n",
    "    return total\n",
    "\n",
    "array =[1,2,3]\n",
    "result = sum_of_array(array)\n",
    "print(\"sum of the array\",result)"
   ]
  },
  {
   "cell_type": "code",
   "execution_count": 17,
   "id": "2331a9b6-3af1-4a45-94c4-68a79d6dde77",
   "metadata": {},
   "outputs": [],
   "source": [
    "# Write a Python Program to find largest element in an array.\n"
   ]
  },
  {
   "cell_type": "code",
   "execution_count": 19,
   "id": "95bd4ee7-b7aa-4454-97ca-5a945a82cc7f",
   "metadata": {},
   "outputs": [
    {
     "name": "stdout",
     "output_type": "stream",
     "text": [
      "The largest element in the array is:70\n"
     ]
    }
   ],
   "source": [
    "def find_largest_element(arr):\n",
    "    if not arr:\n",
    "        return \"array is empty\"\n",
    "\n",
    "    largest_element = arr[0]\n",
    "\n",
    "    for element in arr:\n",
    "        if element > largest_element:\n",
    "            largest_element = element\n",
    "\n",
    "    return largest_element\n",
    "\n",
    "my_array =[10,20,30,70]\n",
    "result =find_largest_element(my_array)\n",
    "print(f\"The largest element in the array is:{result}\")"
   ]
  },
  {
   "cell_type": "code",
   "execution_count": 21,
   "id": "4158d2d8-455f-4f91-b45b-347a3747fa42",
   "metadata": {},
   "outputs": [],
   "source": [
    "# Write a Python Program to Sort Words in Alphabetic Order."
   ]
  },
  {
   "cell_type": "code",
   "execution_count": 23,
   "id": "15367b8d-b94f-47e4-bbaa-933be3298127",
   "metadata": {},
   "outputs": [
    {
     "name": "stdin",
     "output_type": "stream",
     "text": [
      "enter a string: pandurang ramesh arrayn radha krishna\n"
     ]
    },
    {
     "name": "stdout",
     "output_type": "stream",
     "text": [
      "the sorted words are:\n",
      "Arrayn\n",
      "Krishna\n",
      "Pandurang\n",
      "Radha\n",
      "Ramesh\n"
     ]
    }
   ],
   "source": [
    "my_str = input(\"enter a string:\")\n",
    "\n",
    "words =[word.capitalize() for word in my_str.split()]\n",
    "\n",
    "words.sort()\n",
    "print(\"the sorted words are:\")\n",
    "for word in words:\n",
    "    print(word)"
   ]
  },
  {
   "cell_type": "code",
   "execution_count": 25,
   "id": "a8eea4ce-9b3d-4028-a80e-c2eb11ae8a42",
   "metadata": {},
   "outputs": [],
   "source": [
    "# Write a Python program to print all disarium numbers between 1 to 100"
   ]
  },
  {
   "cell_type": "code",
   "execution_count": 37,
   "id": "8bd3f16a-cb66-494a-a41e-506829f916b5",
   "metadata": {},
   "outputs": [
    {
     "name": "stdout",
     "output_type": "stream",
     "text": [
      "Disarium numbers between 1 and 100:\n",
      "1 | 2 | 3 | 4 | 5 | 6 | 7 | 8 | 9 | 89 | "
     ]
    }
   ],
   "source": [
    "def is_disarium(num):\n",
    "    num_str = str(num)\n",
    "    digit_sum = sum(int(i) ** (index + 1) for index, i in enumerate(num_str))\n",
    "    return num == digit_sum\n",
    "\n",
    "disarium_numbers = [num for num in range(1, 101) if is_disarium(num)]\n",
    "print(\"Disarium numbers between 1 and 100:\")\n",
    "for num in disarium_numbers:\n",
    "    print(num, end=\" | \")\n"
   ]
  },
  {
   "cell_type": "code",
   "execution_count": 39,
   "id": "3231ac4b-5a75-4d26-86e8-d459d8b363ef",
   "metadata": {},
   "outputs": [],
   "source": [
    "# Sample list of numbers"
   ]
  },
  {
   "cell_type": "code",
   "execution_count": 43,
   "id": "bc7d1ac9-7770-444b-ba5a-2aa2b0a346f0",
   "metadata": {},
   "outputs": [
    {
     "name": "stdout",
     "output_type": "stream",
     "text": [
      "sum of elements in the list: 160\n"
     ]
    }
   ],
   "source": [
    "numbers = [20,20,30,40,50]\n",
    "sum_of_numbers = 0\n",
    "for i in numbers:\n",
    "    sum_of_numbers +=i\n",
    "print(\"sum of elements in the list:\",sum_of_numbers)"
   ]
  },
  {
   "cell_type": "code",
   "execution_count": 45,
   "id": "9b2eabde-7754-41a6-a7a8-c7600600735c",
   "metadata": {},
   "outputs": [],
   "source": [
    "# Write a Python program to print all pronic numbers between 1 and 100"
   ]
  },
  {
   "cell_type": "code",
   "execution_count": 49,
   "id": "b01dfa9f-bdd2-4e43-bd49-aae70dddb534",
   "metadata": {},
   "outputs": [
    {
     "name": "stdout",
     "output_type": "stream",
     "text": [
      "Pronic numbers between 1 and 100 are:\n",
      "2 | 6 | 12 | 20 | 30 | 42 | 56 | 72 | 90 | "
     ]
    }
   ],
   "source": [
    "def is_pronic_number(num):\n",
    "    for n in range(1, int(num**0.5) + 1):\n",
    "        if n * (n + 1) == num:\n",
    "            return True\n",
    "    return False\n",
    "print(\"Pronic numbers between 1 and 100 are:\")\n",
    "for i in range(1, 101):\n",
    "    if is_pronic_number(i):\n",
    "        print(i, end=\" | \")"
   ]
  },
  {
   "cell_type": "code",
   "execution_count": 51,
   "id": "a058e017-3a3c-4af5-aea4-fe2a0549c7f7",
   "metadata": {},
   "outputs": [],
   "source": [
    "# Write a Python program to print all happy numbers between 1 and 100"
   ]
  },
  {
   "cell_type": "code",
   "execution_count": 53,
   "id": "efcfd077-4414-4c36-accd-7a185f6405aa",
   "metadata": {},
   "outputs": [
    {
     "name": "stdout",
     "output_type": "stream",
     "text": [
      "Happy Numbers between 1 and 100:\n",
      "[1, 7, 10, 13, 19, 23, 28, 31, 32, 44, 49, 68, 70, 79, 82, 86, 91, 94, 97, 100]\n"
     ]
    }
   ],
   "source": [
    "def is_happy_number(num):\n",
    "    seen = set()\n",
    "    while num != 1 and num not in seen:\n",
    "        seen.add(num)\n",
    "        num = sum(int(i) ** 2 for i in str(num))\n",
    "    return num == 1\n",
    "happy_numbers = []\n",
    "for num in range(1, 101):\n",
    "    if is_happy_number(num):\n",
    "        happy_numbers.append(num)\n",
    "print(\"Happy Numbers between 1 and 100:\")\n",
    "print(happy_numbers)"
   ]
  },
  {
   "cell_type": "code",
   "execution_count": 55,
   "id": "939a40b7-0618-40f5-b065-49371b576e83",
   "metadata": {},
   "outputs": [],
   "source": [
    "# Write a Python program to check if the given number is Happy Number"
   ]
  },
  {
   "cell_type": "code",
   "execution_count": null,
   "id": "19660e02-26fe-4a28-bf3b-c7f6c5ca938a",
   "metadata": {},
   "outputs": [],
   "source": []
  }
 ],
 "metadata": {
  "kernelspec": {
   "display_name": "Python 3 (ipykernel)",
   "language": "python",
   "name": "python3"
  },
  "language_info": {
   "codemirror_mode": {
    "name": "ipython",
    "version": 3
   },
   "file_extension": ".py",
   "mimetype": "text/x-python",
   "name": "python",
   "nbconvert_exporter": "python",
   "pygments_lexer": "ipython3",
   "version": "3.12.7"
  }
 },
 "nbformat": 4,
 "nbformat_minor": 5
}
