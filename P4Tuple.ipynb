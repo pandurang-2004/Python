{
 "cells": [
  {
   "cell_type": "code",
   "execution_count": 11,
   "id": "19fa19a3-3c99-4a01-a146-d6555b05224a",
   "metadata": {},
   "outputs": [
    {
     "name": "stdout",
     "output_type": "stream",
     "text": [
      "{'name': ['milind', 'sumit', 'shivam', 'om']}\n"
     ]
    }
   ],
   "source": [
    "friend={\"name\":[\"milind\",\"sumit\",\"shivam\",\"om\"]}\n",
    "print(friend)"
   ]
  },
  {
   "cell_type": "code",
   "execution_count": 13,
   "id": "d9b274f3-dc2b-4bd5-933c-74a8d3427c2c",
   "metadata": {},
   "outputs": [
    {
     "ename": "IndexError",
     "evalue": "list index out of range",
     "output_type": "error",
     "traceback": [
      "\u001b[1;31m---------------------------------------------------------------------------\u001b[0m",
      "\u001b[1;31mIndexError\u001b[0m                                Traceback (most recent call last)",
      "Cell \u001b[1;32mIn[13], line 3\u001b[0m\n\u001b[0;32m      1\u001b[0m l1 \u001b[38;5;241m=\u001b[39m [\u001b[38;5;241m7\u001b[39m,\u001b[38;5;241m9\u001b[39m,\u001b[38;5;124m\"\u001b[39m\u001b[38;5;124mmio\u001b[39m\u001b[38;5;124m\"\u001b[39m]\n\u001b[0;32m      2\u001b[0m l1[\u001b[38;5;241m0\u001b[39m]\n\u001b[1;32m----> 3\u001b[0m l1[\u001b[38;5;241m70\u001b[39m]\n\u001b[0;32m      4\u001b[0m l1[\u001b[38;5;241m0.2\u001b[39m]\n",
      "\u001b[1;31mIndexError\u001b[0m: list index out of range"
     ]
    }
   ],
   "source": [
    "l1 = [7,9,\"mio\"]\n",
    "l1[0]\n",
    "l1[70]\n",
    "l1[0.2]"
   ]
  },
  {
   "cell_type": "code",
   "execution_count": 17,
   "id": "63f2dcb4-723d-4a9a-8a30-1593f3e08f59",
   "metadata": {},
   "outputs": [
    {
     "name": "stdout",
     "output_type": "stream",
     "text": [
      "['krishna', 'ram', 4, 5, 6, 'Akash', 'Rohan']\n"
     ]
    },
    {
     "ename": "TypeError",
     "evalue": "'builtin_function_or_method' object is not subscriptable",
     "output_type": "error",
     "traceback": [
      "\u001b[1;31m---------------------------------------------------------------------------\u001b[0m",
      "\u001b[1;31mTypeError\u001b[0m                                 Traceback (most recent call last)",
      "Cell \u001b[1;32mIn[17], line 3\u001b[0m\n\u001b[0;32m      1\u001b[0m friends \u001b[38;5;241m=\u001b[39m [\u001b[38;5;124m\"\u001b[39m\u001b[38;5;124mkrishna\u001b[39m\u001b[38;5;124m\"\u001b[39m,\u001b[38;5;124m\"\u001b[39m\u001b[38;5;124mram\u001b[39m\u001b[38;5;124m\"\u001b[39m,\u001b[38;5;241m4\u001b[39m,\u001b[38;5;241m5\u001b[39m,\u001b[38;5;241m6\u001b[39m,\u001b[38;5;124m\"\u001b[39m\u001b[38;5;124mAkash\u001b[39m\u001b[38;5;124m\"\u001b[39m,\u001b[38;5;124m\"\u001b[39m\u001b[38;5;124mRohan\u001b[39m\u001b[38;5;124m\"\u001b[39m]\n\u001b[0;32m      2\u001b[0m \u001b[38;5;28mprint\u001b[39m(friends)\n\u001b[1;32m----> 3\u001b[0m friends\u001b[38;5;241m.\u001b[39mappend[\u001b[38;5;124m\"\u001b[39m\u001b[38;5;124mMIO\u001b[39m\u001b[38;5;124m\"\u001b[39m]\n\u001b[0;32m      4\u001b[0m \u001b[38;5;28mprint\u001b[39m(friends)\n",
      "\u001b[1;31mTypeError\u001b[0m: 'builtin_function_or_method' object is not subscriptable"
     ]
    }
   ],
   "source": [
    "friends = [\"krishna\",\"ram\",4,5,6,\"Akash\",\"Rohan\"]\n",
    "print(friends)\n",
    "friends.append[\"MIO\"]\n",
    "print(friends)"
   ]
  },
  {
   "cell_type": "code",
   "execution_count": 23,
   "id": "d34e101e-aaab-4ba0-a83f-30e2aaafb9b5",
   "metadata": {},
   "outputs": [
    {
     "name": "stdout",
     "output_type": "stream",
     "text": [
      "['krishna', 'ram', 4, 5, 6, 'Akash', 'Rohan']\n",
      "['krishna', 'ram', 4, 5, 6, 'Akash', 'Rohan', 'MIO']\n"
     ]
    }
   ],
   "source": [
    "friends = [\"krishna\", \"ram\", 4, 5, 6, \"Akash\", \"Rohan\"]\n",
    "print(friends)\n",
    "friends.append(\"MIO\")\n",
    "print(friends)\n"
   ]
  },
  {
   "cell_type": "code",
   "execution_count": 25,
   "id": "3425d186-02d2-43f7-8068-34b86b85bf8c",
   "metadata": {},
   "outputs": [
    {
     "ename": "NameError",
     "evalue": "name 'false' is not defined",
     "output_type": "error",
     "traceback": [
      "\u001b[1;31m---------------------------------------------------------------------------\u001b[0m",
      "\u001b[1;31mNameError\u001b[0m                                 Traceback (most recent call last)",
      "Cell \u001b[1;32mIn[25], line 1\u001b[0m\n\u001b[1;32m----> 1\u001b[0m friends \u001b[38;5;241m=\u001b[39m [\u001b[38;5;124m\"\u001b[39m\u001b[38;5;124mkrishna\u001b[39m\u001b[38;5;124m\"\u001b[39m, \u001b[38;5;124m\"\u001b[39m\u001b[38;5;124mram\u001b[39m\u001b[38;5;124m\"\u001b[39m, \u001b[38;5;241m4\u001b[39m, \u001b[38;5;241m5\u001b[39m, \u001b[38;5;241m6\u001b[39m,false, \u001b[38;5;124m\"\u001b[39m\u001b[38;5;124mAkash\u001b[39m\u001b[38;5;124m\"\u001b[39m, \u001b[38;5;124m\"\u001b[39m\u001b[38;5;124mRohan\u001b[39m\u001b[38;5;124m\"\u001b[39m]\n\u001b[0;32m      2\u001b[0m \u001b[38;5;28mprint\u001b[39m(friends)\n\u001b[0;32m      3\u001b[0m friends\u001b[38;5;241m.\u001b[39mappend(\u001b[38;5;124m\"\u001b[39m\u001b[38;5;124mMIO\u001b[39m\u001b[38;5;124m\"\u001b[39m)\n",
      "\u001b[1;31mNameError\u001b[0m: name 'false' is not defined"
     ]
    }
   ],
   "source": [
    "friends = [\"krishna\", \"ram\", 4, 5, 6,false, \"Akash\", \"Rohan\"]\n",
    "print(friends)\n",
    "friends.append(\"MIO\")\n",
    "print(friends)\n"
   ]
  },
  {
   "cell_type": "code",
   "execution_count": 27,
   "id": "17024cee-778f-4195-9f08-a78b127e0199",
   "metadata": {},
   "outputs": [
    {
     "name": "stdout",
     "output_type": "stream",
     "text": [
      "['krishna', 'ram', 4, 5, 6, False, 'Akash', 'Rohan']\n",
      "['krishna', 'ram', 4, 5, 6, False, 'Akash', 'Rohan', 'MIO']\n"
     ]
    }
   ],
   "source": [
    "friends = [\"krishna\", \"ram\", 4, 5, 6, False, \"Akash\", \"Rohan\"]\n",
    "print(friends)\n",
    "friends.append(\"MIO\")\n",
    "print(friends)\n"
   ]
  },
  {
   "cell_type": "code",
   "execution_count": 29,
   "id": "2aadbdce-d82e-4dbf-b20d-421c39b89379",
   "metadata": {},
   "outputs": [
    {
     "name": "stdout",
     "output_type": "stream",
     "text": [
      "[1, 4, 7, 23, 66, 455]\n"
     ]
    }
   ],
   "source": [
    "l2 = [1,23,4,455,66,7]\n",
    "l2.sort()\n",
    "print(l2)"
   ]
  },
  {
   "cell_type": "code",
   "execution_count": 33,
   "id": "9500722e-24b7-4449-b446-cc1154373313",
   "metadata": {},
   "outputs": [
    {
     "name": "stdout",
     "output_type": "stream",
     "text": [
      "[54, 5, 4, 5344, 45, 34]\n"
     ]
    }
   ],
   "source": [
    "l3 = [34,45,5344,4,5,54]\n",
    "l3.reverse()\n",
    "print(l3)"
   ]
  },
  {
   "cell_type": "code",
   "execution_count": 35,
   "id": "e02594f2-d9e6-4e99-9f04-aea130eb0aea",
   "metadata": {},
   "outputs": [
    {
     "name": "stdout",
     "output_type": "stream",
     "text": [
      "[34, 45, 44, 5344, 4, 5, 54]\n"
     ]
    }
   ],
   "source": [
    "l3 = [34,45,5344,4,5,54]\n",
    "l3.insert(2,44)\n",
    "print(l3)"
   ]
  },
  {
   "cell_type": "code",
   "execution_count": 37,
   "id": "78484d8a-3de1-41d0-a4ec-63be94331353",
   "metadata": {},
   "outputs": [
    {
     "name": "stdout",
     "output_type": "stream",
     "text": [
      "4\n",
      "[34, 45, 5344, 5, 54]\n"
     ]
    }
   ],
   "source": [
    "l3 = [34,45,5344,4,5,54]\n",
    "print(l3.pop(3))\n",
    "print(l3)"
   ]
  },
  {
   "cell_type": "code",
   "execution_count": 1,
   "id": "9226785f-5f6a-44e4-973b-0071de1fd141",
   "metadata": {},
   "outputs": [],
   "source": [
    "frutes=[\"mango\",\"banana\",\"apple\"]"
   ]
  },
  {
   "cell_type": "code",
   "execution_count": 3,
   "id": "c9acbdd9-6bac-4644-a52e-681b27b1263b",
   "metadata": {},
   "outputs": [
    {
     "data": {
      "text/plain": [
       "list"
      ]
     },
     "execution_count": 3,
     "metadata": {},
     "output_type": "execute_result"
    }
   ],
   "source": [
    "type(frutes)"
   ]
  },
  {
   "cell_type": "code",
   "execution_count": 7,
   "id": "63fc84d8-6b01-46b3-a016-81d4f61806f6",
   "metadata": {},
   "outputs": [],
   "source": [
    "frutes[2]=\"mio\""
   ]
  },
  {
   "cell_type": "code",
   "execution_count": 9,
   "id": "e83a72c7-73a5-4e22-aa15-791eef8c4502",
   "metadata": {},
   "outputs": [
    {
     "data": {
      "text/plain": [
       "['mango', 'banana', 'mio']"
      ]
     },
     "execution_count": 9,
     "metadata": {},
     "output_type": "execute_result"
    }
   ],
   "source": [
    "frutes"
   ]
  },
  {
   "cell_type": "code",
   "execution_count": 11,
   "id": "15385a1d-26cb-405e-806c-5117e1adbf85",
   "metadata": {},
   "outputs": [],
   "source": [
    "t = (\"Mio\",\"Pandu\",\"Ram\",\"Yash\")"
   ]
  },
  {
   "cell_type": "code",
   "execution_count": 13,
   "id": "b253f17c-8c68-49e6-b57e-85bd13ace469",
   "metadata": {},
   "outputs": [
    {
     "data": {
      "text/plain": [
       "tuple"
      ]
     },
     "execution_count": 13,
     "metadata": {},
     "output_type": "execute_result"
    }
   ],
   "source": [
    "type(t)"
   ]
  },
  {
   "cell_type": "code",
   "execution_count": 15,
   "id": "0b0c8729-be6c-4c7c-9429-d76c2aead5bf",
   "metadata": {},
   "outputs": [],
   "source": [
    "\n",
    "# indexing"
   ]
  },
  {
   "cell_type": "code",
   "execution_count": 17,
   "id": "59160c5d-f253-497f-89cc-5b1c4571c8c8",
   "metadata": {},
   "outputs": [
    {
     "data": {
      "text/plain": [
       "'Mio'"
      ]
     },
     "execution_count": 17,
     "metadata": {},
     "output_type": "execute_result"
    }
   ],
   "source": [
    "t[0]"
   ]
  },
  {
   "cell_type": "code",
   "execution_count": 19,
   "id": "18fa3be7-001e-447c-9ae4-9a45188cfba5",
   "metadata": {},
   "outputs": [],
   "source": [
    "# slicing"
   ]
  },
  {
   "cell_type": "code",
   "execution_count": 23,
   "id": "a9573baa-995e-4928-93fb-47c17aad7165",
   "metadata": {},
   "outputs": [
    {
     "data": {
      "text/plain": [
       "('Pandu', 'Ram', 'Yash')"
      ]
     },
     "execution_count": 23,
     "metadata": {},
     "output_type": "execute_result"
    }
   ],
   "source": [
    "t[1:4]"
   ]
  },
  {
   "cell_type": "code",
   "execution_count": 25,
   "id": "347000c9-5d18-4756-a834-5200e8b0860c",
   "metadata": {},
   "outputs": [
    {
     "ename": "TypeError",
     "evalue": "'tuple' object does not support item assignment",
     "output_type": "error",
     "traceback": [
      "\u001b[1;31m---------------------------------------------------------------------------\u001b[0m",
      "\u001b[1;31mTypeError\u001b[0m                                 Traceback (most recent call last)",
      "Cell \u001b[1;32mIn[25], line 1\u001b[0m\n\u001b[1;32m----> 1\u001b[0m t[\u001b[38;5;241m2\u001b[39m]\u001b[38;5;241m=\u001b[39m\u001b[38;5;124m\"\u001b[39m\u001b[38;5;124mRadha\u001b[39m\u001b[38;5;124m\"\u001b[39m\n",
      "\u001b[1;31mTypeError\u001b[0m: 'tuple' object does not support item assignment"
     ]
    }
   ],
   "source": [
    "t[2]=\"Radha\""
   ]
  },
  {
   "cell_type": "code",
   "execution_count": 27,
   "id": "83f02a5f-f8c0-4f08-b178-bd2ff1275201",
   "metadata": {},
   "outputs": [],
   "source": [
    "#tuple are immutable"
   ]
  },
  {
   "cell_type": "code",
   "execution_count": 29,
   "id": "0c07bd9d-6777-413c-ba51-49a915cf822e",
   "metadata": {},
   "outputs": [],
   "source": [
    "t1 =(\"pandurang\",2,3.4,True)"
   ]
  },
  {
   "cell_type": "code",
   "execution_count": 31,
   "id": "25414ce5-b7be-483d-8f3b-03661fa7bcf0",
   "metadata": {},
   "outputs": [
    {
     "data": {
      "text/plain": [
       "tuple"
      ]
     },
     "execution_count": 31,
     "metadata": {},
     "output_type": "execute_result"
    }
   ],
   "source": [
    "type(t1)"
   ]
  },
  {
   "cell_type": "code",
   "execution_count": 33,
   "id": "49875c52-c6cf-4731-896f-d8123e814caf",
   "metadata": {},
   "outputs": [
    {
     "data": {
      "text/plain": [
       "int"
      ]
     },
     "execution_count": 33,
     "metadata": {},
     "output_type": "execute_result"
    }
   ],
   "source": [
    "type(t1[1])"
   ]
  },
  {
   "cell_type": "code",
   "execution_count": 35,
   "id": "aacafc09-6a84-43f4-8091-b14cbd21eca7",
   "metadata": {},
   "outputs": [],
   "source": [
    "# Creating empty tuple\n"
   ]
  },
  {
   "cell_type": "code",
   "execution_count": 37,
   "id": "253ea630-87de-4e96-a436-a8fa97bf2649",
   "metadata": {},
   "outputs": [],
   "source": [
    "a =()"
   ]
  },
  {
   "cell_type": "code",
   "execution_count": 39,
   "id": "8efc5ca6-25aa-4522-9ca8-f782cdb30888",
   "metadata": {},
   "outputs": [
    {
     "data": {
      "text/plain": [
       "tuple"
      ]
     },
     "execution_count": 39,
     "metadata": {},
     "output_type": "execute_result"
    }
   ],
   "source": [
    "type(a)"
   ]
  },
  {
   "cell_type": "code",
   "execution_count": 41,
   "id": "6807ef42-0000-4a88-8fb9-4307ebee27a8",
   "metadata": {},
   "outputs": [],
   "source": [
    "# Non empty tuple"
   ]
  },
  {
   "cell_type": "code",
   "execution_count": 43,
   "id": "59eb5d39-1e19-4b22-a50d-e24992878364",
   "metadata": {},
   "outputs": [
    {
     "data": {
      "text/plain": [
       "int"
      ]
     },
     "execution_count": 43,
     "metadata": {},
     "output_type": "execute_result"
    }
   ],
   "source": [
    "b =(10)\n",
    "type(b)"
   ]
  },
  {
   "cell_type": "code",
   "execution_count": 45,
   "id": "77d3add0-eb96-44c7-bb1b-8222381fe64b",
   "metadata": {},
   "outputs": [
    {
     "data": {
      "text/plain": [
       "tuple"
      ]
     },
     "execution_count": 45,
     "metadata": {},
     "output_type": "execute_result"
    }
   ],
   "source": [
    "b =(10,)\n",
    "type(b)"
   ]
  },
  {
   "cell_type": "code",
   "execution_count": 47,
   "id": "b85d3a52-5439-4230-a305-77349942e745",
   "metadata": {},
   "outputs": [],
   "source": [
    "t3=tuple(\"Pandu\")\n"
   ]
  },
  {
   "cell_type": "code",
   "execution_count": 49,
   "id": "80ca69ce-9a65-4761-9073-54fd29f3b855",
   "metadata": {},
   "outputs": [
    {
     "data": {
      "text/plain": [
       "('P', 'a', 'n', 'd', 'u')"
      ]
     },
     "execution_count": 49,
     "metadata": {},
     "output_type": "execute_result"
    }
   ],
   "source": [
    "t3"
   ]
  },
  {
   "cell_type": "code",
   "execution_count": 51,
   "id": "5472b5f8-a8e9-4c24-8876-bb4d55bce2a1",
   "metadata": {},
   "outputs": [],
   "source": [
    "t =(10,20)"
   ]
  },
  {
   "cell_type": "code",
   "execution_count": 53,
   "id": "dcdc20c9-1d64-4681-802a-52cc5a99f3a6",
   "metadata": {},
   "outputs": [
    {
     "data": {
      "text/plain": [
       "2"
      ]
     },
     "execution_count": 53,
     "metadata": {},
     "output_type": "execute_result"
    }
   ],
   "source": [
    "len(t)"
   ]
  },
  {
   "cell_type": "code",
   "execution_count": 55,
   "id": "14068c90-eea9-4bf5-be16-a8f436695992",
   "metadata": {},
   "outputs": [],
   "source": [
    "t = ([10,20,30],[40,50,50])"
   ]
  },
  {
   "cell_type": "code",
   "execution_count": 57,
   "id": "a33731e7-e188-4faa-a58f-857678a96c1d",
   "metadata": {},
   "outputs": [
    {
     "name": "stdout",
     "output_type": "stream",
     "text": [
      "2\n"
     ]
    }
   ],
   "source": [
    "print(len(t))"
   ]
  },
  {
   "cell_type": "code",
   "execution_count": 59,
   "id": "ded3aa77-ac9f-45bb-b4a6-a6c3a11fec73",
   "metadata": {},
   "outputs": [],
   "source": [
    "# Mutability"
   ]
  },
  {
   "cell_type": "code",
   "execution_count": 61,
   "id": "38e0ab8f-ae37-4cb3-bcb4-711c4fec4f1c",
   "metadata": {},
   "outputs": [],
   "source": [
    "t= (2,3,4)"
   ]
  },
  {
   "cell_type": "code",
   "execution_count": 63,
   "id": "500fc66b-4560-4a50-9c31-d65319493d73",
   "metadata": {},
   "outputs": [
    {
     "ename": "TypeError",
     "evalue": "'tuple' object does not support item assignment",
     "output_type": "error",
     "traceback": [
      "\u001b[1;31m---------------------------------------------------------------------------\u001b[0m",
      "\u001b[1;31mTypeError\u001b[0m                                 Traceback (most recent call last)",
      "Cell \u001b[1;32mIn[63], line 1\u001b[0m\n\u001b[1;32m----> 1\u001b[0m t[\u001b[38;5;241m0\u001b[39m]\u001b[38;5;241m=\u001b[39m\u001b[38;5;241m45\u001b[39m\n",
      "\u001b[1;31mTypeError\u001b[0m: 'tuple' object does not support item assignment"
     ]
    }
   ],
   "source": [
    " t[0]=45"
   ]
  },
  {
   "cell_type": "code",
   "execution_count": 65,
   "id": "220fc775-4d8a-4854-ac1f-8a30416b4129",
   "metadata": {},
   "outputs": [],
   "source": [
    "t=([1,3],\"Pandu\")"
   ]
  },
  {
   "cell_type": "code",
   "execution_count": 67,
   "id": "6b5154e5-9546-49b4-b643-9c055763af2b",
   "metadata": {},
   "outputs": [
    {
     "data": {
      "text/plain": [
       "tuple"
      ]
     },
     "execution_count": 67,
     "metadata": {},
     "output_type": "execute_result"
    }
   ],
   "source": [
    "type(t)"
   ]
  },
  {
   "cell_type": "code",
   "execution_count": 69,
   "id": "421a87ac-17af-4731-818d-3ccab015ba69",
   "metadata": {},
   "outputs": [
    {
     "data": {
      "text/plain": [
       "str"
      ]
     },
     "execution_count": 69,
     "metadata": {},
     "output_type": "execute_result"
    }
   ],
   "source": [
    "type(t[1])"
   ]
  },
  {
   "cell_type": "code",
   "execution_count": 73,
   "id": "6a2c0888-4bfc-4702-b3d1-e038c3532ebf",
   "metadata": {},
   "outputs": [
    {
     "data": {
      "text/plain": [
       "list"
      ]
     },
     "execution_count": 73,
     "metadata": {},
     "output_type": "execute_result"
    }
   ],
   "source": [
    "type(t[0])"
   ]
  },
  {
   "cell_type": "code",
   "execution_count": 75,
   "id": "bb08dd31-10a2-4302-a636-38e7006b5106",
   "metadata": {},
   "outputs": [],
   "source": [
    "t[0][0]=45"
   ]
  },
  {
   "cell_type": "code",
   "execution_count": 77,
   "id": "1cbcbc32-aca8-4bb7-915a-b28f7e7932e3",
   "metadata": {},
   "outputs": [
    {
     "data": {
      "text/plain": [
       "([45, 3], 'Pandu')"
      ]
     },
     "execution_count": 77,
     "metadata": {},
     "output_type": "execute_result"
    }
   ],
   "source": [
    "t"
   ]
  },
  {
   "cell_type": "code",
   "execution_count": 79,
   "id": "13bff028-abf1-45a5-a9ea-c3b82dd97bfc",
   "metadata": {},
   "outputs": [],
   "source": [
    "# Unpacking A Tuple"
   ]
  },
  {
   "cell_type": "code",
   "execution_count": 81,
   "id": "7bb069ac-f788-4af8-bd49-7e9fc19961fc",
   "metadata": {},
   "outputs": [
    {
     "name": "stdout",
     "output_type": "stream",
     "text": [
      "3 4 5 1\n"
     ]
    }
   ],
   "source": [
    "a=3\n",
    "b=4\n",
    "c=5\n",
    "d=1\n",
    "print(a,b,c,d)"
   ]
  },
  {
   "cell_type": "code",
   "execution_count": 83,
   "id": "6267f909-a72f-4552-9a2e-5fce1f696e81",
   "metadata": {},
   "outputs": [
    {
     "name": "stdout",
     "output_type": "stream",
     "text": [
      "2 4\n"
     ]
    }
   ],
   "source": [
    "a,b=2,4\n",
    "print(a,b)"
   ]
  },
  {
   "cell_type": "code",
   "execution_count": 85,
   "id": "03e13999-9ee1-4cc6-9188-f5470595c999",
   "metadata": {},
   "outputs": [],
   "source": [
    "a=(1,2,3,4)"
   ]
  },
  {
   "cell_type": "code",
   "execution_count": 89,
   "id": "8c7a3aba-8269-419a-8a63-1c4cf91568e7",
   "metadata": {},
   "outputs": [
    {
     "name": "stdout",
     "output_type": "stream",
     "text": [
      "1 2 3 4\n"
     ]
    }
   ],
   "source": [
    "a,b,c,d=a\n",
    "print(a,b,c,d)"
   ]
  },
  {
   "cell_type": "code",
   "execution_count": 91,
   "id": "385c603d-81cb-4392-a976-9c799a611628",
   "metadata": {},
   "outputs": [],
   "source": [
    "# This process is know as unpacking"
   ]
  },
  {
   "cell_type": "code",
   "execution_count": null,
   "id": "f433ee79-0c8e-4a88-ab07-f9c130a1f85d",
   "metadata": {},
   "outputs": [],
   "source": []
  },
  {
   "cell_type": "code",
   "execution_count": 94,
   "id": "e642f524-be46-4626-a774-d123a5045582",
   "metadata": {},
   "outputs": [],
   "source": [
    "# Tuple Operations"
   ]
  },
  {
   "cell_type": "code",
   "execution_count": 96,
   "id": "1137dcb8-f9d2-45d8-96f8-b7eb045ea1f8",
   "metadata": {},
   "outputs": [],
   "source": [
    "# Count"
   ]
  },
  {
   "cell_type": "code",
   "execution_count": 106,
   "id": "c1a3a5a4-074d-4fb5-a286-ba4db42beacb",
   "metadata": {},
   "outputs": [
    {
     "data": {
      "text/plain": [
       "tuple"
      ]
     },
     "execution_count": 106,
     "metadata": {},
     "output_type": "execute_result"
    }
   ],
   "source": [
    "t=(1,2,3,4,5,4)\n",
    "type(t)"
   ]
  },
  {
   "cell_type": "code",
   "execution_count": 108,
   "id": "30d1cf87-c76c-4bba-b928-2d8530d5107a",
   "metadata": {},
   "outputs": [
    {
     "data": {
      "text/plain": [
       "1"
      ]
     },
     "execution_count": 108,
     "metadata": {},
     "output_type": "execute_result"
    }
   ],
   "source": [
    "t.count(1)"
   ]
  },
  {
   "cell_type": "code",
   "execution_count": 110,
   "id": "cdecb223-d3a8-4ae1-83d9-785b6c6b90fa",
   "metadata": {},
   "outputs": [
    {
     "data": {
      "text/plain": [
       "0"
      ]
     },
     "execution_count": 110,
     "metadata": {},
     "output_type": "execute_result"
    }
   ],
   "source": [
    "t.count(45)"
   ]
  },
  {
   "cell_type": "code",
   "execution_count": 112,
   "id": "9a040d8a-bf9e-4b1a-94dc-9c8b8bd71006",
   "metadata": {},
   "outputs": [
    {
     "data": {
      "text/plain": [
       "1"
      ]
     },
     "execution_count": 112,
     "metadata": {},
     "output_type": "execute_result"
    }
   ],
   "source": [
    "t.count(3)"
   ]
  },
  {
   "cell_type": "code",
   "execution_count": 116,
   "id": "6341a0c3-c475-4e94-9c28-f04343fcd698",
   "metadata": {},
   "outputs": [
    {
     "data": {
      "text/plain": [
       "2"
      ]
     },
     "execution_count": 116,
     "metadata": {},
     "output_type": "execute_result"
    }
   ],
   "source": [
    "t.count(4)"
   ]
  },
  {
   "cell_type": "code",
   "execution_count": 129,
   "id": "e910eba7-3f1e-4bb8-a16c-30ac0d683fb9",
   "metadata": {},
   "outputs": [],
   "source": [
    "# INDEX"
   ]
  },
  {
   "cell_type": "code",
   "execution_count": null,
   "id": "3baeb2ac-bd69-4e06-b344-06bc414d7ecd",
   "metadata": {},
   "outputs": [],
   "source": []
  },
  {
   "cell_type": "code",
   "execution_count": 131,
   "id": "a00e19cc-3103-4d82-b81c-52bb1b285e75",
   "metadata": {},
   "outputs": [],
   "source": [
    "t4=(1,2,3,4,5)"
   ]
  },
  {
   "cell_type": "code",
   "execution_count": 123,
   "id": "3c0b9857-7622-47f2-a666-bb570850306e",
   "metadata": {},
   "outputs": [
    {
     "data": {
      "text/plain": [
       "\u001b[1;31mSignature:\u001b[0m \u001b[0mt\u001b[0m\u001b[1;33m.\u001b[0m\u001b[0mindex\u001b[0m\u001b[1;33m(\u001b[0m\u001b[0mvalue\u001b[0m\u001b[1;33m,\u001b[0m \u001b[0mstart\u001b[0m\u001b[1;33m=\u001b[0m\u001b[1;36m0\u001b[0m\u001b[1;33m,\u001b[0m \u001b[0mstop\u001b[0m\u001b[1;33m=\u001b[0m\u001b[1;36m9223372036854775807\u001b[0m\u001b[1;33m,\u001b[0m \u001b[1;33m/\u001b[0m\u001b[1;33m)\u001b[0m\u001b[1;33m\u001b[0m\u001b[1;33m\u001b[0m\u001b[0m\n",
       "\u001b[1;31mDocstring:\u001b[0m\n",
       "Return first index of value.\n",
       "\n",
       "Raises ValueError if the value is not present.\n",
       "\u001b[1;31mType:\u001b[0m      builtin_function_or_method"
      ]
     },
     "metadata": {},
     "output_type": "display_data"
    }
   ],
   "source": [
    "t.index?"
   ]
  },
  {
   "cell_type": "code",
   "execution_count": 135,
   "id": "cf4f27a1-7cd9-4bc5-89fe-0396d57821a7",
   "metadata": {},
   "outputs": [
    {
     "data": {
      "text/plain": [
       "0"
      ]
     },
     "execution_count": 135,
     "metadata": {},
     "output_type": "execute_result"
    }
   ],
   "source": [
    "t4.index(1)"
   ]
  },
  {
   "cell_type": "code",
   "execution_count": null,
   "id": "e6fb6afd-c29c-42a9-a7d0-35ecdd76b2ad",
   "metadata": {},
   "outputs": [],
   "source": []
  },
  {
   "cell_type": "code",
   "execution_count": 138,
   "id": "398ca40c-0b53-4c10-a7c1-4a02f8274c8f",
   "metadata": {},
   "outputs": [],
   "source": [
    "# ITERATION\n"
   ]
  },
  {
   "cell_type": "code",
   "execution_count": 140,
   "id": "962955c2-feb1-4df7-977e-7ea32a57a773",
   "metadata": {},
   "outputs": [
    {
     "data": {
      "text/plain": [
       "(1, 2, 3, 4, 5)"
      ]
     },
     "execution_count": 140,
     "metadata": {},
     "output_type": "execute_result"
    }
   ],
   "source": [
    "t4"
   ]
  },
  {
   "cell_type": "code",
   "execution_count": 142,
   "id": "4f0f330d-2a2b-4a33-8942-3b2a2ed0a432",
   "metadata": {},
   "outputs": [
    {
     "data": {
      "text/plain": [
       "5"
      ]
     },
     "execution_count": 142,
     "metadata": {},
     "output_type": "execute_result"
    }
   ],
   "source": [
    "len(t4)"
   ]
  },
  {
   "cell_type": "code",
   "execution_count": 146,
   "id": "f825aa58-0eaa-4f33-bdc3-cf98c7142ef3",
   "metadata": {},
   "outputs": [
    {
     "name": "stdout",
     "output_type": "stream",
     "text": [
      "1\n",
      "4\n",
      "9\n",
      "16\n",
      "25\n"
     ]
    }
   ],
   "source": [
    "for i in t4:\n",
    "    print(i**2)"
   ]
  },
  {
   "cell_type": "code",
   "execution_count": null,
   "id": "802d2b0a-83a6-4865-9cad-e84a757707f7",
   "metadata": {},
   "outputs": [],
   "source": [
    "\n"
   ]
  },
  {
   "cell_type": "code",
   "execution_count": 149,
   "id": "c697b7b0-cdeb-4db0-bc52-e5f5cf44eae4",
   "metadata": {},
   "outputs": [],
   "source": [
    "# CONCATENATION"
   ]
  },
  {
   "cell_type": "code",
   "execution_count": 151,
   "id": "7261c105-ae76-4556-9cd7-674f52fa2508",
   "metadata": {},
   "outputs": [],
   "source": [
    "# +,*\n"
   ]
  },
  {
   "cell_type": "code",
   "execution_count": 153,
   "id": "01b9df4a-5643-4920-b2f5-03f0f442e39c",
   "metadata": {},
   "outputs": [
    {
     "data": {
      "text/plain": [
       "(1, 2, 3, 4, 5)"
      ]
     },
     "execution_count": 153,
     "metadata": {},
     "output_type": "execute_result"
    }
   ],
   "source": [
    "    t4"
   ]
  },
  {
   "cell_type": "code",
   "execution_count": 155,
   "id": "5dd58b92-d0d8-4aec-9367-d0a6e591dadd",
   "metadata": {},
   "outputs": [],
   "source": [
    "t1=(5,6)"
   ]
  },
  {
   "cell_type": "code",
   "execution_count": 157,
   "id": "ed5f4fb0-00cc-453f-a55a-ffaea7eee24a",
   "metadata": {},
   "outputs": [],
   "source": [
    "t2 = t1+t1"
   ]
  },
  {
   "cell_type": "code",
   "execution_count": 159,
   "id": "9f102223-b0d2-4eed-a2df-3722437df43d",
   "metadata": {},
   "outputs": [
    {
     "data": {
      "text/plain": [
       "(5, 6, 5, 6)"
      ]
     },
     "execution_count": 159,
     "metadata": {},
     "output_type": "execute_result"
    }
   ],
   "source": [
    "t2"
   ]
  },
  {
   "cell_type": "code",
   "execution_count": 163,
   "id": "9d062d25-ca88-494a-8713-4ce25c60d239",
   "metadata": {},
   "outputs": [
    {
     "data": {
      "text/plain": [
       "(5, 6, 5, 6, 5, 6, 5, 6)"
      ]
     },
     "execution_count": 163,
     "metadata": {},
     "output_type": "execute_result"
    }
   ],
   "source": [
    "t2 * 2"
   ]
  },
  {
   "cell_type": "code",
   "execution_count": 165,
   "id": "a934e67b-f79e-4416-adb1-7e884be22de7",
   "metadata": {},
   "outputs": [
    {
     "data": {
      "text/plain": [
       "(5, 6, 5, 6)"
      ]
     },
     "execution_count": 165,
     "metadata": {},
     "output_type": "execute_result"
    }
   ],
   "source": [
    "t2"
   ]
  },
  {
   "cell_type": "code",
   "execution_count": null,
   "id": "1b313522-50f3-4732-b426-e1b8e2c7480f",
   "metadata": {},
   "outputs": [],
   "source": []
  },
  {
   "cell_type": "code",
   "execution_count": 168,
   "id": "8cc1b8c0-e0fc-4c31-b7cb-9155426908ec",
   "metadata": {},
   "outputs": [],
   "source": [
    "# Tuple To list And List To Tuple"
   ]
  },
  {
   "cell_type": "code",
   "execution_count": 170,
   "id": "73f5a112-60e2-4ff3-80f4-5dec10581b01",
   "metadata": {},
   "outputs": [
    {
     "data": {
      "text/plain": [
       "(1, 2, 3, 4, 5)"
      ]
     },
     "execution_count": 170,
     "metadata": {},
     "output_type": "execute_result"
    }
   ],
   "source": [
    "t4"
   ]
  },
  {
   "cell_type": "code",
   "execution_count": 172,
   "id": "a05d8c25-f756-4978-b2b2-0815674606d9",
   "metadata": {},
   "outputs": [],
   "source": [
    "list = list(t4)"
   ]
  },
  {
   "cell_type": "code",
   "execution_count": 174,
   "id": "d3293e86-9141-44ef-8262-58d582f658dd",
   "metadata": {},
   "outputs": [
    {
     "data": {
      "text/plain": [
       "list"
      ]
     },
     "execution_count": 174,
     "metadata": {},
     "output_type": "execute_result"
    }
   ],
   "source": [
    "type(list)"
   ]
  },
  {
   "cell_type": "code",
   "execution_count": 176,
   "id": "c4ea8785-768b-48db-93a9-712c90105a59",
   "metadata": {},
   "outputs": [],
   "source": [
    "t = tuple(list)"
   ]
  },
  {
   "cell_type": "code",
   "execution_count": 178,
   "id": "46164b11-a802-408a-92a1-c3e8e169c3ff",
   "metadata": {},
   "outputs": [
    {
     "data": {
      "text/plain": [
       "tuple"
      ]
     },
     "execution_count": 178,
     "metadata": {},
     "output_type": "execute_result"
    }
   ],
   "source": [
    "type(t)"
   ]
  },
  {
   "cell_type": "code",
   "execution_count": 180,
   "id": "c37c6288-e16f-4ac6-ace5-e6078ad33dea",
   "metadata": {},
   "outputs": [
    {
     "name": "stdout",
     "output_type": "stream",
     "text": [
      "('Item_1', 0.5, ['Vijay', 'Vickey', 'Vishal'])\n"
     ]
    }
   ],
   "source": [
    "name_lst = [\"Vijay\", \"Vickey\"]\n",
    "tup = (\"Item_1\", 0.5, name_lst)\n",
    "name_lst.append(\"Vishal\")\n",
    "print(tup)"
   ]
  },
  {
   "cell_type": "code",
   "execution_count": 182,
   "id": "b79f8742-0006-4be1-bf83-412e128fec22",
   "metadata": {},
   "outputs": [
    {
     "name": "stdout",
     "output_type": "stream",
     "text": [
      "(30, 40, 50) (10, 20, 30, 40) (40, 50, 60, 70, 80)\n"
     ]
    }
   ],
   "source": [
    "elements = (10, 20, 30, 40, 50, 60, 70, 80)\n",
    "print(elements[2:5], elements[:4], elements[3:100])"
   ]
  },
  {
   "cell_type": "code",
   "execution_count": 184,
   "id": "19b802e9-3a96-4edd-a29e-619bf7431316",
   "metadata": {},
   "outputs": [],
   "source": [
    "fruits = (\"Orange\")"
   ]
  },
  {
   "cell_type": "code",
   "execution_count": 186,
   "id": "5e6577e3-cbd9-4ec5-8d3f-ccf39999902c",
   "metadata": {},
   "outputs": [
    {
     "data": {
      "text/plain": [
       "str"
      ]
     },
     "execution_count": 186,
     "metadata": {},
     "output_type": "execute_result"
    }
   ],
   "source": [
    "type(fruits)"
   ]
  },
  {
   "cell_type": "code",
   "execution_count": null,
   "id": "4e71fc95-8967-448b-9834-29497f519600",
   "metadata": {},
   "outputs": [],
   "source": []
  }
 ],
 "metadata": {
  "kernelspec": {
   "display_name": "Python 3 (ipykernel)",
   "language": "python",
   "name": "python3"
  },
  "language_info": {
   "codemirror_mode": {
    "name": "ipython",
    "version": 3
   },
   "file_extension": ".py",
   "mimetype": "text/x-python",
   "name": "python",
   "nbconvert_exporter": "python",
   "pygments_lexer": "ipython3",
   "version": "3.12.7"
  }
 },
 "nbformat": 4,
 "nbformat_minor": 5
}
