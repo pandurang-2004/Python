{
 "cells": [
  {
   "cell_type": "code",
   "execution_count": 1,
   "id": "fa28053a-e57e-4f78-8310-0497f9b62c15",
   "metadata": {},
   "outputs": [],
   "source": [
    "def mio():\n",
    "    print(\"Hello!\")\n"
   ]
  },
  {
   "cell_type": "code",
   "execution_count": 5,
   "id": "03226717-569b-44e7-b4f4-0b041a83bda5",
   "metadata": {},
   "outputs": [
    {
     "name": "stdout",
     "output_type": "stream",
     "text": [
      "Hello!\n"
     ]
    }
   ],
   "source": [
    "mio()"
   ]
  },
  {
   "cell_type": "code",
   "execution_count": 25,
   "id": "89a892dc-f583-4a30-b3c0-8e845cc00bbc",
   "metadata": {},
   "outputs": [],
   "source": [
    "def add(a, b):\n",
    "    return a + b\n"
   ]
  },
  {
   "cell_type": "code",
   "execution_count": 27,
   "id": "9374bd71-62b4-4983-885b-515e46f04e11",
   "metadata": {},
   "outputs": [
    {
     "data": {
      "text/plain": [
       "20"
      ]
     },
     "execution_count": 27,
     "metadata": {},
     "output_type": "execute_result"
    }
   ],
   "source": [
    "add(16,4)"
   ]
  },
  {
   "cell_type": "code",
   "execution_count": 29,
   "id": "6e8f4279-aa14-4e8b-8bfb-4223f1c526b7",
   "metadata": {},
   "outputs": [],
   "source": [
    "def sub(a, b):\n",
    "    return a - b\n"
   ]
  },
  {
   "cell_type": "code",
   "execution_count": 33,
   "id": "fdd1cc3f-633f-4676-978f-042e7edc5238",
   "metadata": {},
   "outputs": [
    {
     "data": {
      "text/plain": [
       "13"
      ]
     },
     "execution_count": 33,
     "metadata": {},
     "output_type": "execute_result"
    }
   ],
   "source": [
    "sub(17,4)"
   ]
  },
  {
   "cell_type": "code",
   "execution_count": 35,
   "id": "c76ec816-c2ae-4b7d-8475-9881e3904634",
   "metadata": {},
   "outputs": [],
   "source": [
    "def mul(a, b):\n",
    "    return a * b\n"
   ]
  },
  {
   "cell_type": "code",
   "execution_count": 37,
   "id": "7a399d68-0895-485e-a1ce-13aa4ce1afea",
   "metadata": {},
   "outputs": [
    {
     "data": {
      "text/plain": [
       "20"
      ]
     },
     "execution_count": 37,
     "metadata": {},
     "output_type": "execute_result"
    }
   ],
   "source": [
    "mul(10,2)"
   ]
  },
  {
   "cell_type": "code",
   "execution_count": 39,
   "id": "a74322b2-b31f-4f6e-adc3-34a5fee36278",
   "metadata": {},
   "outputs": [],
   "source": [
    "def div(a, b):\n",
    "    return a / b\n"
   ]
  },
  {
   "cell_type": "code",
   "execution_count": 41,
   "id": "356f1e1b-4cd6-4f5e-9007-7e6b6514dbc8",
   "metadata": {},
   "outputs": [
    {
     "data": {
      "text/plain": [
       "3.857142857142857"
      ]
     },
     "execution_count": 41,
     "metadata": {},
     "output_type": "execute_result"
    }
   ],
   "source": [
    "div(27,7)"
   ]
  },
  {
   "cell_type": "code",
   "execution_count": 43,
   "id": "c95d57f4-d3ea-4ab4-9b6f-ed041d485b74",
   "metadata": {},
   "outputs": [
    {
     "name": "stdout",
     "output_type": "stream",
     "text": [
      "25\n"
     ]
    }
   ],
   "source": [
    "square = lambda x: x * x\n",
    "print(square(5))  \n"
   ]
  },
  {
   "cell_type": "code",
   "execution_count": 45,
   "id": "8da954df-8e2f-40b8-b477-c0da4eb4be4d",
   "metadata": {},
   "outputs": [],
   "source": [
    "def factorial(n):\n",
    "    if n == 0:\n",
    "        return 1\n",
    "    return n * factorial(n - 1)\n"
   ]
  },
  {
   "cell_type": "code",
   "execution_count": 47,
   "id": "f073fcac-4517-4016-acec-68390cd6fcb3",
   "metadata": {},
   "outputs": [
    {
     "data": {
      "text/plain": [
       "720"
      ]
     },
     "execution_count": 47,
     "metadata": {},
     "output_type": "execute_result"
    }
   ],
   "source": [
    "factorial(6)"
   ]
  },
  {
   "cell_type": "code",
   "execution_count": 49,
   "id": "6fdddde2-dea4-482b-8407-a8bd5cc9d524",
   "metadata": {},
   "outputs": [],
   "source": [
    "def outer():\n",
    "    def inner():\n",
    "        print(\"Inner function\")\n",
    "    inner()\n"
   ]
  },
  {
   "cell_type": "code",
   "execution_count": 53,
   "id": "d9fc95d6-9c87-45e5-ab2a-99affe48abc6",
   "metadata": {},
   "outputs": [
    {
     "name": "stdout",
     "output_type": "stream",
     "text": [
      "Inner function\n"
     ]
    }
   ],
   "source": [
    "outer()"
   ]
  },
  {
   "cell_type": "code",
   "execution_count": 55,
   "id": "83c33029-64f2-476f-8bfe-745de74d85e5",
   "metadata": {},
   "outputs": [],
   "source": [
    "def circle(r):\n",
    "    area=3.14*r*r\n",
    "    return area"
   ]
  },
  {
   "cell_type": "code",
   "execution_count": 57,
   "id": "d86dd341-6ff6-4394-9fa3-d3f51d12ef3d",
   "metadata": {},
   "outputs": [
    {
     "data": {
      "text/plain": [
       "28.259999999999998"
      ]
     },
     "execution_count": 57,
     "metadata": {},
     "output_type": "execute_result"
    }
   ],
   "source": [
    "circle(3)"
   ]
  },
  {
   "cell_type": "code",
   "execution_count": 59,
   "id": "bc7708e9-e29e-4ae0-afb4-6894bba4ddfe",
   "metadata": {},
   "outputs": [],
   "source": [
    "def rectangle(l,b):\n",
    "    area=l*b\n",
    "    return area"
   ]
  },
  {
   "cell_type": "code",
   "execution_count": 61,
   "id": "2b605d01-56e1-40dd-a6b1-ad2967b1c427",
   "metadata": {},
   "outputs": [
    {
     "data": {
      "text/plain": [
       "92"
      ]
     },
     "execution_count": 61,
     "metadata": {},
     "output_type": "execute_result"
    }
   ],
   "source": [
    "rectangle(23,4)"
   ]
  },
  {
   "cell_type": "code",
   "execution_count": 63,
   "id": "d3c9a21c-76b5-49c3-8cdf-884307d32916",
   "metadata": {},
   "outputs": [],
   "source": [
    "def traingle(b,h):\n",
    "    area=0.5*b*h\n",
    "    return area"
   ]
  },
  {
   "cell_type": "code",
   "execution_count": 65,
   "id": "2eabcb69-e552-4ad0-9745-2a036c194dd6",
   "metadata": {},
   "outputs": [
    {
     "data": {
      "text/plain": [
       "82.5"
      ]
     },
     "execution_count": 65,
     "metadata": {},
     "output_type": "execute_result"
    }
   ],
   "source": [
    "traingle(55,3)"
   ]
  },
  {
   "cell_type": "code",
   "execution_count": 67,
   "id": "ef3c7b23-41df-445c-ac4b-f819a2cd8d5f",
   "metadata": {},
   "outputs": [],
   "source": [
    "def square(s):\n",
    "    area_square=float(s*s)\n",
    "    return area_square"
   ]
  },
  {
   "cell_type": "code",
   "execution_count": 69,
   "id": "4e25a748-3777-4ac1-8cfb-59f19a5225c6",
   "metadata": {},
   "outputs": [
    {
     "data": {
      "text/plain": [
       "319225.0"
      ]
     },
     "execution_count": 69,
     "metadata": {},
     "output_type": "execute_result"
    }
   ],
   "source": [
    "square(565)"
   ]
  },
  {
   "cell_type": "code",
   "execution_count": null,
   "id": "e26c0731-8d85-4aee-a1a4-b19630fcf528",
   "metadata": {},
   "outputs": [],
   "source": []
  }
 ],
 "metadata": {
  "kernelspec": {
   "display_name": "Python 3 (ipykernel)",
   "language": "python",
   "name": "python3"
  },
  "language_info": {
   "codemirror_mode": {
    "name": "ipython",
    "version": 3
   },
   "file_extension": ".py",
   "mimetype": "text/x-python",
   "name": "python",
   "nbconvert_exporter": "python",
   "pygments_lexer": "ipython3",
   "version": "3.12.7"
  }
 },
 "nbformat": 4,
 "nbformat_minor": 5
}
