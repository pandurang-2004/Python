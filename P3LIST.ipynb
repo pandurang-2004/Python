{
 "cells": [
  {
   "cell_type": "code",
   "execution_count": 1,
   "id": "9225b273-acda-4ce9-ae41-8f0b0acf845e",
   "metadata": {},
   "outputs": [
    {
     "name": "stdout",
     "output_type": "stream",
     "text": [
      "<class 'list'>\n"
     ]
    }
   ],
   "source": [
    "l =list()\n",
    "print(type(l))"
   ]
  },
  {
   "cell_type": "code",
   "execution_count": 3,
   "id": "a23d52a2-a235-413e-917e-fdef57538114",
   "metadata": {},
   "outputs": [
    {
     "data": {
      "text/plain": [
       "list"
      ]
     },
     "execution_count": 3,
     "metadata": {},
     "output_type": "execute_result"
    }
   ],
   "source": [
    "l1 = [10,1,2,3]\n",
    "type(l1)"
   ]
  },
  {
   "cell_type": "code",
   "execution_count": 5,
   "id": "6be61caf-2f03-457d-8393-a84a43ed5c80",
   "metadata": {},
   "outputs": [
    {
     "data": {
      "text/plain": [
       "4"
      ]
     },
     "execution_count": 5,
     "metadata": {},
     "output_type": "execute_result"
    }
   ],
   "source": [
    "len(l1)"
   ]
  },
  {
   "cell_type": "code",
   "execution_count": 7,
   "id": "a670e549-52ae-4834-b858-e7c70be4ed6c",
   "metadata": {},
   "outputs": [
    {
     "data": {
      "text/plain": [
       "[10, 1, 2, 3]"
      ]
     },
     "execution_count": 7,
     "metadata": {},
     "output_type": "execute_result"
    }
   ],
   "source": [
    "l1"
   ]
  },
  {
   "cell_type": "code",
   "execution_count": null,
   "id": "fa882d69-8731-41c7-9159-8b3405598534",
   "metadata": {},
   "outputs": [],
   "source": []
  },
  {
   "cell_type": "code",
   "execution_count": 11,
   "id": "12e06d0b-a7ab-440e-b5f9-89defe876ac8",
   "metadata": {},
   "outputs": [
    {
     "data": {
      "text/plain": [
       "10"
      ]
     },
     "execution_count": 11,
     "metadata": {},
     "output_type": "execute_result"
    }
   ],
   "source": [
    "l1[-len(l1)]"
   ]
  },
  {
   "cell_type": "code",
   "execution_count": 13,
   "id": "7f7b0d54-8398-44ff-a10b-e5acab506f6b",
   "metadata": {},
   "outputs": [
    {
     "data": {
      "text/plain": [
       "3"
      ]
     },
     "execution_count": 13,
     "metadata": {},
     "output_type": "execute_result"
    }
   ],
   "source": [
    "l1[-1]"
   ]
  },
  {
   "cell_type": "code",
   "execution_count": 15,
   "id": "32ae2a08-cbff-49c4-a0e6-3557b0a08e83",
   "metadata": {},
   "outputs": [
    {
     "data": {
      "text/plain": [
       "[10, 1, 2, 3]"
      ]
     },
     "execution_count": 15,
     "metadata": {},
     "output_type": "execute_result"
    }
   ],
   "source": [
    "l1\n"
   ]
  },
  {
   "cell_type": "code",
   "execution_count": null,
   "id": "a47958d8-2319-4648-a4b8-fdbcc6b679e3",
   "metadata": {},
   "outputs": [],
   "source": []
  },
  {
   "cell_type": "code",
   "execution_count": 19,
   "id": "166c8508-7fff-4c9b-a54f-f47e6cfe80ab",
   "metadata": {},
   "outputs": [
    {
     "data": {
      "text/plain": [
       "2166968785472"
      ]
     },
     "execution_count": 19,
     "metadata": {},
     "output_type": "execute_result"
    }
   ],
   "source": [
    "id(l1)\n"
   ]
  },
  {
   "cell_type": "code",
   "execution_count": 21,
   "id": "89b500cb-4bf9-49f9-81e0-7e4c716134cc",
   "metadata": {},
   "outputs": [],
   "source": [
    "l1[0]= 9\n"
   ]
  },
  {
   "cell_type": "code",
   "execution_count": 23,
   "id": "eab80f95-e502-4094-a0a4-c394dd532fb4",
   "metadata": {},
   "outputs": [
    {
     "name": "stdout",
     "output_type": "stream",
     "text": [
      "[9, 1, 2, 3]\n"
     ]
    }
   ],
   "source": [
    "print(l1)"
   ]
  },
  {
   "cell_type": "code",
   "execution_count": 25,
   "id": "e6bbb8e3-7527-4b57-a8ef-d2119ab71995",
   "metadata": {},
   "outputs": [
    {
     "data": {
      "text/plain": [
       "2166968785472"
      ]
     },
     "execution_count": 25,
     "metadata": {},
     "output_type": "execute_result"
    }
   ],
   "source": [
    "id(l1)"
   ]
  },
  {
   "cell_type": "code",
   "execution_count": 27,
   "id": "a6e72b49-58a0-41b9-8715-b630e8b0d31d",
   "metadata": {},
   "outputs": [],
   "source": [
    "# Inttrable\n"
   ]
  },
  {
   "cell_type": "code",
   "execution_count": 29,
   "id": "0532dff5-f075-43c8-8806-d1290beee61a",
   "metadata": {},
   "outputs": [
    {
     "name": "stdout",
     "output_type": "stream",
     "text": [
      "[9, 1, 2, 3]\n",
      "[9, 1, 2, 3]\n",
      "[9, 1, 2, 3]\n",
      "[9, 1, 2, 3]\n"
     ]
    }
   ],
   "source": [
    "for i in l1:\n",
    "    print(l1)"
   ]
  },
  {
   "cell_type": "code",
   "execution_count": 31,
   "id": "0f720dc6-73f2-4e2a-9361-2a18fd6bd6f2",
   "metadata": {},
   "outputs": [],
   "source": [
    "\n",
    "\n",
    "# List Slicing\n"
   ]
  },
  {
   "cell_type": "code",
   "execution_count": 33,
   "id": "b772144e-3721-4344-9cae-46b5f1a4e42c",
   "metadata": {},
   "outputs": [],
   "source": [
    "l =[2,3,4,5,6,7]\n"
   ]
  },
  {
   "cell_type": "code",
   "execution_count": 35,
   "id": "65837aaa-b403-40ca-8a37-6af84691a20a",
   "metadata": {},
   "outputs": [
    {
     "data": {
      "text/plain": [
       "6"
      ]
     },
     "execution_count": 35,
     "metadata": {},
     "output_type": "execute_result"
    }
   ],
   "source": [
    "len(l)"
   ]
  },
  {
   "cell_type": "code",
   "execution_count": 37,
   "id": "295e42f3-17b9-4e88-a9f2-98155f89df7e",
   "metadata": {},
   "outputs": [
    {
     "data": {
      "text/plain": [
       "[2, 3]"
      ]
     },
     "execution_count": 37,
     "metadata": {},
     "output_type": "execute_result"
    }
   ],
   "source": [
    "l[0:2]"
   ]
  },
  {
   "cell_type": "code",
   "execution_count": 39,
   "id": "0e0e37eb-7b09-429b-a696-9fb9fd7ac607",
   "metadata": {},
   "outputs": [
    {
     "data": {
      "text/plain": [
       "[7, 6, 5, 4, 3, 2]"
      ]
     },
     "execution_count": 39,
     "metadata": {},
     "output_type": "execute_result"
    }
   ],
   "source": [
    "l[::-1]"
   ]
  },
  {
   "cell_type": "code",
   "execution_count": 41,
   "id": "0140086e-262f-4ee3-9516-4519dbaacfaf",
   "metadata": {},
   "outputs": [
    {
     "data": {
      "text/plain": [
       "[2, 3, 4, 5, 6, 7]"
      ]
     },
     "execution_count": 41,
     "metadata": {},
     "output_type": "execute_result"
    }
   ],
   "source": [
    "l[::+1]"
   ]
  },
  {
   "cell_type": "code",
   "execution_count": 43,
   "id": "dcb739b4-1d5d-4773-8b0b-c50f154dd9c8",
   "metadata": {},
   "outputs": [
    {
     "data": {
      "text/plain": [
       "[]"
      ]
     },
     "execution_count": 43,
     "metadata": {},
     "output_type": "execute_result"
    }
   ],
   "source": [
    "l[5:0]"
   ]
  },
  {
   "cell_type": "code",
   "execution_count": null,
   "id": "f55ce94e-abde-4d18-a621-0900a948e0d9",
   "metadata": {},
   "outputs": [],
   "source": []
  },
  {
   "cell_type": "code",
   "execution_count": 47,
   "id": "c3d54da7-cb6c-43a4-abc5-7ef4635eed50",
   "metadata": {},
   "outputs": [
    {
     "data": {
      "text/plain": [
       "[7, 6, 5, 4, 3]"
      ]
     },
     "execution_count": 47,
     "metadata": {},
     "output_type": "execute_result"
    }
   ],
   "source": [
    "l[5:0:-1]"
   ]
  },
  {
   "cell_type": "markdown",
   "id": "402551db-2d0a-4265-80fb-4450bbd394a8",
   "metadata": {},
   "source": [
    "\n",
    "List Opertaion\n"
   ]
  },
  {
   "cell_type": "code",
   "execution_count": 50,
   "id": "a3d14bc0-4627-4116-9cfc-03e98a17c3ad",
   "metadata": {},
   "outputs": [],
   "source": [
    "# List inbuild Methods\n",
    "# count\n",
    "# index\n",
    "# pop\n",
    "# remove\n",
    "# sort\n",
    "# insert\n",
    "# append\n",
    "# Extend\n",
    "\n"
   ]
  },
  {
   "cell_type": "code",
   "execution_count": 52,
   "id": "5dd54ce7-b0e3-469c-bcf7-6c631ba0fe02",
   "metadata": {},
   "outputs": [],
   "source": [
    "buddget =[100,300,200,400]"
   ]
  },
  {
   "cell_type": "code",
   "execution_count": 54,
   "id": "157b5085-1bd6-424e-bc60-efcadf1548b4",
   "metadata": {},
   "outputs": [
    {
     "data": {
      "text/plain": [
       "1"
      ]
     },
     "execution_count": 54,
     "metadata": {},
     "output_type": "execute_result"
    }
   ],
   "source": [
    "buddget.count(100)"
   ]
  },
  {
   "cell_type": "code",
   "execution_count": 56,
   "id": "36295acb-12ab-4500-8924-4537139abfaa",
   "metadata": {},
   "outputs": [
    {
     "data": {
      "text/plain": [
       "0"
      ]
     },
     "execution_count": 56,
     "metadata": {},
     "output_type": "execute_result"
    }
   ],
   "source": [
    "buddget.count(500)"
   ]
  },
  {
   "cell_type": "code",
   "execution_count": 58,
   "id": "7fb08e62-3129-48ef-aa72-79532f556f90",
   "metadata": {},
   "outputs": [],
   "source": [
    "budget =[100,300,200,400]"
   ]
  },
  {
   "cell_type": "code",
   "execution_count": 60,
   "id": "66709831-b805-4928-8465-8076ebd75f85",
   "metadata": {},
   "outputs": [
    {
     "data": {
      "text/plain": [
       "2"
      ]
     },
     "execution_count": 60,
     "metadata": {},
     "output_type": "execute_result"
    }
   ],
   "source": [
    "budget.index(200)"
   ]
  },
  {
   "cell_type": "code",
   "execution_count": 62,
   "id": "90525eee-f1f5-4b30-9041-bbf22e1bacfc",
   "metadata": {},
   "outputs": [],
   "source": [
    "name=[\"mio\",\"om\",\"ram\"]"
   ]
  },
  {
   "cell_type": "code",
   "execution_count": 66,
   "id": "f918b016-abe6-4366-ae7a-682d8d64fdeb",
   "metadata": {},
   "outputs": [
    {
     "data": {
      "text/plain": [
       "2"
      ]
     },
     "execution_count": 66,
     "metadata": {},
     "output_type": "execute_result"
    }
   ],
   "source": [
    "name.index (\"ram\")"
   ]
  },
  {
   "cell_type": "code",
   "execution_count": null,
   "id": "215e34f6-b70d-49d4-8de1-441c43ea8464",
   "metadata": {},
   "outputs": [],
   "source": []
  },
  {
   "cell_type": "code",
   "execution_count": 72,
   "id": "0f276ca2-d917-4607-8985-9b98de971375",
   "metadata": {},
   "outputs": [],
   "source": [
    "drop = name.pop()"
   ]
  },
  {
   "cell_type": "code",
   "execution_count": 74,
   "id": "c964e1b8-e672-493e-b352-07b800f74057",
   "metadata": {},
   "outputs": [
    {
     "data": {
      "text/plain": [
       "'ram'"
      ]
     },
     "execution_count": 74,
     "metadata": {},
     "output_type": "execute_result"
    }
   ],
   "source": [
    "drop"
   ]
  },
  {
   "cell_type": "code",
   "execution_count": 76,
   "id": "72183b12-cd72-46ee-be83-7c45fc809e14",
   "metadata": {},
   "outputs": [
    {
     "data": {
      "text/plain": [
       "['mio', 'om']"
      ]
     },
     "execution_count": 76,
     "metadata": {},
     "output_type": "execute_result"
    }
   ],
   "source": [
    "name"
   ]
  },
  {
   "cell_type": "code",
   "execution_count": 78,
   "id": "673a95ea-d656-4a14-b1d9-3545b8e48ad2",
   "metadata": {},
   "outputs": [],
   "source": [
    "name.remove(\"mio\")"
   ]
  },
  {
   "cell_type": "code",
   "execution_count": 80,
   "id": "ebf25ffa-a4ea-477d-b730-947bf4057869",
   "metadata": {},
   "outputs": [
    {
     "data": {
      "text/plain": [
       "['om']"
      ]
     },
     "execution_count": 80,
     "metadata": {},
     "output_type": "execute_result"
    }
   ],
   "source": [
    "name"
   ]
  },
  {
   "cell_type": "code",
   "execution_count": null,
   "id": "6ae417ac-50b8-4e0a-b6fd-7a22083f5a9d",
   "metadata": {},
   "outputs": [],
   "source": []
  },
  {
   "cell_type": "code",
   "execution_count": 84,
   "id": "1762cfc0-a09b-4532-9dc8-499c0a077d9e",
   "metadata": {},
   "outputs": [
    {
     "data": {
      "text/plain": [
       "\u001b[1;31mSignature:\u001b[0m \u001b[0mbudget\u001b[0m\u001b[1;33m.\u001b[0m\u001b[0msort\u001b[0m\u001b[1;33m(\u001b[0m\u001b[1;33m*\u001b[0m\u001b[1;33m,\u001b[0m \u001b[0mkey\u001b[0m\u001b[1;33m=\u001b[0m\u001b[1;32mNone\u001b[0m\u001b[1;33m,\u001b[0m \u001b[0mreverse\u001b[0m\u001b[1;33m=\u001b[0m\u001b[1;32mFalse\u001b[0m\u001b[1;33m)\u001b[0m\u001b[1;33m\u001b[0m\u001b[1;33m\u001b[0m\u001b[0m\n",
       "\u001b[1;31mDocstring:\u001b[0m\n",
       "Sort the list in ascending order and return None.\n",
       "\n",
       "The sort is in-place (i.e. the list itself is modified) and stable (i.e. the\n",
       "order of two equal elements is maintained).\n",
       "\n",
       "If a key function is given, apply it once to each list item and sort them,\n",
       "ascending or descending, according to their function values.\n",
       "\n",
       "The reverse flag can be set to sort in descending order.\n",
       "\u001b[1;31mType:\u001b[0m      builtin_function_or_method"
      ]
     },
     "metadata": {},
     "output_type": "display_data"
    }
   ],
   "source": [
    "budget.sort?"
   ]
  },
  {
   "cell_type": "code",
   "execution_count": 86,
   "id": "20196aa4-3101-4dc9-9a01-9bd78d656c4e",
   "metadata": {},
   "outputs": [],
   "source": [
    "budget.sort()"
   ]
  },
  {
   "cell_type": "code",
   "execution_count": 88,
   "id": "813bd5ef-157a-405d-9418-9c3dca874b1f",
   "metadata": {},
   "outputs": [
    {
     "data": {
      "text/plain": [
       "[100, 200, 300, 400]"
      ]
     },
     "execution_count": 88,
     "metadata": {},
     "output_type": "execute_result"
    }
   ],
   "source": [
    "budget"
   ]
  },
  {
   "cell_type": "code",
   "execution_count": 90,
   "id": "a708461e-2e4b-42eb-a539-9fdb0c119428",
   "metadata": {},
   "outputs": [
    {
     "data": {
      "text/plain": [
       "['om']"
      ]
     },
     "execution_count": 90,
     "metadata": {},
     "output_type": "execute_result"
    }
   ],
   "source": [
    "name"
   ]
  },
  {
   "cell_type": "code",
   "execution_count": 92,
   "id": "dc5db1b1-28c1-4871-ad14-70f7d88ed920",
   "metadata": {},
   "outputs": [
    {
     "data": {
      "text/plain": [
       "\u001b[1;31mSignature:\u001b[0m \u001b[0mname\u001b[0m\u001b[1;33m.\u001b[0m\u001b[0minsert\u001b[0m\u001b[1;33m(\u001b[0m\u001b[0mindex\u001b[0m\u001b[1;33m,\u001b[0m \u001b[0mobject\u001b[0m\u001b[1;33m,\u001b[0m \u001b[1;33m/\u001b[0m\u001b[1;33m)\u001b[0m\u001b[1;33m\u001b[0m\u001b[1;33m\u001b[0m\u001b[0m\n",
       "\u001b[1;31mDocstring:\u001b[0m Insert object before index.\n",
       "\u001b[1;31mType:\u001b[0m      builtin_function_or_method"
      ]
     },
     "metadata": {},
     "output_type": "display_data"
    }
   ],
   "source": [
    "name.insert?"
   ]
  },
  {
   "cell_type": "code",
   "execution_count": 94,
   "id": "acce005c-f813-4119-adad-8e26bffdc682",
   "metadata": {},
   "outputs": [],
   "source": [
    "name.insert(1,\"Rahul\")"
   ]
  },
  {
   "cell_type": "code",
   "execution_count": 96,
   "id": "b9419af1-0d0c-473a-9d50-17582c204c02",
   "metadata": {},
   "outputs": [
    {
     "data": {
      "text/plain": [
       "['om', 'Rahul']"
      ]
     },
     "execution_count": 96,
     "metadata": {},
     "output_type": "execute_result"
    }
   ],
   "source": [
    "name"
   ]
  },
  {
   "cell_type": "code",
   "execution_count": 100,
   "id": "69b12b28-bb12-4377-a4c6-42c76fd1c08c",
   "metadata": {},
   "outputs": [],
   "source": [
    "name.insert(0,\"Rony\")"
   ]
  },
  {
   "cell_type": "code",
   "execution_count": 102,
   "id": "2d893157-b6fa-4604-98fa-572cdfe78da5",
   "metadata": {},
   "outputs": [
    {
     "data": {
      "text/plain": [
       "['Rony', 'om', 'Rahul']"
      ]
     },
     "execution_count": 102,
     "metadata": {},
     "output_type": "execute_result"
    }
   ],
   "source": [
    "name"
   ]
  },
  {
   "cell_type": "code",
   "execution_count": 104,
   "id": "e500ad22-0f58-4cc9-9ea1-94299c9915c3",
   "metadata": {},
   "outputs": [],
   "source": [
    "\n",
    "\n",
    "# Append"
   ]
  },
  {
   "cell_type": "code",
   "execution_count": 1,
   "id": "4e42d1cf-ded3-430d-8353-d73cb9d0cd5d",
   "metadata": {},
   "outputs": [],
   "source": [
    "l=[1,2,3,5,6,7]\n"
   ]
  },
  {
   "cell_type": "code",
   "execution_count": 5,
   "id": "a4e9d8cf-aeab-483b-9d8e-e6bd272dd1a8",
   "metadata": {},
   "outputs": [],
   "source": [
    "l.append(\"Pandurang\")"
   ]
  },
  {
   "cell_type": "code",
   "execution_count": 7,
   "id": "dea4ac6a-3167-4d6b-8ac9-1757f8f26983",
   "metadata": {},
   "outputs": [
    {
     "data": {
      "text/plain": [
       "[1, 2, 3, 5, 6, 7, 'Pandurang']"
      ]
     },
     "execution_count": 7,
     "metadata": {},
     "output_type": "execute_result"
    }
   ],
   "source": [
    "l"
   ]
  },
  {
   "cell_type": "code",
   "execution_count": 112,
   "id": "d907ea25-c9e7-4b1b-a757-6f5a6783db23",
   "metadata": {},
   "outputs": [
    {
     "data": {
      "text/plain": [
       "[1, 2, 3, 5, 6, 'Pandurang', 3]"
      ]
     },
     "execution_count": 112,
     "metadata": {},
     "output_type": "execute_result"
    }
   ],
   "source": [
    "l.append(3)\n",
    "l"
   ]
  },
  {
   "cell_type": "code",
   "execution_count": null,
   "id": "e9cd440d-d3d1-4af3-8087-bed755db5a90",
   "metadata": {},
   "outputs": [],
   "source": []
  },
  {
   "cell_type": "code",
   "execution_count": 116,
   "id": "a33f0ed7-5ec9-4447-b013-94c6ad65ecfa",
   "metadata": {},
   "outputs": [],
   "source": [
    "l1=[6,7,8]"
   ]
  },
  {
   "cell_type": "code",
   "execution_count": 118,
   "id": "6b7713cf-c31f-4948-88b7-f78cfbe78882",
   "metadata": {},
   "outputs": [
    {
     "data": {
      "text/plain": [
       "[6, 7, 8]"
      ]
     },
     "execution_count": 118,
     "metadata": {},
     "output_type": "execute_result"
    }
   ],
   "source": [
    "l1"
   ]
  },
  {
   "cell_type": "code",
   "execution_count": 126,
   "id": "1186289c-cc5e-44b5-a5d8-b3c523493403",
   "metadata": {},
   "outputs": [],
   "source": [
    "l.append(l1)"
   ]
  },
  {
   "cell_type": "code",
   "execution_count": 128,
   "id": "f3c916c8-1b7b-42aa-b8fc-e6250a7b18b6",
   "metadata": {},
   "outputs": [
    {
     "data": {
      "text/plain": [
       "[6, 7, 8]"
      ]
     },
     "execution_count": 128,
     "metadata": {},
     "output_type": "execute_result"
    }
   ],
   "source": [
    "l1\n"
   ]
  },
  {
   "cell_type": "code",
   "execution_count": 130,
   "id": "73284b3b-9107-495e-9fff-69e6fcbe06a2",
   "metadata": {},
   "outputs": [
    {
     "data": {
      "text/plain": [
       "[1, 2, 3, 5, 6, 'Pandurang', 3, [6, 7, 8]]"
      ]
     },
     "execution_count": 130,
     "metadata": {},
     "output_type": "execute_result"
    }
   ],
   "source": [
    "l"
   ]
  },
  {
   "cell_type": "code",
   "execution_count": 133,
   "id": "59a94f8a-8e77-4c73-9e47-9978beae4e4e",
   "metadata": {},
   "outputs": [],
   "source": [
    "\n",
    "# Extend\n"
   ]
  },
  {
   "cell_type": "code",
   "execution_count": 135,
   "id": "528a5857-611c-4f29-b997-141b165bae37",
   "metadata": {},
   "outputs": [],
   "source": [
    "l.extend(l1)"
   ]
  },
  {
   "cell_type": "code",
   "execution_count": 137,
   "id": "c883461a-5118-45a0-9de4-f7e3fc0f25f0",
   "metadata": {},
   "outputs": [
    {
     "data": {
      "text/plain": [
       "[6, 7, 8]"
      ]
     },
     "execution_count": 137,
     "metadata": {},
     "output_type": "execute_result"
    }
   ],
   "source": [
    "l1"
   ]
  },
  {
   "cell_type": "code",
   "execution_count": 139,
   "id": "8621bb78-8434-4bde-8c18-793a20381450",
   "metadata": {},
   "outputs": [
    {
     "data": {
      "text/plain": [
       "[1, 2, 3, 5, 6, 'Pandurang', 3, [6, 7, 8], 6, 7, 8]"
      ]
     },
     "execution_count": 139,
     "metadata": {},
     "output_type": "execute_result"
    }
   ],
   "source": [
    "l"
   ]
  },
  {
   "cell_type": "code",
   "execution_count": 141,
   "id": "bc4d8345-6241-4556-b729-5b6c9f2a7d83",
   "metadata": {},
   "outputs": [],
   "source": [
    "s = \"Pandurang\""
   ]
  },
  {
   "cell_type": "code",
   "execution_count": 145,
   "id": "be4820bf-7217-4190-a2d0-61c4375963f9",
   "metadata": {},
   "outputs": [
    {
     "name": "stdout",
     "output_type": "stream",
     "text": [
      "P\n",
      "a\n",
      "n\n",
      "d\n",
      "u\n",
      "r\n",
      "a\n",
      "n\n",
      "g\n"
     ]
    }
   ],
   "source": [
    "for i in s:\n",
    "    print(i)"
   ]
  },
  {
   "cell_type": "code",
   "execution_count": 147,
   "id": "1011a8f8-db4d-4cac-a7df-2cab656be6b3",
   "metadata": {},
   "outputs": [
    {
     "data": {
      "text/plain": [
       "[1, 2, 3, 5, 6, 'Pandurang', 3, [6, 7, 8], 6, 7, 8]"
      ]
     },
     "execution_count": 147,
     "metadata": {},
     "output_type": "execute_result"
    }
   ],
   "source": [
    "l"
   ]
  },
  {
   "cell_type": "code",
   "execution_count": 149,
   "id": "d87d23c5-4d1f-417f-9287-ac8bcc636dcd",
   "metadata": {},
   "outputs": [
    {
     "data": {
      "text/plain": [
       "[1,\n",
       " 2,\n",
       " 3,\n",
       " 5,\n",
       " 6,\n",
       " 'Pandurang',\n",
       " 3,\n",
       " [6, 7, 8],\n",
       " 6,\n",
       " 7,\n",
       " 8,\n",
       " 'P',\n",
       " 'a',\n",
       " 'n',\n",
       " 'd',\n",
       " 'u',\n",
       " 'r',\n",
       " 'a',\n",
       " 'n',\n",
       " 'g']"
      ]
     },
     "execution_count": 149,
     "metadata": {},
     "output_type": "execute_result"
    }
   ],
   "source": [
    "l.extend(s)\n",
    "l"
   ]
  },
  {
   "cell_type": "markdown",
   "id": "4b234c30-b84a-42d4-984e-e28a059e1c65",
   "metadata": {},
   "source": [
    "\n",
    "\n",
    "Heterogenous Lists"
   ]
  },
  {
   "cell_type": "code",
   "execution_count": 152,
   "id": "92f5ac86-cffd-4f69-9b46-a98b3302d850",
   "metadata": {},
   "outputs": [],
   "source": [
    "# With Difference Data types"
   ]
  },
  {
   "cell_type": "code",
   "execution_count": 154,
   "id": "9c6882ea-e7e0-42ce-a75a-6372ce4a215a",
   "metadata": {},
   "outputs": [],
   "source": [
    "l1 =[1,\"Pandu\",1,2,True]"
   ]
  },
  {
   "cell_type": "code",
   "execution_count": 156,
   "id": "b77e91a6-71db-42f1-87d6-0012fd09bcba",
   "metadata": {},
   "outputs": [
    {
     "data": {
      "text/plain": [
       "list"
      ]
     },
     "execution_count": 156,
     "metadata": {},
     "output_type": "execute_result"
    }
   ],
   "source": [
    "type(l1)"
   ]
  },
  {
   "cell_type": "code",
   "execution_count": 162,
   "id": "3bb30269-41cf-4132-ac84-f24e90f9ea01",
   "metadata": {},
   "outputs": [
    {
     "data": {
      "text/plain": [
       "int"
      ]
     },
     "execution_count": 162,
     "metadata": {},
     "output_type": "execute_result"
    }
   ],
   "source": [
    "type(l1[0])"
   ]
  },
  {
   "cell_type": "code",
   "execution_count": 164,
   "id": "91aae72d-8714-4fbc-94b5-f49505b60115",
   "metadata": {},
   "outputs": [
    {
     "name": "stdout",
     "output_type": "stream",
     "text": [
      "1\n",
      "Pandu\n",
      "1\n",
      "2\n",
      "True\n"
     ]
    }
   ],
   "source": [
    "for i in l1:\n",
    "    print(i)"
   ]
  },
  {
   "cell_type": "markdown",
   "id": "d7f3acd7-58d3-40c4-9c27-454f521e39b8",
   "metadata": {},
   "source": [
    "2-D List"
   ]
  },
  {
   "cell_type": "code",
   "execution_count": 171,
   "id": "5eef4dd8-ece8-4cc3-9571-b7032827853a",
   "metadata": {},
   "outputs": [],
   "source": [
    "l1=[3,4,5]\n",
    "l2=[1,2,4]\n",
    "l3=[6,7,8]\n",
    "l=[l1,l2,l3]\n"
   ]
  },
  {
   "cell_type": "code",
   "execution_count": 173,
   "id": "91b48e11-f969-4b7c-bfd3-8a2c2a0d010f",
   "metadata": {},
   "outputs": [
    {
     "data": {
      "text/plain": [
       "[[3, 4, 5], [1, 2, 4], [6, 7, 8]]"
      ]
     },
     "execution_count": 173,
     "metadata": {},
     "output_type": "execute_result"
    }
   ],
   "source": [
    "# Indexing\n",
    "\n",
    "l\n",
    "\n"
   ]
  },
  {
   "cell_type": "code",
   "execution_count": 175,
   "id": "63b11b36-7a46-473b-b90b-193aa0975593",
   "metadata": {},
   "outputs": [
    {
     "data": {
      "text/plain": [
       "[3, 4, 5]"
      ]
     },
     "execution_count": 175,
     "metadata": {},
     "output_type": "execute_result"
    }
   ],
   "source": [
    "l[0]"
   ]
  },
  {
   "cell_type": "code",
   "execution_count": 177,
   "id": "bea5415c-8968-4755-8858-bf84bd9db30c",
   "metadata": {},
   "outputs": [
    {
     "data": {
      "text/plain": [
       "[1, 2, 4]"
      ]
     },
     "execution_count": 177,
     "metadata": {},
     "output_type": "execute_result"
    }
   ],
   "source": [
    "l[1]"
   ]
  },
  {
   "cell_type": "code",
   "execution_count": 183,
   "id": "f7502889-558e-4ca6-b860-5787d8098b3e",
   "metadata": {},
   "outputs": [
    {
     "data": {
      "text/plain": [
       "[6, 7, 8]"
      ]
     },
     "execution_count": 183,
     "metadata": {},
     "output_type": "execute_result"
    }
   ],
   "source": [
    "l[2]"
   ]
  },
  {
   "cell_type": "code",
   "execution_count": null,
   "id": "29273e5a-2b7f-41e3-b616-b0aa4e072a53",
   "metadata": {},
   "outputs": [],
   "source": []
  },
  {
   "cell_type": "code",
   "execution_count": 187,
   "id": "46e3cdd4-fb8c-4491-a8c9-519dfdffee6a",
   "metadata": {},
   "outputs": [
    {
     "data": {
      "text/plain": [
       "[3, 4, 5]"
      ]
     },
     "execution_count": 187,
     "metadata": {},
     "output_type": "execute_result"
    }
   ],
   "source": [
    "l1\n"
   ]
  },
  {
   "cell_type": "code",
   "execution_count": 189,
   "id": "fa31bb9d-6325-4f62-abec-0a80622de004",
   "metadata": {},
   "outputs": [
    {
     "data": {
      "text/plain": [
       "5"
      ]
     },
     "execution_count": 189,
     "metadata": {},
     "output_type": "execute_result"
    }
   ],
   "source": [
    "l1[2]"
   ]
  },
  {
   "cell_type": "code",
   "execution_count": 191,
   "id": "1aaf4c8e-2922-48e5-a1b1-4124caa4c829",
   "metadata": {},
   "outputs": [
    {
     "data": {
      "text/plain": [
       "4"
      ]
     },
     "execution_count": 191,
     "metadata": {},
     "output_type": "execute_result"
    }
   ],
   "source": [
    "l[0][1] "
   ]
  },
  {
   "cell_type": "code",
   "execution_count": 193,
   "id": "d9fc7a89-be69-49fb-a818-6490affcf638",
   "metadata": {},
   "outputs": [
    {
     "data": {
      "text/plain": [
       "3"
      ]
     },
     "execution_count": 193,
     "metadata": {},
     "output_type": "execute_result"
    }
   ],
   "source": [
    "l[0][0]"
   ]
  },
  {
   "cell_type": "code",
   "execution_count": 195,
   "id": "1ffae05c-5a9a-4ed9-98c2-d65c5a4ee6ca",
   "metadata": {},
   "outputs": [
    {
     "data": {
      "text/plain": [
       "[[3, 4, 5], [1, 2, 4], [6, 7, 8]]"
      ]
     },
     "execution_count": 195,
     "metadata": {},
     "output_type": "execute_result"
    }
   ],
   "source": [
    "l"
   ]
  },
  {
   "cell_type": "code",
   "execution_count": 197,
   "id": "a4877ed3-dc95-4b7c-a3fa-f282b8ccb26c",
   "metadata": {},
   "outputs": [
    {
     "data": {
      "text/plain": [
       "3"
      ]
     },
     "execution_count": 197,
     "metadata": {},
     "output_type": "execute_result"
    }
   ],
   "source": [
    "l[0][0]"
   ]
  },
  {
   "cell_type": "code",
   "execution_count": 201,
   "id": "89c4355f-bd44-4305-b622-87d285cecbef",
   "metadata": {},
   "outputs": [
    {
     "data": {
      "text/plain": [
       "1"
      ]
     },
     "execution_count": 201,
     "metadata": {},
     "output_type": "execute_result"
    }
   ],
   "source": [
    "l[1][0]"
   ]
  },
  {
   "cell_type": "code",
   "execution_count": null,
   "id": "f135e4c3-18c2-4f69-b2c9-c9b322888a64",
   "metadata": {},
   "outputs": [],
   "source": []
  },
  {
   "cell_type": "code",
   "execution_count": 205,
   "id": "457fc751-9b75-47ec-9504-9da5391dd325",
   "metadata": {},
   "outputs": [
    {
     "data": {
      "text/plain": [
       "8"
      ]
     },
     "execution_count": 205,
     "metadata": {},
     "output_type": "execute_result"
    }
   ],
   "source": [
    "l[2][2]"
   ]
  },
  {
   "cell_type": "code",
   "execution_count": 207,
   "id": "2a5185e7-ce0b-49df-8467-0e35f85facb2",
   "metadata": {},
   "outputs": [],
   "source": [
    "# Interation"
   ]
  },
  {
   "cell_type": "code",
   "execution_count": 209,
   "id": "d5279c29-f2af-47bb-9dbc-10c012546c59",
   "metadata": {},
   "outputs": [
    {
     "data": {
      "text/plain": [
       "[[3, 4, 5], [1, 2, 4], [6, 7, 8]]"
      ]
     },
     "execution_count": 209,
     "metadata": {},
     "output_type": "execute_result"
    }
   ],
   "source": [
    "l"
   ]
  },
  {
   "cell_type": "code",
   "execution_count": 211,
   "id": "226bc1b5-7c8f-44e4-81e7-9d9b75b82a43",
   "metadata": {},
   "outputs": [
    {
     "name": "stdout",
     "output_type": "stream",
     "text": [
      "[3, 4, 5]\n",
      "[1, 2, 4]\n",
      "[6, 7, 8]\n"
     ]
    }
   ],
   "source": [
    "for i in l:\n",
    "    print(i)"
   ]
  },
  {
   "cell_type": "code",
   "execution_count": 213,
   "id": "a0e0a0ad-5b78-45c3-bec4-c957ba10f1cc",
   "metadata": {},
   "outputs": [
    {
     "data": {
      "text/plain": [
       "[3, 4, 5]"
      ]
     },
     "execution_count": 213,
     "metadata": {},
     "output_type": "execute_result"
    }
   ],
   "source": [
    "l1\n"
   ]
  },
  {
   "cell_type": "code",
   "execution_count": 215,
   "id": "7e8d309a-04ee-44fe-838e-41f3d0929f2a",
   "metadata": {},
   "outputs": [
    {
     "name": "stdout",
     "output_type": "stream",
     "text": [
      "3\n",
      "4\n",
      "5\n"
     ]
    }
   ],
   "source": [
    "for i in l1:\n",
    "    print(i)"
   ]
  },
  {
   "cell_type": "code",
   "execution_count": 217,
   "id": "dd4515c9-9fce-4922-8400-8e013676a54a",
   "metadata": {},
   "outputs": [
    {
     "name": "stdout",
     "output_type": "stream",
     "text": [
      "3\n",
      "4\n",
      "5\n",
      "1\n",
      "2\n",
      "4\n",
      "6\n",
      "7\n",
      "8\n"
     ]
    }
   ],
   "source": [
    "for i in l:\n",
    "    for j in i:\n",
    "        print(j)"
   ]
  },
  {
   "cell_type": "code",
   "execution_count": 219,
   "id": "52b36df6-8795-4f42-b947-5abda9e895c3",
   "metadata": {},
   "outputs": [],
   "source": [
    "#  List comprehension"
   ]
  },
  {
   "cell_type": "code",
   "execution_count": null,
   "id": "334178c8-3a10-43c7-bcaf-74c3a2862428",
   "metadata": {},
   "outputs": [],
   "source": []
  },
  {
   "cell_type": "code",
   "execution_count": 223,
   "id": "5057b54a-40b4-4497-a8b1-e59919a61efc",
   "metadata": {},
   "outputs": [
    {
     "name": "stdout",
     "output_type": "stream",
     "text": [
      "0\n",
      "1\n",
      "2\n",
      "3\n",
      "4\n",
      "5\n",
      "6\n",
      "7\n",
      "8\n",
      "9\n"
     ]
    }
   ],
   "source": [
    "for i in range(10):\n",
    "    print(i)"
   ]
  },
  {
   "cell_type": "code",
   "execution_count": 235,
   "id": "c259123e-bf2e-4a74-9952-c88bbcaad094",
   "metadata": {},
   "outputs": [
    {
     "name": "stdout",
     "output_type": "stream",
     "text": [
      "[0, 1, 2, 3, 4, 5, 6, 7, 8, 9]\n"
     ]
    }
   ],
   "source": [
    "l =[]\n",
    "for i in range(10):\n",
    "    l.append(i)\n",
    "print(l)"
   ]
  },
  {
   "cell_type": "code",
   "execution_count": 237,
   "id": "68fb881b-dac6-45c4-a833-f13eb8926387",
   "metadata": {},
   "outputs": [
    {
     "name": "stdout",
     "output_type": "stream",
     "text": [
      "[0, 1, 2, 3, 4, 5, 6, 7, 8, 9, 0, 1, 4, 9, 16, 25, 36, 49, 64, 81]\n"
     ]
    }
   ],
   "source": [
    "l1 =[]\n",
    "for i in range(10):\n",
    "    l.append(i **2)\n",
    "print(l)"
   ]
  },
  {
   "cell_type": "code",
   "execution_count": 243,
   "id": "8fbf732d-d9c3-4086-8b00-0f72a4d6d47b",
   "metadata": {},
   "outputs": [
    {
     "data": {
      "text/plain": [
       "[0,\n",
       " 1,\n",
       " 4,\n",
       " 9,\n",
       " 16,\n",
       " 25,\n",
       " 36,\n",
       " 49,\n",
       " 64,\n",
       " 81,\n",
       " 100,\n",
       " 121,\n",
       " 144,\n",
       " 169,\n",
       " 196,\n",
       " 225,\n",
       " 256,\n",
       " 289,\n",
       " 324,\n",
       " 361]"
      ]
     },
     "execution_count": 243,
     "metadata": {},
     "output_type": "execute_result"
    }
   ],
   "source": [
    "l =[(i ** 2) for i in range(20)]\n",
    "l"
   ]
  },
  {
   "cell_type": "code",
   "execution_count": 24,
   "id": "9d8e1b0b-d52d-4b58-add2-18a3bb3efa9c",
   "metadata": {},
   "outputs": [
    {
     "name": "stdout",
     "output_type": "stream",
     "text": [
      "1\n",
      "3\n",
      "6\n",
      "10\n",
      "15\n",
      "21\n",
      "28\n",
      "36\n",
      "45\n"
     ]
    }
   ],
   "source": [
    "\n",
    "# Acces The all elements of list\n",
    "\n",
    "l=[1,2,3,4,5,6,7,8,9]\n",
    "population = 0\n",
    "for i in l:\n",
    "    # Sum them up\n",
    "    population +=i\n",
    "    print(population)\n",
    "    \n"
   ]
  },
  {
   "cell_type": "code",
   "execution_count": 20,
   "id": "4ccadf27-b9fc-4b44-afc1-550c4e1a0adf",
   "metadata": {},
   "outputs": [
    {
     "name": "stdin",
     "output_type": "stream",
     "text": [
      "Enter the number of elements in the array:  4\n",
      "Enter the elements of the array separated by space:  5\n",
      "Enter the position (0-based index) to delete the element:  5\n"
     ]
    },
    {
     "name": "stdout",
     "output_type": "stream",
     "text": [
      "Invalid position!\n"
     ]
    }
   ],
   "source": [
    "def delete_element_at_position():\n",
    "    N = int(input(\"Enter the number of elements in the array: \"))\n",
    "    A = list(map(int, input(\"Enter the elements of the array separated by space: \").split()))\n",
    "\n",
    "    X = int(input(\"Enter the position (0-based index) to delete the element: \"))\n",
    "    \n",
    "    # Check if the position is valid\n",
    "    if X < 0 or X >= N:\n",
    "        print(\"Invalid position!\")\n",
    "        return\n",
    "    \n",
    "   \n",
    "    A.pop(X)\n",
    "    \n",
    "    \n",
    "    print(\"Array after deletion:\", A)\n",
    "\n",
    "delete_element_at_position()\n"
   ]
  },
  {
   "cell_type": "code",
   "execution_count": 22,
   "id": "fb1784cf-c561-4d5b-97f9-be4124ef7e1e",
   "metadata": {},
   "outputs": [
    {
     "name": "stdout",
     "output_type": "stream",
     "text": [
      "The second largest element is: 45\n"
     ]
    }
   ],
   "source": [
    "def find_second_largest(A):\n",
    "    if len(A) < 2:\n",
    "        return \"No second largest element exists.\"\n",
    "\n",
    "    largest = second_largest = float('-inf')\n",
    "\n",
    "    for number in A:\n",
    "        if number > largest:\n",
    "            second_largest = largest  \n",
    "            largest = number  \n",
    "        elif number > second_largest and number != largest:\n",
    "            second_largest = number  # Update second largest if it's not equal to largest\n",
    "\n",
    "    if second_largest == float('-inf'):\n",
    "        return \"No second largest element exists.\"\n",
    "    else:\n",
    "        return second_largest\n",
    "\n",
    "\n",
    "A = [10, 20, 4, 45, 99, 99]\n",
    "result = find_second_largest(A)\n",
    "print(\"The second largest element is:\", result)\n"
   ]
  },
  {
   "cell_type": "code",
   "execution_count": 255,
   "id": "8cc2eea9-6589-4745-82d8-a2a95ce89409",
   "metadata": {},
   "outputs": [
    {
     "name": "stdin",
     "output_type": "stream",
     "text": [
      "Enter the size of the matrix (N):  3\n"
     ]
    },
    {
     "name": "stdout",
     "output_type": "stream",
     "text": [
      "Enter the elements of the matrix row by row:\n"
     ]
    },
    {
     "name": "stdin",
     "output_type": "stream",
     "text": [
      " 4\n",
      " 5\n",
      " 5\n"
     ]
    },
    {
     "name": "stdout",
     "output_type": "stream",
     "text": [
      "The matrix is not an identity matrix.\n"
     ]
    }
   ],
   "source": [
    "def is_identity_matrix(matrix):\n",
    "    n = len(matrix)  # Get the size of the matrix (N x N)\n",
    "    \n",
    "    for i in range(n):\n",
    "        for j in range(n):\n",
    "            if i == j:  # Check diagonal elements\n",
    "                if matrix[i][j] != 1:\n",
    "                    return False\n",
    "            else:  # Check off-diagonal elements\n",
    "                if matrix[i][j] != 0:\n",
    "                    return False\n",
    "    return True\n",
    "\n",
    "# Example usage\n",
    "N = int(input(\"Enter the size of the matrix (N): \"))\n",
    "print(\"Enter the elements of the matrix row by row:\")\n",
    "matrix = []\n",
    "for _ in range(N):\n",
    "    row = list(map(int, input().split()))\n",
    "    matrix.append(row)\n",
    "\n",
    "if is_identity_matrix(matrix):\n",
    "    print(\"The matrix is an identity matrix.\")\n",
    "else:\n",
    "    print(\"The matrix is not an identity matrix.\")\n"
   ]
  },
  {
   "cell_type": "code",
   "execution_count": 259,
   "id": "831908a1-d39e-4070-8438-6af34520964f",
   "metadata": {},
   "outputs": [],
   "source": [
    "players = ['Jadeja','Rahul','Rohit']"
   ]
  },
  {
   "cell_type": "code",
   "execution_count": 261,
   "id": "5e4cfa7a-f850-4292-a62f-c8bc6c85dc59",
   "metadata": {},
   "outputs": [],
   "source": [
    "players[-1:] = ['Dhoni', 'Virat']\n"
   ]
  },
  {
   "cell_type": "code",
   "execution_count": 263,
   "id": "6f334f4b-5d13-4c71-a7ce-b3d15913898d",
   "metadata": {},
   "outputs": [
    {
     "data": {
      "text/plain": [
       "['Jadeja', 'Rahul', 'Dhoni', 'Virat']"
      ]
     },
     "execution_count": 263,
     "metadata": {},
     "output_type": "execute_result"
    }
   ],
   "source": [
    "players\n"
   ]
  },
  {
   "cell_type": "code",
   "execution_count": null,
   "id": "8f44352f-fe75-4136-bac8-1855692f4157",
   "metadata": {},
   "outputs": [],
   "source": []
  }
 ],
 "metadata": {
  "kernelspec": {
   "display_name": "Python 3 (ipykernel)",
   "language": "python",
   "name": "python3"
  },
  "language_info": {
   "codemirror_mode": {
    "name": "ipython",
    "version": 3
   },
   "file_extension": ".py",
   "mimetype": "text/x-python",
   "name": "python",
   "nbconvert_exporter": "python",
   "pygments_lexer": "ipython3",
   "version": "3.12.7"
  }
 },
 "nbformat": 4,
 "nbformat_minor": 5
}
