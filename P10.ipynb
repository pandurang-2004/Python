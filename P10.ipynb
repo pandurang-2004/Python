{
 "cells": [
  {
   "cell_type": "code",
   "execution_count": 1,
   "id": "003173e2-427f-4c87-956c-8722221b3674",
   "metadata": {},
   "outputs": [],
   "source": [
    "# Write a Python program to determine whether the given number is a Harshad\n",
    " # Number.\n"
   ]
  },
  {
   "cell_type": "code",
   "execution_count": 3,
   "id": "68c6585b-a538-47c4-911f-b80772cc2283",
   "metadata": {},
   "outputs": [
    {
     "name": "stdin",
     "output_type": "stream",
     "text": [
      "Enter a number 18\n"
     ]
    },
    {
     "name": "stdout",
     "output_type": "stream",
     "text": [
      "18 is a harshad number\n"
     ]
    }
   ],
   "source": [
    "def is_harshd_number(num):\n",
    "    digit_sum = sum(int(i) for i in str(num))\n",
    "    return num % digit_sum == 0\n",
    "num = int(input(\"Enter a number\"))\n",
    "if is_harshd_number(num):\n",
    "    print(f\"{num} is a harshad number\")\n",
    "else:\n",
    "    print(f\"{num} is no a harshad number\")"
   ]
  },
  {
   "cell_type": "code",
   "execution_count": null,
   "id": "cd8819da-527f-4607-aab8-68c8c1529ccf",
   "metadata": {},
   "outputs": [],
   "source": []
  },
  {
   "cell_type": "code",
   "execution_count": 10,
   "id": "771649f1-cd8f-419c-beea-142c4b40be9a",
   "metadata": {},
   "outputs": [
    {
     "name": "stdout",
     "output_type": "stream",
     "text": [
      "Pronic number between 1 and 100 are\n",
      "2 | 6 | 12 | 20 | 30 | 42 | 56 | 72 | 90 | "
     ]
    }
   ],
   "source": [
    " # Write a Python program to print all pronic numbers between 1 and 100.\n",
    "\n",
    "def is_pronic_number(num):\n",
    "    for n in range(1, int(num**0.5)+1):\n",
    "        if n*(n+1) ==num:\n",
    "            return True\n",
    "    return False\n",
    "print(\"Pronic number between 1 and 100 are\")\n",
    "for i in range(1, 101):\n",
    "    if is_pronic_number(i):\n",
    "        print(i, end=\" | \")"
   ]
  },
  {
   "cell_type": "code",
   "execution_count": null,
   "id": "c4325417-91ec-40d5-ab92-858be85db5ef",
   "metadata": {},
   "outputs": [],
   "source": []
  },
  {
   "cell_type": "code",
   "execution_count": 15,
   "id": "ec5553f9-f908-431b-9252-e7bca2f3feb0",
   "metadata": {},
   "outputs": [
    {
     "name": "stdout",
     "output_type": "stream",
     "text": [
      "product of elements in the list: 12000000\n"
     ]
    }
   ],
   "source": [
    "# Write a Python program to Multiply all numbers in the list.\n",
    "\n",
    "numbers =[10,20,30,40,50]\n",
    "product_of_numbers = 1\n",
    "for i  in numbers:\n",
    "    product_of_numbers *=i\n",
    "print(\"product of elements in the list:\",product_of_numbers)"
   ]
  },
  {
   "cell_type": "code",
   "execution_count": 19,
   "id": "25ffa4b0-9681-4e4b-9210-bae3eb9e3aaf",
   "metadata": {},
   "outputs": [
    {
     "name": "stdout",
     "output_type": "stream",
     "text": [
      "The largest number in the list is 30\n"
     ]
    }
   ],
   "source": [
    "# Write a Python program to find largest number in a list.\n",
    "\n",
    "numbers =[30,10,-45,5,20]\n",
    "minimum = numbers[0]\n",
    "for i in numbers:\n",
    "    if i > minimum:\n",
    "        minimum = i\n",
    "print(\"The largest number in the list is\",minimum)"
   ]
  },
  {
   "cell_type": "code",
   "execution_count": 27,
   "id": "3af5b54c-9340-479d-b305-88020184adb6",
   "metadata": {},
   "outputs": [
    {
     "name": "stdout",
     "output_type": "stream",
     "text": [
      "The second largest number in the list is: 30\n"
     ]
    }
   ],
   "source": [
    "# Write a Python program to find second largest number in a list.\n",
    "\n",
    "numbers = [30, 10, 45, 5, 20]\n",
    "numbers.sort(reverse=True)\n",
    "if len(numbers) >= 2:\n",
    "    second_largest = numbers[1]\n",
    "    print(\"The second largest number in the list is:\", second_largest)\n",
    "else:\n",
    "    print(\"The list does not contain a second largest number.\")"
   ]
  },
  {
   "cell_type": "code",
   "execution_count": 29,
   "id": "495c9875-9e89-4c9c-8106-a6e06018fd4d",
   "metadata": {},
   "outputs": [
    {
     "name": "stdout",
     "output_type": "stream",
     "text": [
      "even numbers in list [2, 4, 6, 8, 10]\n"
     ]
    }
   ],
   "source": [
    "# Write a Python program to print even numbers in a list.\n",
    "\n",
    "numbers = [1,2,3,4,5,6,7,8,9,10]\n",
    "\n",
    "even_numbers =[num for num in numbers if num % 2 ==0]\n",
    "print(\"even numbers in list\", even_numbers)"
   ]
  },
  {
   "cell_type": "code",
   "execution_count": 31,
   "id": "c457daa0-4dba-4641-a39c-c8508dd42de6",
   "metadata": {},
   "outputs": [
    {
     "name": "stdout",
     "output_type": "stream",
     "text": [
      "Odd numbers in the list: [1, 3, 5, 7, 9]\n"
     ]
    }
   ],
   "source": [
    " # Write a Python program to print odd numbers in a List.\n",
    "\n",
    "numbers = [1, 2, 3, 4, 5, 6, 7, 8, 9, 10]\n",
    " even_numbers = [num for num in numbers if num % 2 != 0]\n",
    " print(\"Odd numbers in the list:\", even_numbers)"
   ]
  },
  {
   "cell_type": "code",
   "execution_count": 35,
   "id": "c78275f1-2049-4770-bd1b-0fb50f57555f",
   "metadata": {},
   "outputs": [
    {
     "name": "stdout",
     "output_type": "stream",
     "text": [
      "List after removing empty lists: [[1, 2, 3], [4, 5], [6, 7, 8]]\n"
     ]
    }
   ],
   "source": [
    "# Write a Python program to Remove empty List from List\n",
    "\n",
    "list_of_lists = [[1, 2, 3], [], [4, 5], [], [6, 7, 8], []]\n",
    "filtered_list = [i for i in list_of_lists if i]\n",
    "print(\"List after removing empty lists:\", filtered_list)"
   ]
  },
  {
   "cell_type": "code",
   "execution_count": 37,
   "id": "fe176611-babc-4de0-bcd7-3a1e65fffabe",
   "metadata": {},
   "outputs": [
    {
     "name": "stdout",
     "output_type": "stream",
     "text": [
      "[1, 2, 3, 4, 5]\n"
     ]
    }
   ],
   "source": [
    "# Write a Python program to Cloning or Copying a list.\n",
    "\n",
    "original_list = [1, 2, 3, 4, 5]\n",
    "cloned_list = original_list[:]\n",
    "print(cloned_list)"
   ]
  },
  {
   "cell_type": "code",
   "execution_count": 39,
   "id": "4504392c-caef-49ee-960e-953b7dd51fc9",
   "metadata": {},
   "outputs": [
    {
     "name": "stdout",
     "output_type": "stream",
     "text": [
      "[1, 2, 3, 4, 5]\n"
     ]
    }
   ],
   "source": [
    "original_list = [1, 2, 3, 4, 5]\n",
    "cloned_list = list(original_list)\n",
    "print(cloned_list)"
   ]
  },
  {
   "cell_type": "code",
   "execution_count": null,
   "id": "f7b44935-8412-41a4-9eaa-9b7320c54be5",
   "metadata": {},
   "outputs": [],
   "source": []
  }
 ],
 "metadata": {
  "kernelspec": {
   "display_name": "Python 3 (ipykernel)",
   "language": "python",
   "name": "python3"
  },
  "language_info": {
   "codemirror_mode": {
    "name": "ipython",
    "version": 3
   },
   "file_extension": ".py",
   "mimetype": "text/x-python",
   "name": "python",
   "nbconvert_exporter": "python",
   "pygments_lexer": "ipython3",
   "version": "3.12.7"
  }
 },
 "nbformat": 4,
 "nbformat_minor": 5
}
