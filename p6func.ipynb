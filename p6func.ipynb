{
 "cells": [
  {
   "cell_type": "markdown",
   "id": "fef1216f-7099-4a7a-8bc4-35a657ef016f",
   "metadata": {},
   "source": [
    "# Functions "
   ]
  },
  {
   "cell_type": "code",
   "execution_count": 2,
   "id": "478807ad-5c15-48c0-baf6-cecc7a297e8c",
   "metadata": {},
   "outputs": [],
   "source": [
    "# function is a user defined of code .it works only when it's called by user it helps in resusaly \n",
    "#of code and helps in reducing errors in your code "
   ]
  },
  {
   "cell_type": "code",
   "execution_count": 4,
   "id": "b8eca3e5-a799-4964-b4c5-236c4003dbd4",
   "metadata": {},
   "outputs": [],
   "source": [
    "# Function are of two types:\n",
    "# User defined\n",
    "# Buil-in"
   ]
  },
  {
   "cell_type": "code",
   "execution_count": 6,
   "id": "c9c8b1c5-0589-4580-a5d2-0cdbf44d637c",
   "metadata": {},
   "outputs": [],
   "source": [
    "# Defining function"
   ]
  },
  {
   "cell_type": "code",
   "execution_count": 16,
   "id": "ebb4f85b-e7f3-4936-a21a-74b600d5ed03",
   "metadata": {},
   "outputs": [],
   "source": [
    "def greet():\n",
    "    # This is body of the function\n",
    "    print(\"Hey, have a good day\")"
   ]
  },
  {
   "cell_type": "code",
   "execution_count": 18,
   "id": "756f091e-8832-4d48-9d65-40e35931afec",
   "metadata": {},
   "outputs": [
    {
     "name": "stdout",
     "output_type": "stream",
     "text": [
      "<function greet at 0x0000021C5E627BA0>\n"
     ]
    }
   ],
   "source": [
    "print(greet)"
   ]
  },
  {
   "cell_type": "code",
   "execution_count": 14,
   "id": "0adf2ef8-0423-4b5d-acb5-672d992fa72a",
   "metadata": {},
   "outputs": [],
   "source": [
    "# alling a function"
   ]
  },
  {
   "cell_type": "code",
   "execution_count": 20,
   "id": "92ff839a-c17d-4f83-8732-618bb8c09902",
   "metadata": {},
   "outputs": [
    {
     "name": "stdout",
     "output_type": "stream",
     "text": [
      "Hey, have a good day\n"
     ]
    }
   ],
   "source": [
    "greet()"
   ]
  },
  {
   "cell_type": "code",
   "execution_count": 22,
   "id": "9ce47e35-d6ba-41b5-a3e8-1495067d2b4d",
   "metadata": {},
   "outputs": [],
   "source": [
    "#  Docstring"
   ]
  },
  {
   "cell_type": "code",
   "execution_count": 32,
   "id": "2c342027-940d-4790-9c92-b3eeef1df090",
   "metadata": {},
   "outputs": [],
   "source": [
    "def greet():\n",
    "    \"\"\" This function greet everyone when it is called\n",
    "    \"\"\"\n",
    "    print(\"hey\")"
   ]
  },
  {
   "cell_type": "code",
   "execution_count": 34,
   "id": "88f8224a-ad3b-41d8-b5c8-8269cdce1714",
   "metadata": {},
   "outputs": [
    {
     "data": {
      "text/plain": [
       "<function __main__.greet()>"
      ]
     },
     "execution_count": 34,
     "metadata": {},
     "output_type": "execute_result"
    }
   ],
   "source": [
    "greet"
   ]
  },
  {
   "cell_type": "code",
   "execution_count": 36,
   "id": "0a4398f4-3b1b-46c5-a773-594e6af999f2",
   "metadata": {},
   "outputs": [
    {
     "name": "stdout",
     "output_type": "stream",
     "text": [
      "hey\n"
     ]
    }
   ],
   "source": [
    "greet()"
   ]
  },
  {
   "cell_type": "code",
   "execution_count": 38,
   "id": "cfab229b-12f5-4a2e-9326-6e77d397fe0b",
   "metadata": {},
   "outputs": [
    {
     "data": {
      "text/plain": [
       "\u001b[1;31mSignature:\u001b[0m \u001b[0mgreet\u001b[0m\u001b[1;33m(\u001b[0m\u001b[1;33m)\u001b[0m\u001b[1;33m\u001b[0m\u001b[1;33m\u001b[0m\u001b[0m\n",
       "\u001b[1;31mDocstring:\u001b[0m\n",
       "This function greet everyone when it is called\n",
       "    \n",
       "\u001b[1;31mFile:\u001b[0m      c:\\users\\mira\\appdata\\local\\temp\\ipykernel_23264\\180281454.py\n",
       "\u001b[1;31mType:\u001b[0m      function"
      ]
     },
     "metadata": {},
     "output_type": "display_data"
    }
   ],
   "source": [
    "greet?"
   ]
  },
  {
   "cell_type": "markdown",
   "id": "1371a660-a94d-4d44-90c0-2c4ca29f59d9",
   "metadata": {},
   "source": [
    "# Paramaeters"
   ]
  },
  {
   "cell_type": "code",
   "execution_count": 41,
   "id": "66d81519-8719-4402-88be-8d4feac4229d",
   "metadata": {},
   "outputs": [],
   "source": [
    "def greet(name):\n",
    "    print(\"hey\",name)"
   ]
  },
  {
   "cell_type": "code",
   "execution_count": 43,
   "id": "cec0dce9-8b15-4f53-a21c-0e4d7c5bcfa8",
   "metadata": {},
   "outputs": [
    {
     "ename": "TypeError",
     "evalue": "greet() missing 1 required positional argument: 'name'",
     "output_type": "error",
     "traceback": [
      "\u001b[1;31m---------------------------------------------------------------------------\u001b[0m",
      "\u001b[1;31mTypeError\u001b[0m                                 Traceback (most recent call last)",
      "Cell \u001b[1;32mIn[43], line 1\u001b[0m\n\u001b[1;32m----> 1\u001b[0m greet()\n",
      "\u001b[1;31mTypeError\u001b[0m: greet() missing 1 required positional argument: 'name'"
     ]
    }
   ],
   "source": [
    "greet()"
   ]
  },
  {
   "cell_type": "code",
   "execution_count": 47,
   "id": "2b55240a-759a-4494-9f5f-197c36d98d1e",
   "metadata": {},
   "outputs": [
    {
     "name": "stdout",
     "output_type": "stream",
     "text": [
      "hey pandurang\n"
     ]
    }
   ],
   "source": [
    "greet(\"pandurang\")"
   ]
  },
  {
   "cell_type": "code",
   "execution_count": 49,
   "id": "59c2c3f3-fb07-43ec-9264-805459d87271",
   "metadata": {},
   "outputs": [],
   "source": [
    "def add(a,b):\n",
    "    c =a+b\n",
    "    print(c)"
   ]
  },
  {
   "cell_type": "code",
   "execution_count": 51,
   "id": "56c1ac6d-05d4-43a6-b071-fd40cbdaf663",
   "metadata": {},
   "outputs": [
    {
     "name": "stdout",
     "output_type": "stream",
     "text": [
      "5\n"
     ]
    }
   ],
   "source": [
    "add(2,3)"
   ]
  },
  {
   "cell_type": "code",
   "execution_count": 53,
   "id": "4ff5c6ec-8079-4693-9d3d-b14813e3ce23",
   "metadata": {},
   "outputs": [],
   "source": [
    "def mul(a,b):\n",
    "    c=a*b\n",
    "    print(c)"
   ]
  },
  {
   "cell_type": "code",
   "execution_count": 55,
   "id": "d9218a19-8315-4661-8a35-3de5c06c8544",
   "metadata": {},
   "outputs": [
    {
     "name": "stdout",
     "output_type": "stream",
     "text": [
      "40\n"
     ]
    }
   ],
   "source": [
    "mul(10,4)"
   ]
  },
  {
   "cell_type": "markdown",
   "id": "fdd99cef-4e00-4197-a42d-2d9cd41a3eb2",
   "metadata": {},
   "source": [
    "# Return"
   ]
  },
  {
   "cell_type": "code",
   "execution_count": 58,
   "id": "204541be-1d41-4d78-9d9a-ca7cf1b91d63",
   "metadata": {},
   "outputs": [],
   "source": [
    "# A function call ends when return statement is executed\n",
    "#  it returnd the expression back to the function\n",
    "# The code aftter return statement are not executed"
   ]
  },
  {
   "cell_type": "code",
   "execution_count": 60,
   "id": "7acde045-d345-4bd9-916c-d5347de23dc6",
   "metadata": {},
   "outputs": [],
   "source": [
    "# Return vs print"
   ]
  },
  {
   "cell_type": "code",
   "execution_count": 62,
   "id": "0c022d9e-031a-476d-8f3c-08d3607f38d5",
   "metadata": {},
   "outputs": [],
   "source": [
    "def div(a,b):\n",
    "    c = a/b\n",
    "    print(c)"
   ]
  },
  {
   "cell_type": "code",
   "execution_count": 66,
   "id": "5708e4fa-83c2-4070-a89f-2a8112e5bc27",
   "metadata": {},
   "outputs": [
    {
     "name": "stdout",
     "output_type": "stream",
     "text": [
      "5.0\n"
     ]
    }
   ],
   "source": [
    "div(10,2)"
   ]
  },
  {
   "cell_type": "code",
   "execution_count": 70,
   "id": "750f81ff-f29c-4b82-bd3b-094e7b89f02c",
   "metadata": {},
   "outputs": [
    {
     "name": "stdout",
     "output_type": "stream",
     "text": [
      "10\n"
     ]
    },
    {
     "data": {
      "text/plain": [
       "NoneType"
      ]
     },
     "execution_count": 70,
     "metadata": {},
     "output_type": "execute_result"
    }
   ],
   "source": [
    "type(print(10))"
   ]
  },
  {
   "cell_type": "code",
   "execution_count": 72,
   "id": "552552e5-c779-487b-b918-8343b0d0215f",
   "metadata": {},
   "outputs": [],
   "source": [
    "def sub(a,b):\n",
    "    c = a-b\n",
    "    return c"
   ]
  },
  {
   "cell_type": "code",
   "execution_count": 80,
   "id": "eb0d4cc9-5849-42fc-8bc5-edfa93d79caa",
   "metadata": {},
   "outputs": [
    {
     "name": "stdout",
     "output_type": "stream",
     "text": [
      "1 <class 'int'>\n"
     ]
    }
   ],
   "source": [
    "b = sub(3,2)\n",
    "print(b,type(b))"
   ]
  },
  {
   "cell_type": "code",
   "execution_count": null,
   "id": "be454e56-c5dc-4980-b2f1-62db091e5f4c",
   "metadata": {},
   "outputs": [],
   "source": []
  },
  {
   "cell_type": "code",
   "execution_count": 83,
   "id": "5a8316ad-8c3a-47ed-8e92-8e7239713c58",
   "metadata": {},
   "outputs": [],
   "source": [
    "#  If no return object then it returns nontype"
   ]
  },
  {
   "cell_type": "code",
   "execution_count": 85,
   "id": "5b3ccc91-438b-4056-978a-9dfeb4f4772b",
   "metadata": {},
   "outputs": [],
   "source": [
    "def func():\n",
    "    return"
   ]
  },
  {
   "cell_type": "code",
   "execution_count": 91,
   "id": "ff4ee377-256e-4e17-92c3-6525f5202efd",
   "metadata": {},
   "outputs": [],
   "source": [
    "func()"
   ]
  },
  {
   "cell_type": "code",
   "execution_count": 95,
   "id": "e332c0b6-cc87-4f90-88c1-287df6396a32",
   "metadata": {},
   "outputs": [
    {
     "name": "stdout",
     "output_type": "stream",
     "text": [
      "None <class 'NoneType'>\n"
     ]
    }
   ],
   "source": [
    "c = func()\n",
    "print(c,type(c))"
   ]
  },
  {
   "cell_type": "code",
   "execution_count": 97,
   "id": "be71b639-730d-48f7-accf-adc588797415",
   "metadata": {},
   "outputs": [],
   "source": [
    "#  code after return statement doesn't get executed"
   ]
  },
  {
   "cell_type": "code",
   "execution_count": 103,
   "id": "e8e10bc4-bd7b-4d81-9bc1-58d0267c051c",
   "metadata": {},
   "outputs": [],
   "source": [
    "def func():\n",
    "    print(\"Before return\")\n",
    "    return \"pandurang\"\n",
    "    print(\"After return\")"
   ]
  },
  {
   "cell_type": "code",
   "execution_count": 105,
   "id": "ed8dd6e2-b96c-4609-9744-5e9597c93e55",
   "metadata": {},
   "outputs": [
    {
     "name": "stdout",
     "output_type": "stream",
     "text": [
      "Before return\n"
     ]
    },
    {
     "data": {
      "text/plain": [
       "'pandurang'"
      ]
     },
     "execution_count": 105,
     "metadata": {},
     "output_type": "execute_result"
    }
   ],
   "source": [
    "func()"
   ]
  },
  {
   "cell_type": "code",
   "execution_count": 107,
   "id": "029a35cc-0f70-496b-8571-fa8183185e9c",
   "metadata": {},
   "outputs": [
    {
     "name": "stdout",
     "output_type": "stream",
     "text": [
      "Before return\n",
      "pandurang\n"
     ]
    }
   ],
   "source": [
    "a =func()\n",
    "print(a)"
   ]
  },
  {
   "cell_type": "code",
   "execution_count": 109,
   "id": "376e1104-986c-4725-aaee-5c70aee678ea",
   "metadata": {},
   "outputs": [
    {
     "data": {
      "text/plain": [
       "'pandurang'"
      ]
     },
     "execution_count": 109,
     "metadata": {},
     "output_type": "execute_result"
    }
   ],
   "source": [
    "a"
   ]
  },
  {
   "cell_type": "code",
   "execution_count": 111,
   "id": "783a8bc9-ae87-4108-bb6d-971ae4db7fcf",
   "metadata": {},
   "outputs": [],
   "source": [
    "#  Returning Multipule values"
   ]
  },
  {
   "cell_type": "code",
   "execution_count": 113,
   "id": "4a9f79dc-21f4-4a69-b266-dacfd507014d",
   "metadata": {},
   "outputs": [],
   "source": [
    "def intro(name,age,hoby):\n",
    "    return name,age,hoby"
   ]
  },
  {
   "cell_type": "code",
   "execution_count": 115,
   "id": "43fa5773-3c5f-494c-b920-8281c14e0997",
   "metadata": {},
   "outputs": [],
   "source": [
    "c,d,e = intro(\"pandu\",22,\"cricket\")"
   ]
  },
  {
   "cell_type": "code",
   "execution_count": 117,
   "id": "0931fed6-9ede-4dcf-9197-40d907d8806c",
   "metadata": {},
   "outputs": [
    {
     "name": "stdout",
     "output_type": "stream",
     "text": [
      "pandu 22 cricket\n"
     ]
    }
   ],
   "source": [
    "print(c,d,e)"
   ]
  },
  {
   "cell_type": "code",
   "execution_count": 119,
   "id": "b8802e82-369f-4edd-90e5-0a8218febd79",
   "metadata": {},
   "outputs": [],
   "source": [
    "c = intro(\"pandu\",22,\"cricket\")\n"
   ]
  },
  {
   "cell_type": "code",
   "execution_count": 121,
   "id": "7d4fdadb-f46f-4ff7-b22e-a16a8239c91b",
   "metadata": {},
   "outputs": [
    {
     "name": "stdout",
     "output_type": "stream",
     "text": [
      "('pandu', 22, 'cricket') <class 'tuple'>\n"
     ]
    }
   ],
   "source": [
    "print(c,type(c))"
   ]
  },
  {
   "cell_type": "markdown",
   "id": "0f7a7d01-7690-42fa-a0e5-ae7b4fa2bc10",
   "metadata": {},
   "source": [
    "# Scope of vairable"
   ]
  },
  {
   "cell_type": "code",
   "execution_count": 124,
   "id": "29b71751-d951-4861-a094-cdde57ebf1fa",
   "metadata": {},
   "outputs": [],
   "source": [
    "# Local Scope: Variables defined within a function accessible only within that function.\n",
    "# Global Scope: Variables defined at the top level accessible throughout the module."
   ]
  },
  {
   "cell_type": "code",
   "execution_count": 126,
   "id": "a70218c8-f9f1-4507-bdc2-1a8e73741417",
   "metadata": {},
   "outputs": [
    {
     "name": "stdout",
     "output_type": "stream",
     "text": [
      "5\n",
      "5\n"
     ]
    }
   ],
   "source": [
    "a = 5\n",
    "def func():\n",
    "    print(a)\n",
    "func()\n",
    "print(a)\n"
   ]
  },
  {
   "cell_type": "code",
   "execution_count": 130,
   "id": "144d6913-8fcd-44d4-a6be-425a4fa74774",
   "metadata": {},
   "outputs": [
    {
     "name": "stdout",
     "output_type": "stream",
     "text": [
      "3\n",
      "5\n"
     ]
    }
   ],
   "source": [
    "a = 5\n",
    "def func():\n",
    "    x = 3\n",
    "    print(x)\n",
    "func()\n",
    "print(a)\n",
    "# print(x)"
   ]
  },
  {
   "cell_type": "code",
   "execution_count": null,
   "id": "378a306e-4f53-4efc-8ebb-3b1d920d15e4",
   "metadata": {},
   "outputs": [],
   "source": []
  },
  {
   "cell_type": "code",
   "execution_count": 137,
   "id": "4ec5fb89-d2d3-4a75-8747-2abc143ada24",
   "metadata": {},
   "outputs": [
    {
     "name": "stdout",
     "output_type": "stream",
     "text": [
      "20\n",
      "5\n"
     ]
    }
   ],
   "source": [
    "a = 5\n",
    "def func():\n",
    "    a =20\n",
    "    print(a)\n",
    "func()\n",
    "print(a)"
   ]
  },
  {
   "cell_type": "code",
   "execution_count": null,
   "id": "1f1af889-2e54-4d1d-952b-65fb6f2f5e56",
   "metadata": {},
   "outputs": [],
   "source": []
  },
  {
   "cell_type": "code",
   "execution_count": 144,
   "id": "7bcd11c2-6b4b-4440-99c6-5c744d740c2a",
   "metadata": {},
   "outputs": [
    {
     "name": "stdout",
     "output_type": "stream",
     "text": [
      "5\n",
      "20\n",
      "20\n"
     ]
    }
   ],
   "source": [
    "a =5\n",
    "def func():\n",
    "    global a\n",
    "    a=20\n",
    "    print(a)\n",
    "print(a)\n",
    "func()\n",
    "print(a)"
   ]
  },
  {
   "cell_type": "markdown",
   "id": "431ae097-e5ff-46bf-a8d5-bb90b9d2b2c7",
   "metadata": {},
   "source": [
    "# Lambda Function"
   ]
  },
  {
   "cell_type": "markdown",
   "id": "971dbd93-02a8-46fd-9aed-7b3910297dec",
   "metadata": {},
   "source": [
    " Python, a lambda function is a small anonymous function defined using the lambda \n",
    " keyword. Lambda functions can take any number of arguments but can only have a single\n",
    " expression. They are often used for short, throwaway functions that are not needed\n",
    " elsewhere in the code."
   ]
  },
  {
   "cell_type": "code",
   "execution_count": 151,
   "id": "6a5ba4bc-c380-4265-b92a-1b171bb4e880",
   "metadata": {},
   "outputs": [],
   "source": [
    "def add(a,b):\n",
    "    return a+b"
   ]
  },
  {
   "cell_type": "code",
   "execution_count": 153,
   "id": "f724e783-13d5-4054-9af5-9e19d5fe03a7",
   "metadata": {},
   "outputs": [
    {
     "data": {
      "text/plain": [
       "7"
      ]
     },
     "execution_count": 153,
     "metadata": {},
     "output_type": "execute_result"
    }
   ],
   "source": [
    "add(3,4)"
   ]
  },
  {
   "cell_type": "code",
   "execution_count": 165,
   "id": "a3ce7457-d3ef-4509-8e4a-2163d5abefa2",
   "metadata": {},
   "outputs": [
    {
     "data": {
      "text/plain": [
       "8"
      ]
     },
     "execution_count": 165,
     "metadata": {},
     "output_type": "execute_result"
    }
   ],
   "source": [
    "(lambda a, b : a + b)(3, 5)"
   ]
  },
  {
   "cell_type": "code",
   "execution_count": 167,
   "id": "93f06c4a-d7ea-4423-9d07-f6b9e229c5dc",
   "metadata": {},
   "outputs": [],
   "source": [
    "func = lambda a, b : a + b"
   ]
  },
  {
   "cell_type": "code",
   "execution_count": 169,
   "id": "6764c57c-225e-49c9-873b-bfb1618ed161",
   "metadata": {},
   "outputs": [
    {
     "data": {
      "text/plain": [
       "function"
      ]
     },
     "execution_count": 169,
     "metadata": {},
     "output_type": "execute_result"
    }
   ],
   "source": [
    "type(func)"
   ]
  },
  {
   "cell_type": "code",
   "execution_count": 171,
   "id": "1ddc5415-34f9-4f01-bb56-1a8d84502831",
   "metadata": {},
   "outputs": [
    {
     "data": {
      "text/plain": [
       "9"
      ]
     },
     "execution_count": 171,
     "metadata": {},
     "output_type": "execute_result"
    }
   ],
   "source": [
    "func(4,5)"
   ]
  },
  {
   "cell_type": "code",
   "execution_count": 173,
   "id": "c4264fae-c284-457a-9c97-f59cfed20e45",
   "metadata": {},
   "outputs": [],
   "source": [
    "def larger(a,b):\n",
    "    if a>b:\n",
    "        return a\n",
    "    else:\n",
    "        return b"
   ]
  },
  {
   "cell_type": "code",
   "execution_count": 175,
   "id": "c6644ed0-3a62-492d-8f12-a80f9171e338",
   "metadata": {},
   "outputs": [
    {
     "data": {
      "text/plain": [
       "43"
      ]
     },
     "execution_count": 175,
     "metadata": {},
     "output_type": "execute_result"
    }
   ],
   "source": [
    "larger(43,5)"
   ]
  },
  {
   "cell_type": "code",
   "execution_count": 179,
   "id": "57bc31d1-4af0-4e0e-a3e7-401a29ed151a",
   "metadata": {},
   "outputs": [
    {
     "data": {
      "text/plain": [
       "43"
      ]
     },
     "execution_count": 179,
     "metadata": {},
     "output_type": "execute_result"
    }
   ],
   "source": [
    "(lambda a, b,: a if a > b else b)(43,5)"
   ]
  },
  {
   "cell_type": "code",
   "execution_count": 181,
   "id": "243f5b2a-a097-4232-91be-fef0ef261229",
   "metadata": {},
   "outputs": [],
   "source": [
    "large = lambda a, b : a if a > b else b"
   ]
  },
  {
   "cell_type": "code",
   "execution_count": 183,
   "id": "b61445bd-ed3d-46e0-93da-d1894eb818f9",
   "metadata": {},
   "outputs": [
    {
     "data": {
      "text/plain": [
       "45"
      ]
     },
     "execution_count": 183,
     "metadata": {},
     "output_type": "execute_result"
    }
   ],
   "source": [
    "larger(45,4)"
   ]
  },
  {
   "cell_type": "code",
   "execution_count": 185,
   "id": "e276d7a6-d0c6-472a-ad83-f75856d237fa",
   "metadata": {},
   "outputs": [],
   "source": [
    "lst =[(12,45) ,(3,4), (5,7)]"
   ]
  },
  {
   "cell_type": "code",
   "execution_count": 187,
   "id": "6a46fda7-5f75-4b3e-8291-c19832e194f2",
   "metadata": {},
   "outputs": [],
   "source": [
    "lst.sort()"
   ]
  },
  {
   "cell_type": "code",
   "execution_count": 191,
   "id": "02e75d11-0203-44d8-9e4c-a50f140f99c5",
   "metadata": {},
   "outputs": [
    {
     "data": {
      "text/plain": [
       "[(3, 4), (5, 7), (12, 45)]"
      ]
     },
     "execution_count": 191,
     "metadata": {},
     "output_type": "execute_result"
    }
   ],
   "source": [
    "lst"
   ]
  },
  {
   "cell_type": "code",
   "execution_count": null,
   "id": "21175e5b-7c50-47a5-8899-4d36d00bb7f3",
   "metadata": {},
   "outputs": [],
   "source": []
  },
  {
   "cell_type": "code",
   "execution_count": 194,
   "id": "6b560f3d-56e6-44a9-8ec4-088019e0cc02",
   "metadata": {},
   "outputs": [],
   "source": [
    "def k(x):\n",
    "    return x[1]\n",
    "    "
   ]
  },
  {
   "cell_type": "code",
   "execution_count": 196,
   "id": "ae875823-be19-4c09-af8e-e525b209c8c9",
   "metadata": {},
   "outputs": [],
   "source": [
    "lst.sort(key =k)"
   ]
  },
  {
   "cell_type": "code",
   "execution_count": 198,
   "id": "94ee2e8e-828b-4b2d-8a21-deec09829c96",
   "metadata": {},
   "outputs": [
    {
     "data": {
      "text/plain": [
       "[(3, 4), (5, 7), (12, 45)]"
      ]
     },
     "execution_count": 198,
     "metadata": {},
     "output_type": "execute_result"
    }
   ],
   "source": [
    "lst"
   ]
  },
  {
   "cell_type": "code",
   "execution_count": 200,
   "id": "59af66b4-ada0-47f5-b98c-a5cf7033c846",
   "metadata": {},
   "outputs": [],
   "source": [
    "lst.sort(key = lambda x : x[1])"
   ]
  },
  {
   "cell_type": "code",
   "execution_count": 202,
   "id": "eb3e33fb-f6ff-478e-9f04-18c43b206c1c",
   "metadata": {},
   "outputs": [
    {
     "data": {
      "text/plain": [
       "[(3, 4), (5, 7), (12, 45)]"
      ]
     },
     "execution_count": 202,
     "metadata": {},
     "output_type": "execute_result"
    }
   ],
   "source": [
    "lst"
   ]
  },
  {
   "cell_type": "code",
   "execution_count": 204,
   "id": "c35d10b8-6069-494e-8292-db130a9913d4",
   "metadata": {},
   "outputs": [],
   "source": [
    "def even(li):\n",
    "    for i in li:\n",
    "        if i % 2==0:\n",
    "            print(i)"
   ]
  },
  {
   "cell_type": "code",
   "execution_count": 208,
   "id": "4db99103-9de3-4eb0-949c-39ea16949529",
   "metadata": {},
   "outputs": [],
   "source": [
    "lst= [1,2,3,4,5,5,6]"
   ]
  },
  {
   "cell_type": "code",
   "execution_count": 210,
   "id": "1348fef8-68f7-4e5d-8adf-470832cf0c50",
   "metadata": {},
   "outputs": [
    {
     "name": "stdout",
     "output_type": "stream",
     "text": [
      "2\n",
      "4\n",
      "6\n"
     ]
    }
   ],
   "source": [
    "even(lst)"
   ]
  },
  {
   "cell_type": "code",
   "execution_count": 212,
   "id": "4e59c952-5d40-4a6c-9b56-a1133e1e8205",
   "metadata": {},
   "outputs": [],
   "source": [
    "# Arguments amd parametrs"
   ]
  },
  {
   "cell_type": "code",
   "execution_count": 216,
   "id": "c2539c7b-c8b2-466a-8b9e-7e55669af9af",
   "metadata": {},
   "outputs": [],
   "source": [
    "# This name vairable is known as paramter\n",
    "def func(name):\n",
    "    print(\"hey\",name)\n",
    "    "
   ]
  },
  {
   "cell_type": "code",
   "execution_count": 218,
   "id": "2b6948b1-d4b0-4d73-bb0a-91136ddebba7",
   "metadata": {},
   "outputs": [],
   "source": [
    "# Calling the function"
   ]
  },
  {
   "cell_type": "code",
   "execution_count": 222,
   "id": "85171aa5-04d6-4b78-9e32-33dc9c5521dc",
   "metadata": {},
   "outputs": [
    {
     "name": "stdout",
     "output_type": "stream",
     "text": [
      "hey pandurang\n"
     ]
    }
   ],
   "source": [
    "# The actual value known as arrgument\n",
    "func(\"pandurang\")"
   ]
  },
  {
   "cell_type": "code",
   "execution_count": 224,
   "id": "0d4c722c-89ed-4237-b720-6d8b8f70fc1a",
   "metadata": {},
   "outputs": [],
   "source": [
    "#  Positional argument"
   ]
  },
  {
   "cell_type": "code",
   "execution_count": 226,
   "id": "c69ce774-dfbe-4c56-bc60-2c4b188aad05",
   "metadata": {},
   "outputs": [],
   "source": [
    "def intro(name ,hobby):\n",
    "    print(\"hey name is\",name)\n",
    "    print(\"and my hobby\",hobby)"
   ]
  },
  {
   "cell_type": "code",
   "execution_count": 230,
   "id": "3a440d35-8f66-4aa8-bc9b-1737e953e96b",
   "metadata": {},
   "outputs": [
    {
     "name": "stdout",
     "output_type": "stream",
     "text": [
      "hey name is pandurang\n",
      "and my hobby swiming\n"
     ]
    }
   ],
   "source": [
    "intro(\"pandurang\",\"swiming\")"
   ]
  },
  {
   "cell_type": "markdown",
   "id": "80214ece-e0a1-48ee-9f43-681b3343fe17",
   "metadata": {},
   "source": [
    "# Default Arguments"
   ]
  },
  {
   "cell_type": "code",
   "execution_count": 233,
   "id": "9e8dfdcb-5103-43a6-8951-0dd971009988",
   "metadata": {},
   "outputs": [
    {
     "data": {
      "text/plain": [
       "\u001b[1;31mSignature:\u001b[0m \u001b[0mprint\u001b[0m\u001b[1;33m(\u001b[0m\u001b[1;33m*\u001b[0m\u001b[0margs\u001b[0m\u001b[1;33m,\u001b[0m \u001b[0msep\u001b[0m\u001b[1;33m=\u001b[0m\u001b[1;34m' '\u001b[0m\u001b[1;33m,\u001b[0m \u001b[0mend\u001b[0m\u001b[1;33m=\u001b[0m\u001b[1;34m'\\n'\u001b[0m\u001b[1;33m,\u001b[0m \u001b[0mfile\u001b[0m\u001b[1;33m=\u001b[0m\u001b[1;32mNone\u001b[0m\u001b[1;33m,\u001b[0m \u001b[0mflush\u001b[0m\u001b[1;33m=\u001b[0m\u001b[1;32mFalse\u001b[0m\u001b[1;33m)\u001b[0m\u001b[1;33m\u001b[0m\u001b[1;33m\u001b[0m\u001b[0m\n",
       "\u001b[1;31mDocstring:\u001b[0m\n",
       "Prints the values to a stream, or to sys.stdout by default.\n",
       "\n",
       "sep\n",
       "  string inserted between values, default a space.\n",
       "end\n",
       "  string appended after the last value, default a newline.\n",
       "file\n",
       "  a file-like object (stream); defaults to the current sys.stdout.\n",
       "flush\n",
       "  whether to forcibly flush the stream.\n",
       "\u001b[1;31mType:\u001b[0m      builtin_function_or_method"
      ]
     },
     "metadata": {},
     "output_type": "display_data"
    }
   ],
   "source": [
    "print?"
   ]
  },
  {
   "cell_type": "code",
   "execution_count": 235,
   "id": "ea58d8ad-cb8e-4bef-8b99-12bb51b879d2",
   "metadata": {},
   "outputs": [],
   "source": [
    "def intro(name ,hobby =\"none\"):\n",
    "    print(\"hey name is\",name)\n",
    "    print(\"and my hobby\",hobby)"
   ]
  },
  {
   "cell_type": "code",
   "execution_count": 237,
   "id": "c28349fa-2d82-4b6e-a100-171f87d7bde1",
   "metadata": {},
   "outputs": [
    {
     "name": "stdout",
     "output_type": "stream",
     "text": [
      "hey name is pandu\n",
      "and my hobby none\n"
     ]
    }
   ],
   "source": [
    "intro(\"pandu\")"
   ]
  },
  {
   "cell_type": "code",
   "execution_count": 239,
   "id": "783213bf-99e2-4e45-8afe-a52e46dce8c3",
   "metadata": {},
   "outputs": [
    {
     "name": "stdout",
     "output_type": "stream",
     "text": [
      "Hi, Alice!\n",
      "Hello, Bob!\n"
     ]
    }
   ],
   "source": [
    "def greet(name, greeting=\"Hello\"):\n",
    "    print(f\"{greeting}, {name}!\")\n",
    "greet(\"Alice\", \"Hi\")  \n",
    "\n",
    "greet(\"Bob\")  \n"
   ]
  },
  {
   "cell_type": "code",
   "execution_count": 241,
   "id": "f3bd2050-27ea-438d-b1df-d171f508b993",
   "metadata": {},
   "outputs": [],
   "source": [
    "# Position of default and non-default arguments"
   ]
  },
  {
   "cell_type": "code",
   "execution_count": 243,
   "id": "5bbfdf6a-0e87-4d01-a404-94f3c7db24db",
   "metadata": {},
   "outputs": [
    {
     "ename": "SyntaxError",
     "evalue": "parameter without a default follows parameter with a default (1916597357.py, line 1)",
     "output_type": "error",
     "traceback": [
      "\u001b[1;36m  Cell \u001b[1;32mIn[243], line 1\u001b[1;36m\u001b[0m\n\u001b[1;33m    def intro(name =\"rahul\" ,hobby ):\u001b[0m\n\u001b[1;37m                             ^\u001b[0m\n\u001b[1;31mSyntaxError\u001b[0m\u001b[1;31m:\u001b[0m parameter without a default follows parameter with a default\n"
     ]
    }
   ],
   "source": [
    "def intro(name =\"rahul\" ,hobby ):\n",
    "    print(\"hey name is\",name)\n",
    "    print(\"and my hobby\",hobby)"
   ]
  },
  {
   "cell_type": "code",
   "execution_count": 251,
   "id": "7860de8f-d1aa-4eba-a2e9-03c2c4825a6d",
   "metadata": {},
   "outputs": [],
   "source": [
    "def intro(name ,hobby =\"cycalin\", age =25 ):\n",
    "    print(\"hey name is\",name)\n",
    "    print(\"and my hobby\",hobby)"
   ]
  },
  {
   "cell_type": "code",
   "execution_count": 257,
   "id": "05c91e0d-1839-4e6e-893a-3624a7366ee7",
   "metadata": {},
   "outputs": [],
   "source": [
    "#  Arbitary Arguments\n"
   ]
  },
  {
   "cell_type": "code",
   "execution_count": 267,
   "id": "1c97c5b0-8dc1-4ce7-9403-746def2ab126",
   "metadata": {},
   "outputs": [],
   "source": [
    "def test(*args):\n",
    "    print(args)\n",
    "    print(type(args))"
   ]
  },
  {
   "cell_type": "code",
   "execution_count": 269,
   "id": "70c4f695-9a8d-46f9-88aa-1d12ac9c82fd",
   "metadata": {},
   "outputs": [
    {
     "name": "stdout",
     "output_type": "stream",
     "text": [
      "(2, 3, 4)\n",
      "<class 'tuple'>\n"
     ]
    }
   ],
   "source": [
    "test(2,3,4)"
   ]
  },
  {
   "cell_type": "markdown",
   "id": "8697afec-fd8b-4e34-876e-79b7d87bfcb7",
   "metadata": {},
   "source": [
    "#  Keyword argument "
   ]
  },
  {
   "cell_type": "code",
   "execution_count": 287,
   "id": "beb2b90a-a294-429b-adc5-0b1c96e10ace",
   "metadata": {},
   "outputs": [],
   "source": [
    "def intro(**kwargs):\n",
    "    # print(kwargs)\n",
    "    # print(type(kwargs))\n",
    "\n",
    "    for key,values in kwargs.items():\n",
    "        print(key, values)"
   ]
  },
  {
   "cell_type": "code",
   "execution_count": 279,
   "id": "9a4e8ceb-d572-4ef7-817b-3103b94167ee",
   "metadata": {},
   "outputs": [
    {
     "name": "stdout",
     "output_type": "stream",
     "text": [
      "{}\n",
      "<class 'dict'>\n"
     ]
    }
   ],
   "source": [
    "intro()"
   ]
  },
  {
   "cell_type": "code",
   "execution_count": 289,
   "id": "fa7942ee-342a-4d68-8fe0-0efdc55c198f",
   "metadata": {},
   "outputs": [
    {
     "name": "stdout",
     "output_type": "stream",
     "text": [
      "name pandu\n",
      "age 22\n"
     ]
    }
   ],
   "source": [
    "intro(name = \"pandu\", age = 22)"
   ]
  },
  {
   "cell_type": "code",
   "execution_count": 291,
   "id": "0ee78d4e-cf91-4796-ba53-41aeffe24788",
   "metadata": {},
   "outputs": [],
   "source": [
    "def mix(a,b,c,age =25,*args,**kwargs):\n",
    "    print(a,b,c)\n",
    "    print(age)\n",
    "    print(args)\n",
    "    print(kwargs)"
   ]
  },
  {
   "cell_type": "code",
   "execution_count": 299,
   "id": "9b3aea0e-b10d-4757-8ec2-0aac4a065ca9",
   "metadata": {},
   "outputs": [
    {
     "name": "stdout",
     "output_type": "stream",
     "text": [
      "2 4 5\n",
      "45\n",
      "(6, 8, 9)\n",
      "{'name': 'rahul'}\n"
     ]
    }
   ],
   "source": [
    "mix(2,4,5,45,6,8,9, name=\"rahul\")"
   ]
  },
  {
   "cell_type": "code",
   "execution_count": 302,
   "id": "ca379d2b-0eda-4226-bfe7-fc734823cbd5",
   "metadata": {},
   "outputs": [
    {
     "name": "stdout",
     "output_type": "stream",
     "text": [
      "68.0\n"
     ]
    }
   ],
   "source": [
    "def convert(t):\n",
    "    return t*9/5 + 32\n",
    "\n",
    "print(convert(20))"
   ]
  },
  {
   "cell_type": "code",
   "execution_count": 304,
   "id": "028e8f02-9579-4d49-973f-0ccb4bce710a",
   "metadata": {},
   "outputs": [],
   "source": [
    "def Interest(p,c,t=2,r=0.09):\n",
    "  return p*t*r"
   ]
  },
  {
   "cell_type": "code",
   "execution_count": 306,
   "id": "363bdf68-205b-410f-90aa-10e8d62a86e0",
   "metadata": {},
   "outputs": [
    {
     "data": {
      "text/plain": [
       "180.0"
      ]
     },
     "execution_count": 306,
     "metadata": {},
     "output_type": "execute_result"
    }
   ],
   "source": [
    "Interest(p=1000,c=5)"
   ]
  },
  {
   "cell_type": "code",
   "execution_count": 312,
   "id": "cd9d9c74-f64c-4654-bf78-7c608df5dc4d",
   "metadata": {},
   "outputs": [
    {
     "data": {
      "text/plain": [
       "1200.0"
      ]
     },
     "execution_count": 312,
     "metadata": {},
     "output_type": "execute_result"
    }
   ],
   "source": [
    "Interest(c=4,r=0.12,p=5000)"
   ]
  },
  {
   "cell_type": "code",
   "execution_count": null,
   "id": "0a8ef1dd-2fdc-499d-b4c7-81d6e2ff751c",
   "metadata": {},
   "outputs": [],
   "source": []
  }
 ],
 "metadata": {
  "kernelspec": {
   "display_name": "Python 3 (ipykernel)",
   "language": "python",
   "name": "python3"
  },
  "language_info": {
   "codemirror_mode": {
    "name": "ipython",
    "version": 3
   },
   "file_extension": ".py",
   "mimetype": "text/x-python",
   "name": "python",
   "nbconvert_exporter": "python",
   "pygments_lexer": "ipython3",
   "version": "3.12.7"
  }
 },
 "nbformat": 4,
 "nbformat_minor": 5
}
