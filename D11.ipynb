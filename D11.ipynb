{
 "cells": [
  {
   "cell_type": "code",
   "execution_count": 3,
   "id": "663e5c2b-0e65-4402-9af9-44405d01462e",
   "metadata": {},
   "outputs": [
    {
     "name": "stdout",
     "output_type": "stream",
     "text": [
      "words longer than 5 charactrs:['banana', 'cherry', 'elderberry']\n"
     ]
    }
   ],
   "source": [
    "# Write a Python program to find words which are greater than given length k\n",
    "\n",
    "def find_words(words, k):\n",
    "    result =[]\n",
    "    for i in words:\n",
    "        if len(i) > k:\n",
    "            result.append(i)\n",
    "    return result\n",
    "word_list =[\"apple\",\"banana\", \"cherry\", \"date\",\"elderberry\",\"hii\"]\n",
    "k = 5\n",
    "long_words = find_words(word_list, k)\n",
    "print(f\"words longer than {k} charactrs:{long_words}\")"
   ]
  },
  {
   "cell_type": "code",
   "execution_count": null,
   "id": "d53f94d2-3c9c-48f4-a760-04feb4610216",
   "metadata": {},
   "outputs": [],
   "source": []
  },
  {
   "cell_type": "code",
   "execution_count": 10,
   "id": "3ef6c0a5-26ea-44f3-b6d7-865b9a56b59b",
   "metadata": {},
   "outputs": [
    {
     "name": "stdout",
     "output_type": "stream",
     "text": [
      "orignal string Python program to split and join a string\n",
      "list of split words: ['Python', 'program', 'to', 'split', 'and', 'join', 'a', 'string']\n",
      "joind string: Python program to split and join a string\n"
     ]
    }
   ],
   "source": [
    "# write a Python program to split and join a string.\n",
    "\n",
    "input_str = \"Python program to split and join a string\"\n",
    "word_list = input_str.split()\n",
    "separator = \" \"\n",
    "output_str = separator.join (word_list)\n",
    "print(\"orignal string\", input_str)\n",
    "print(\"list of split words:\", word_list)\n",
    "print(\"joind string:\", output_str)"
   ]
  },
  {
   "cell_type": "code",
   "execution_count": null,
   "id": "59d455ec-875f-4f4c-bd3f-4ad34c5675f1",
   "metadata": {},
   "outputs": [],
   "source": []
  },
  {
   "cell_type": "code",
   "execution_count": 17,
   "id": "8eefc157-728b-4d5a-a405-03a02f14c0d2",
   "metadata": {},
   "outputs": [
    {
     "name": "stdout",
     "output_type": "stream",
     "text": [
      "sum of all dictionary items 150\n"
     ]
    }
   ],
   "source": [
    "# write a Python program to find the sum of all items in a dictionary.\n",
    "\n",
    "my_dict = {\n",
    "    'a':10,\n",
    "    'b':20,\n",
    "    'c':30,\n",
    "    'd':40,\n",
    "    'e':50\n",
    "}\n",
    "\n",
    "total_sum=0\n",
    "for i in my_dict.values():\n",
    "    total_sum+=i\n",
    "print(\"sum of all dictionary items\",total_sum)"
   ]
  },
  {
   "cell_type": "code",
   "execution_count": null,
   "id": "bddcf2a9-c05e-483d-8e3d-a4d71c23b6fe",
   "metadata": {},
   "outputs": [],
   "source": []
  },
  {
   "cell_type": "code",
   "execution_count": 20,
   "id": "d02de7b3-0e33-477a-8813-67825e569466",
   "metadata": {},
   "outputs": [
    {
     "name": "stdout",
     "output_type": "stream",
     "text": [
      "merged dictionary  {'a': 1, 'b': 2, 'c': 3, 'd': 4}\n"
     ]
    }
   ],
   "source": [
    "# Write a Python program to Merging two Dictionaries.\n",
    "\n",
    "dict1={'a':1,'b':2}\n",
    "dict2={'c':3,'d':4}\n",
    "\n",
    "merged_dict={**dict1,**dict2}\n",
    "print(\"merged dictionary \",merged_dict)"
   ]
  },
  {
   "cell_type": "code",
   "execution_count": 22,
   "id": "71f236f2-40ef-4e49-a843-704f7eba182a",
   "metadata": {},
   "outputs": [
    {
     "name": "stdout",
     "output_type": "stream",
     "text": [
      "merged dictionary: {'a': 1, 'b': 2, 'c': 3, 'd': 4}\n"
     ]
    }
   ],
   "source": [
    "dict1={'a':1,'b':2}\n",
    "dict2={'c':3,'d':4}\n",
    "\n",
    "dict1.update(dict2)\n",
    "print(\"merged dictionary:\",dict1)"
   ]
  },
  {
   "cell_type": "code",
   "execution_count": 28,
   "id": "1feda7b5-9c53-4a41-8fc3-89cf924f1374",
   "metadata": {},
   "outputs": [
    {
     "name": "stdout",
     "output_type": "stream",
     "text": [
      "flat dictonary {'a': 1, 'b': 2, 'c': 3, 'd': 4}\n"
     ]
    }
   ],
   "source": [
    "#  Write a Python program to convert key-values list to flat dictionary.\n",
    "\n",
    "key_values_list= [('a',1),('b',2),('c',3),('d',4)]\n",
    "\n",
    "flat_dict={}\n",
    "for key,value in key_values_list:\n",
    "    flat_dict[key] = value\n",
    "\n",
    "print(\"flat dictonary\", flat_dict)\n"
   ]
  },
  {
   "cell_type": "code",
   "execution_count": null,
   "id": "1f8fe69f-570f-4148-a161-a06cb42bbd3f",
   "metadata": {},
   "outputs": [],
   "source": []
  },
  {
   "cell_type": "code",
   "execution_count": 31,
   "id": "050c3716-106b-4756-87af-8a862e6c724c",
   "metadata": {},
   "outputs": [
    {
     "name": "stdout",
     "output_type": "stream",
     "text": [
      "sorted by keys:\n",
      "apple:3\n",
      "banana:1\n",
      "cherry:2\n",
      "date:4\n"
     ]
    }
   ],
   "source": [
    "# Write a Python program to sort Python Dictionaries by Key or Value\n",
    "\n",
    "sample_dict ={\"apple\":3,\"banana\":1,\"cherry\":2,\"date\":4}\n",
    "sorted_dict_by_keys =dict(sorted(sample_dict.items()))\n",
    "print(\"sorted by keys:\")\n",
    "for key, value in sorted_dict_by_keys.items():\n",
    "    print(f\"{key}:{value}\")"
   ]
  },
  {
   "cell_type": "code",
   "execution_count": null,
   "id": "2c9b1e39-5767-426c-8bd9-4e4ec7e6c799",
   "metadata": {},
   "outputs": [],
   "source": []
  },
  {
   "cell_type": "code",
   "execution_count": 42,
   "id": "825399c6-3b6f-4fe6-ae68-325ddfd535ae",
   "metadata": {},
   "outputs": [],
   "source": [
    "# Define a class Person and its two child classes: Male and Female. All classes have a\n",
    " # method \"getGender\" which can print \"Male\" for Male class and \"Female\" for Female class.\n",
    "\n",
    "\n",
    "class Person:\n",
    "    def getGender(self):\n",
    "        return \"unknown\"\n",
    "class Male(Person):\n",
    "    def getGender(self):\n",
    "        return \"Male\"\n",
    "class Female(Person):\n",
    "    def getGender(self):\n",
    "        return \"Female\""
   ]
  },
  {
   "cell_type": "code",
   "execution_count": 56,
   "id": "3a92ac73-5583-4727-862b-99e1446925d9",
   "metadata": {},
   "outputs": [
    {
     "name": "stdout",
     "output_type": "stream",
     "text": [
      "unknown\n",
      "Male\n",
      "Female\n"
     ]
    }
   ],
   "source": [
    "person=Person()\n",
    "male=Male()\n",
    "female=Female()\n",
    "\n",
    "print(person.getGender())\n",
    "print(male.getGender())\n",
    "print(female.getGender())"
   ]
  },
  {
   "cell_type": "code",
   "execution_count": null,
   "id": "15fa44c1-c526-4185-9d30-c0e54d2ae70a",
   "metadata": {},
   "outputs": [],
   "source": []
  },
  {
   "cell_type": "code",
   "execution_count": 65,
   "id": "84ce2e7a-4b4b-44a3-bd64-a42544d41adc",
   "metadata": {},
   "outputs": [
    {
     "name": "stdout",
     "output_type": "stream",
     "text": [
      "iplayhokey.\n",
      "iplayfootball.\n",
      "ilovehokey.\n",
      "ilovefootball.\n",
      "youplayhokey.\n",
      "youplayfootball.\n",
      "youlovehokey.\n",
      "youlovefootball.\n"
     ]
    }
   ],
   "source": [
    "# Please write a program to generate all sentences where subject is in [\"I\", \"You\"] and\n",
    " # verb is in [\"Play\", \"Love\"] and the object is in [\"Hockey\",\"Football\"].\n",
    "\n",
    "subjects =[\"i\",\"you\"]\n",
    "verbs  =[\"play\",\"love\"]\n",
    "objects =[\"hokey\",\"football\"]\n",
    "\n",
    "sentances =[]\n",
    "for sub in subjects:\n",
    "    for vrb in verbs:\n",
    "        for obj in objects:\n",
    "            sentance =f\"{sub}{vrb}{obj}.\"\n",
    "            sentances.append(sentance)\n",
    "for sentance in sentances:\n",
    "    print(sentance)"
   ]
  },
  {
   "cell_type": "code",
   "execution_count": null,
   "id": "7070a38a-3e50-4d0a-970b-2d14fa18cb57",
   "metadata": {},
   "outputs": [],
   "source": []
  }
 ],
 "metadata": {
  "kernelspec": {
   "display_name": "Python 3 (ipykernel)",
   "language": "python",
   "name": "python3"
  },
  "language_info": {
   "codemirror_mode": {
    "name": "ipython",
    "version": 3
   },
   "file_extension": ".py",
   "mimetype": "text/x-python",
   "name": "python",
   "nbconvert_exporter": "python",
   "pygments_lexer": "ipython3",
   "version": "3.12.7"
  }
 },
 "nbformat": 4,
 "nbformat_minor": 5
}
